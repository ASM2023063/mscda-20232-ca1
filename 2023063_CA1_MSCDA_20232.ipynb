{
 "cells": [
  {
   "cell_type": "markdown",
   "id": "35764ecb",
   "metadata": {},
   "source": [
    "# Title \n",
    "\n",
    "Continuous Assessment 1 06/10/2023 - BD & ADA Module // MSc in Data Analytics Y1 S2 - <b>Student ID 2023063"
   ]
  },
  {
   "cell_type": "markdown",
   "id": "7cd38011",
   "metadata": {},
   "source": [
    "## Introduction\n",
    "write intro\n",
    "\n",
    "--\n",
    "\n",
    "Data source: https://www.kaggle.com/datasets/mkechinov/ecommerce-events-history-in-cosmetics-shop/data"
   ]
  },
  {
   "cell_type": "markdown",
   "id": "aaae177a",
   "metadata": {},
   "source": [
    "## Practical Big Data (PySparkSQL) - Prep data"
   ]
  },
  {
   "cell_type": "code",
   "execution_count": 1,
   "id": "5390863f",
   "metadata": {},
   "outputs": [],
   "source": [
    "#Import PySparkSQL\n",
    "from pyspark.sql import SparkSession        \n",
    "\n",
    "# Create SparkSession\n",
    "spark = (SparkSession\n",
    "  .builder\n",
    "  .appName(\"SparkSQL\")\n",
    "  .getOrCreate())\n",
    "\n",
    "# Path to dataset\n",
    "csv_file = \"file:////home/hduser/Downloads/CA1/2020-Jan.csv\""
   ]
  },
  {
   "cell_type": "code",
   "execution_count": 2,
   "id": "fb0a4a62",
   "metadata": {
    "scrolled": true
   },
   "outputs": [
    {
     "name": "stderr",
     "output_type": "stream",
     "text": [
      "                                                                                \r"
     ]
    }
   ],
   "source": [
    "# Read and create a temporary view\n",
    "df = (spark.read.format(\"csv\")\n",
    "  .option(\"inferSchema\", \"true\")\n",
    "  .option(\"header\", \"true\")\n",
    "  .load(csv_file))\n",
    "df.createOrReplaceTempView(\"rawdata\")"
   ]
  },
  {
   "cell_type": "code",
   "execution_count": 3,
   "id": "4bb4f2fa",
   "metadata": {},
   "outputs": [
    {
     "name": "stdout",
     "output_type": "stream",
     "text": [
      "root\n",
      " |-- event_time: string (nullable = true)\n",
      " |-- event_type: string (nullable = true)\n",
      " |-- product_id: integer (nullable = true)\n",
      " |-- category_id: long (nullable = true)\n",
      " |-- category_code: string (nullable = true)\n",
      " |-- brand: string (nullable = true)\n",
      " |-- price: double (nullable = true)\n",
      " |-- user_id: integer (nullable = true)\n",
      " |-- user_session: string (nullable = true)\n",
      "\n"
     ]
    }
   ],
   "source": [
    "# Visualise inferred schema\n",
    "data = spark.sql(\"SELECT * FROM rawdata\")\n",
    "data.printSchema()"
   ]
  },
  {
   "cell_type": "code",
   "execution_count": 4,
   "id": "116d91be",
   "metadata": {},
   "outputs": [
    {
     "name": "stdout",
     "output_type": "stream",
     "text": [
      "+--------------------+----------+----------+-------------------+-------------+--------+-----+---------+--------------------+\n",
      "|          event_time|event_type|product_id|        category_id|category_code|   brand|price|  user_id|        user_session|\n",
      "+--------------------+----------+----------+-------------------+-------------+--------+-----+---------+--------------------+\n",
      "|2020-01-01 00:00:...|      view|   5809910|1602943681873052386|         null| grattol| 5.24|595414620|4adb70bb-edbd-498...|\n",
      "|2020-01-01 00:00:...|      view|   5812943|1487580012121948301|         null|kinetics| 3.97|595414640|c8c5205d-be43-4f1...|\n",
      "|2020-01-01 00:00:...|      view|   5798924|1783999068867920626|         null|  zinger| 3.97|595412617|46a5010f-bd69-4fb...|\n",
      "|2020-01-01 00:00:...|      view|   5793052|1487580005754995573|         null|    null| 4.92|420652863|546f6af3-a517-475...|\n",
      "|2020-01-01 00:00:...|      view|   5899926|2115334439910245200|         null|    null| 3.92|484071203|cff70ddf-529e-4b0...|\n",
      "+--------------------+----------+----------+-------------------+-------------+--------+-----+---------+--------------------+\n",
      "only showing top 5 rows\n",
      "\n"
     ]
    }
   ],
   "source": [
    "# Display 5 first rows\n",
    "data.show(5)"
   ]
  },
  {
   "cell_type": "code",
   "execution_count": 5,
   "id": "56723922",
   "metadata": {
    "scrolled": true
   },
   "outputs": [
    {
     "name": "stderr",
     "output_type": "stream",
     "text": [
      "\r",
      "[Stage 3:>                                                          (0 + 4) / 4]\r"
     ]
    },
    {
     "name": "stdout",
     "output_type": "stream",
     "text": [
      "+-----------------------+\n",
      "|count(DISTINCT user_id)|\n",
      "+-----------------------+\n",
      "|                 410073|\n",
      "+-----------------------+\n",
      "\n"
     ]
    },
    {
     "name": "stderr",
     "output_type": "stream",
     "text": [
      "\r",
      "                                                                                \r"
     ]
    }
   ],
   "source": [
    "# Number of users\n",
    "action = spark.sql(\"SELECT count(distinct user_id) FROM rawdata\")\n",
    "action.show()"
   ]
  },
  {
   "cell_type": "code",
   "execution_count": 6,
   "id": "a8e6bf5b",
   "metadata": {
    "scrolled": true
   },
   "outputs": [
    {
     "name": "stderr",
     "output_type": "stream",
     "text": [
      "\r",
      "[Stage 9:>                                                          (0 + 4) / 4]\r"
     ]
    },
    {
     "name": "stdout",
     "output_type": "stream",
     "text": [
      "+--------------------------+\n",
      "|count(DISTINCT event_type)|\n",
      "+--------------------------+\n",
      "|                         4|\n",
      "+--------------------------+\n",
      "\n"
     ]
    },
    {
     "name": "stderr",
     "output_type": "stream",
     "text": [
      "\r",
      "                                                                                \r"
     ]
    }
   ],
   "source": [
    "#Number of events\n",
    "action = spark.sql(\"SELECT count(distinct event_type) FROM rawdata\")\n",
    "action.show()"
   ]
  },
  {
   "cell_type": "code",
   "execution_count": 7,
   "id": "e1214e0b",
   "metadata": {
    "scrolled": true
   },
   "outputs": [
    {
     "name": "stderr",
     "output_type": "stream",
     "text": [
      "\r",
      "[Stage 15:>                                                         (0 + 4) / 4]\r"
     ]
    },
    {
     "name": "stdout",
     "output_type": "stream",
     "text": [
      "+--------------------------+\n",
      "|count(DISTINCT product_id)|\n",
      "+--------------------------+\n",
      "|                     45484|\n",
      "+--------------------------+\n",
      "\n"
     ]
    },
    {
     "name": "stderr",
     "output_type": "stream",
     "text": [
      "\r",
      "                                                                                \r"
     ]
    }
   ],
   "source": [
    "# Number of products\n",
    "action = spark.sql(\"SELECT count(distinct product_id) FROM rawdata\")\n",
    "action.show()"
   ]
  },
  {
   "cell_type": "code",
   "execution_count": 8,
   "id": "f5f26289",
   "metadata": {},
   "outputs": [
    {
     "name": "stderr",
     "output_type": "stream",
     "text": [
      "\r",
      "[Stage 21:>                                                         (0 + 4) / 4]\r"
     ]
    },
    {
     "name": "stdout",
     "output_type": "stream",
     "text": [
      "+----------+--------+\n",
      "|product_id|count(1)|\n",
      "+----------+--------+\n",
      "|   5809910|   36967|\n",
      "|   5809912|   14310|\n",
      "|   5917178|   12634|\n",
      "|   5700037|   11429|\n",
      "|   5686925|   11098|\n",
      "|   5854897|   11070|\n",
      "|   5802432|    9865|\n",
      "|   5751383|    9407|\n",
      "|   5751422|    9365|\n",
      "|   5815662|    9190|\n",
      "+----------+--------+\n",
      "only showing top 10 rows\n",
      "\n"
     ]
    },
    {
     "name": "stderr",
     "output_type": "stream",
     "text": [
      "\r",
      "                                                                                \r"
     ]
    }
   ],
   "source": [
    "# Top seller product\n",
    "countProduct = spark.sql(\"SELECT product_id, count(*) FROM rawdata GROUP BY product_id ORDER BY count(*) desc\")\n",
    "countProduct.show(10)"
   ]
  },
  {
   "cell_type": "code",
   "execution_count": 9,
   "id": "2d158356",
   "metadata": {
    "scrolled": false
   },
   "outputs": [
    {
     "name": "stderr",
     "output_type": "stream",
     "text": [
      "\r",
      "[Stage 24:>                                                         (0 + 4) / 4]\r"
     ]
    },
    {
     "name": "stdout",
     "output_type": "stream",
     "text": [
      "+--------------------+----------------+----------+-------------------+-------------+-------+-----+---------+--------------------+\n",
      "|          event_time|      event_type|product_id|        category_id|category_code|  brand|price|  user_id|        user_session|\n",
      "+--------------------+----------------+----------+-------------------+-------------+-------+-----+---------+--------------------+\n",
      "|2020-01-01 00:00:...|            view|   5809910|1602943681873052386|         null|grattol| 5.24|595414620|4adb70bb-edbd-498...|\n",
      "|2020-01-01 14:21:...|            view|   5809910|1602943681873052386|         null|grattol| 5.24|592285428|33ecf984-0438-459...|\n",
      "|2020-01-01 16:56:...|            view|   5809910|1602943681873052386|         null|grattol| 5.24|595651372|121148f9-4e42-48b...|\n",
      "|2020-01-01 18:40:...|remove_from_cart|   5809910|1602943681873052386|         null|grattol| 5.24|583351843|85fa8bff-02e8-4a5...|\n",
      "|2020-01-02 06:09:...|            view|   5809910|1602943681873052386|         null|grattol| 5.24|529378930|b99ea2eb-1c67-4f3...|\n",
      "+--------------------+----------------+----------+-------------------+-------------+-------+-----+---------+--------------------+\n",
      "only showing top 5 rows\n",
      "\n"
     ]
    },
    {
     "name": "stderr",
     "output_type": "stream",
     "text": [
      "\r",
      "[Stage 24:===========================================>              (3 + 1) / 4]\r",
      "\r",
      "                                                                                \r"
     ]
    }
   ],
   "source": [
    "# New dataframe with topseller product\n",
    "topseller = spark.sql(\"SELECT DISTINCT * FROM rawdata WHERE product_id LIKE 5809910\")\n",
    "topseller.show(5)"
   ]
  },
  {
   "cell_type": "code",
   "execution_count": 10,
   "id": "cf627a31",
   "metadata": {},
   "outputs": [],
   "source": [
    "# Add new column with condition to topseller df\n",
    "# If event_time is in the first couple of weeks of the month, column FN1 (fortnight1) is equals to 1 (True)\n",
    "# If in the last 2 weeks of the month column FN1 is equals 0 (False)\n",
    "\n",
    "from pyspark.sql.functions import when\n",
    "from pyspark.sql.functions import lit\n",
    "\n",
    "topseller = topseller.withColumn(\"FN1\", \\\n",
    "   when((topseller.event_time < '2020-01-16'), lit(1)) \\\n",
    "     .when((topseller.event_time >= '2020-01-15'), lit(0)) \\\n",
    "                                )"
   ]
  },
  {
   "cell_type": "code",
   "execution_count": 11,
   "id": "bc528ea4",
   "metadata": {},
   "outputs": [
    {
     "name": "stderr",
     "output_type": "stream",
     "text": [
      "\r",
      "[Stage 27:>                                                         (0 + 4) / 4]\r"
     ]
    },
    {
     "name": "stdout",
     "output_type": "stream",
     "text": [
      "+--------------------+----------------+----------+-------------------+-------------+-------+-----+---------+--------------------+---+\n",
      "|          event_time|      event_type|product_id|        category_id|category_code|  brand|price|  user_id|        user_session|FN1|\n",
      "+--------------------+----------------+----------+-------------------+-------------+-------+-----+---------+--------------------+---+\n",
      "|2020-01-01 00:00:...|            view|   5809910|1602943681873052386|         null|grattol| 5.24|595414620|4adb70bb-edbd-498...|  1|\n",
      "|2020-01-01 14:21:...|            view|   5809910|1602943681873052386|         null|grattol| 5.24|592285428|33ecf984-0438-459...|  1|\n",
      "|2020-01-01 16:56:...|            view|   5809910|1602943681873052386|         null|grattol| 5.24|595651372|121148f9-4e42-48b...|  1|\n",
      "|2020-01-01 18:40:...|remove_from_cart|   5809910|1602943681873052386|         null|grattol| 5.24|583351843|85fa8bff-02e8-4a5...|  1|\n",
      "|2020-01-02 06:09:...|            view|   5809910|1602943681873052386|         null|grattol| 5.24|529378930|b99ea2eb-1c67-4f3...|  1|\n",
      "+--------------------+----------------+----------+-------------------+-------------+-------+-----+---------+--------------------+---+\n",
      "only showing top 5 rows\n",
      "\n"
     ]
    },
    {
     "name": "stderr",
     "output_type": "stream",
     "text": [
      "\r",
      "                                                                                \r"
     ]
    }
   ],
   "source": [
    "# Show dataframe\n",
    "topseller.show(5)"
   ]
  },
  {
   "cell_type": "code",
   "execution_count": 12,
   "id": "eef848d6",
   "metadata": {},
   "outputs": [],
   "source": [
    "# Drop columns\n",
    "topseller = topseller.drop(*[\"product_id\",\"category_id\",\"category_code\",\"brand\",\"price\"])"
   ]
  },
  {
   "cell_type": "code",
   "execution_count": 13,
   "id": "699b90d0",
   "metadata": {
    "scrolled": false
   },
   "outputs": [
    {
     "name": "stderr",
     "output_type": "stream",
     "text": [
      "[Stage 30:==============>                                           (1 + 3) / 4]\r"
     ]
    },
    {
     "name": "stdout",
     "output_type": "stream",
     "text": [
      "+-----------------------+----------------+---------+------------------------------------+---+\n",
      "|event_time             |event_type      |user_id  |user_session                        |FN1|\n",
      "+-----------------------+----------------+---------+------------------------------------+---+\n",
      "|2020-01-01 00:00:00 UTC|view            |595414620|4adb70bb-edbd-4981-b60f-a05bfd32683a|1  |\n",
      "|2020-01-01 14:21:02 UTC|view            |592285428|33ecf984-0438-459c-aea6-241319336d75|1  |\n",
      "|2020-01-01 16:56:51 UTC|view            |595651372|121148f9-4e42-48ba-94eb-7aca8935940b|1  |\n",
      "|2020-01-01 18:40:56 UTC|remove_from_cart|583351843|85fa8bff-02e8-4a5f-80b8-a129ce5555e3|1  |\n",
      "|2020-01-02 06:09:01 UTC|view            |529378930|b99ea2eb-1c67-4f39-ab20-792ebfb87f93|1  |\n",
      "|2020-01-02 08:21:31 UTC|view            |595842440|b257db78-93e8-46d4-9893-56194751a4d9|1  |\n",
      "|2020-01-03 06:16:01 UTC|view            |595798798|8b2d9742-eb2f-4bbd-8387-ace81cfdef2a|1  |\n",
      "|2020-01-03 11:17:22 UTC|cart            |596055322|74521846-45da-4a1e-a61e-19fbe7f6fb82|1  |\n",
      "|2020-01-03 11:18:18 UTC|view            |552479336|46093a80-aae3-4d2d-a734-44c0acd990e3|1  |\n",
      "|2020-01-03 11:57:45 UTC|view            |184175105|61552a84-dd9b-4198-8b8e-9f906b0bc7ac|1  |\n",
      "|2020-01-03 12:22:49 UTC|cart            |539959324|aadf485a-fc1f-4e4d-8ea0-76d10398bee0|1  |\n",
      "|2020-01-03 16:22:05 UTC|cart            |435099295|2ab5c434-7f0e-47c0-9c90-07dfb946032e|1  |\n",
      "|2020-01-03 20:32:37 UTC|cart            |475358306|affbcc05-6a17-4c17-9b94-f33ee4441fba|1  |\n",
      "|2020-01-03 20:57:39 UTC|cart            |596505004|eff9ad2f-8a88-44f5-9930-6d62cd7d37fc|1  |\n",
      "|2020-01-04 00:36:03 UTC|cart            |594483022|b7eb4050-4a26-4f0b-b9bd-ab216ec9fdb9|1  |\n",
      "|2020-01-04 05:25:06 UTC|view            |472431716|585038dd-5e55-44cf-976a-2e75228a7dde|1  |\n",
      "|2020-01-04 08:22:18 UTC|view            |563956193|443067b6-b310-4515-8923-f758194b6ef8|1  |\n",
      "|2020-01-04 14:12:56 UTC|view            |596755912|f7306ec2-7f8f-4ecb-b7d6-530db6163922|1  |\n",
      "|2020-01-04 22:06:21 UTC|view            |531524317|61ed8599-5660-4642-9f7b-e3c8f3c426bd|1  |\n",
      "|2020-01-05 01:41:33 UTC|view            |596950518|0e791690-662e-4b37-9018-91f1b0ba6872|1  |\n",
      "|2020-01-05 03:11:55 UTC|view            |596790391|5ae1614f-f446-42d8-8da9-df118519070a|1  |\n",
      "|2020-01-05 07:37:28 UTC|view            |588577408|d793dbf9-f036-4d1b-9bc0-def292dd8a81|1  |\n",
      "|2020-01-05 09:52:31 UTC|purchase        |539527508|4786cbb1-c758-48c1-817b-9de1b2440a7c|1  |\n",
      "|2020-01-05 12:27:15 UTC|view            |449302697|11a60a26-5028-4520-8fbe-727237d703c6|1  |\n",
      "|2020-01-05 15:49:58 UTC|view            |539719841|9a89676b-b1b9-4c45-8e17-c29aa28df8d5|1  |\n",
      "|2020-01-05 18:01:51 UTC|cart            |503677210|36bbd982-9d72-4a2e-8fa8-4a4af0f59c60|1  |\n",
      "|2020-01-05 18:29:13 UTC|view            |519750186|3b262140-8c50-4873-8aef-48ddbc62ac6c|1  |\n",
      "|2020-01-05 21:23:36 UTC|cart            |581997742|5986f991-d5b9-4619-9c8a-3de32fa576a3|1  |\n",
      "|2020-01-05 21:56:05 UTC|cart            |597325256|9bdec8f1-e897-4896-a764-2a8892257a17|1  |\n",
      "|2020-01-06 12:14:06 UTC|view            |597534077|bfd364a3-f365-4d3f-a1ad-9f5c8c270667|1  |\n",
      "|2020-01-06 12:23:12 UTC|view            |581450592|ecd6ce0f-5b47-4f1d-a57a-ed73c604bc52|1  |\n",
      "|2020-01-06 19:06:41 UTC|cart            |535494097|f75f059b-c91a-49c7-a3aa-c0ef73e0d2bb|1  |\n",
      "|2020-01-06 19:09:51 UTC|view            |597682618|97b57cbc-1b9d-4757-90d1-f47a222cf5a9|1  |\n",
      "|2020-01-07 09:49:43 UTC|view            |597869940|1345f48f-c634-479c-81b8-46588c1ae28a|1  |\n",
      "|2020-01-07 11:56:36 UTC|cart            |597914857|530d2fa9-a738-452a-bf61-13f28caa96cf|1  |\n",
      "|2020-01-07 15:58:30 UTC|view            |571624975|d4087e9a-e7f1-431f-9727-3fce3cb84674|1  |\n",
      "|2020-01-08 05:28:52 UTC|view            |582750185|b373e8b0-b7e2-4c22-b77f-3b0709c6ff38|1  |\n",
      "|2020-01-08 10:17:23 UTC|view            |504542912|a2ec360d-1846-493a-8ea9-2b0e371e1b3b|1  |\n",
      "|2020-01-08 13:16:14 UTC|view            |562633066|b24e2c77-0b49-4d80-aada-e7a49dc48f69|1  |\n",
      "|2020-01-09 12:17:07 UTC|view            |547468729|4f04e6e2-738f-4ae8-a19d-954efbbbfe1c|1  |\n",
      "|2020-01-09 17:19:23 UTC|view            |589446853|96cecd84-851b-4c9d-9e7f-cd9329cfe601|1  |\n",
      "|2020-01-09 17:48:22 UTC|view            |559769359|786f82eb-18dc-40c6-85b1-87a1b5abb185|1  |\n",
      "|2020-01-09 19:50:17 UTC|remove_from_cart|581988526|4a074281-9c12-40cb-bfd9-d416df26f37c|1  |\n",
      "|2020-01-01 15:42:37 UTC|view            |593058917|79211adf-b36e-47b4-ba17-80f7639f9745|1  |\n",
      "|2020-01-01 16:21:27 UTC|remove_from_cart|595617599|9fcf2d0e-61a7-4f8a-8669-9659db7e34f4|1  |\n",
      "|2020-01-01 19:33:49 UTC|view            |557527107|66534c7b-c4fb-400d-a828-4be5a757c649|1  |\n",
      "|2020-01-01 23:00:48 UTC|view            |535670658|6d4b2276-27d5-4734-a4fe-e288d8277fe7|1  |\n",
      "|2020-01-02 04:13:54 UTC|view            |481918135|f3aab907-c4c2-45f5-873b-efd5723ee131|1  |\n",
      "|2020-01-02 07:27:19 UTC|view            |595257516|a42a95e4-ebcf-4555-a412-9313e02bfd29|1  |\n",
      "|2020-01-02 08:27:19 UTC|view            |556816401|d56322a7-8ea8-4444-bee6-c26d6e512234|1  |\n",
      "|2020-01-02 11:56:53 UTC|view            |546167624|e47a8af5-de04-424b-82bf-b3cdb6faeb88|1  |\n",
      "|2020-01-02 11:59:04 UTC|view            |460852081|458c65f4-fa04-46e6-8f57-f37536f37cae|1  |\n",
      "|2020-01-02 20:08:33 UTC|view            |441969831|47f4ea47-1b78-4e89-96b5-d7affa7a8cee|1  |\n",
      "|2020-01-03 10:51:57 UTC|view            |589552808|467157ee-be7c-4419-a11a-baef6b010fb1|1  |\n",
      "|2020-01-03 13:29:32 UTC|cart            |581966609|855f3836-5027-4763-bf02-35f5ecaf26d8|1  |\n",
      "|2020-01-03 16:52:43 UTC|view            |570599236|1274d306-4b47-4e5a-bb9d-e89a4705c6b0|1  |\n",
      "|2020-01-03 22:19:42 UTC|view            |596487565|5a1cb482-ee23-47e1-89d9-b540b1942800|1  |\n",
      "|2020-01-04 07:07:44 UTC|view            |304843054|9cba297d-bb5f-4be8-8d17-e44985e649b3|1  |\n",
      "|2020-01-04 08:31:15 UTC|cart            |196780785|e49560f4-7d4f-461b-9942-6f7c91ae7225|1  |\n",
      "|2020-01-04 10:54:40 UTC|view            |275023240|7217f4c1-8cd3-4613-add9-4f6a36601bfe|1  |\n",
      "|2020-01-04 11:17:53 UTC|view            |546176536|e67facc6-81cd-42f5-b328-0243e8e82fd0|1  |\n",
      "|2020-01-04 11:44:44 UTC|view            |559093302|03f2993f-4355-46fd-8bf3-f9e2e5f146a2|1  |\n",
      "|2020-01-04 12:02:35 UTC|purchase        |444458155|205249b3-4ee4-4d5d-90df-cdfe539a5061|1  |\n",
      "|2020-01-04 14:34:39 UTC|view            |596771041|4d0751d1-c6e2-4e56-9025-587dcb1870f2|1  |\n",
      "|2020-01-04 15:48:43 UTC|view            |596789371|8c38e084-9e04-4ff4-94f6-5bd3724dfdf2|1  |\n",
      "|2020-01-05 10:24:03 UTC|view            |597085850|d3e1d261-a52f-41a1-98bd-516a7098dbf7|1  |\n",
      "|2020-01-05 12:01:19 UTC|view            |436064104|931ee167-6360-101e-99f7-aaa607b6c0eb|1  |\n",
      "|2020-01-05 14:21:48 UTC|view            |574730693|a7b8a800-dc6e-485a-b5fa-827c1041b38a|1  |\n",
      "|2020-01-05 16:09:17 UTC|remove_from_cart|412510856|9ac2255b-a64b-492b-b3cd-68f5b1034bed|1  |\n",
      "|2020-01-05 16:25:57 UTC|view            |575977583|28579257-38dd-4238-bbe0-672902190c95|1  |\n",
      "|2020-01-05 17:23:31 UTC|view            |526786114|8901fbaa-030c-4f79-9ffd-91e62455fa23|1  |\n",
      "|2020-01-05 17:25:13 UTC|view            |529280076|cbe688c3-a511-4a8f-b4ae-31056c9d9776|1  |\n",
      "|2020-01-05 17:43:32 UTC|purchase        |596712997|e5f25309-2730-44ed-9e77-06d4fd9d7444|1  |\n",
      "|2020-01-05 20:08:36 UTC|view            |537890663|bf42c6e2-dc53-4e68-8a60-7609b101d907|1  |\n",
      "|2020-01-05 20:19:34 UTC|view            |537890663|bf42c6e2-dc53-4e68-8a60-7609b101d907|1  |\n",
      "|2020-01-06 05:47:20 UTC|view            |584858294|ba2e7988-a057-4e71-acb2-8ca308f4dbe3|1  |\n",
      "|2020-01-06 10:41:04 UTC|cart            |567641425|1b8464cf-9ae4-4d17-9dea-7f62f889d7b4|1  |\n",
      "|2020-01-06 16:35:00 UTC|view            |584912850|70202e8b-1fec-4aa1-81b5-735c89d01bf2|1  |\n",
      "|2020-01-06 17:02:43 UTC|view            |597638957|84aa448e-6d37-493f-903d-f8c7ce86f876|1  |\n",
      "|2020-01-06 21:09:21 UTC|view            |440486681|641559f0-6293-42fb-b4ed-0b3c624c89e4|1  |\n",
      "|2020-01-07 19:30:46 UTC|cart            |586222796|230e8774-a35d-4dba-8549-770c2a453886|1  |\n",
      "|2020-01-07 20:39:53 UTC|view            |309627860|259164fb-d4e5-4093-8398-b6bf7e93f464|1  |\n",
      "|2020-01-08 16:31:31 UTC|remove_from_cart|571465925|46340dd5-66c8-43a4-a195-778042619674|1  |\n",
      "|2020-01-08 17:20:01 UTC|cart            |569478947|0b587086-7426-4e5b-909f-bda59ac45c20|1  |\n",
      "|2020-01-08 17:26:05 UTC|remove_from_cart|590877313|6fa680fa-4594-4f7a-939d-527887153139|1  |\n",
      "|2020-01-08 18:03:49 UTC|remove_from_cart|585318040|ca4330b5-cadb-45ff-9296-14e99890fccb|1  |\n",
      "|2020-01-09 07:38:38 UTC|view            |598694011|f915af88-68b8-4616-b96c-c513e5d4882c|1  |\n",
      "|2020-01-09 08:15:29 UTC|remove_from_cart|448435504|82c43854-6b92-4cbd-9d26-6b47fd63004a|1  |\n",
      "|2020-01-09 17:57:26 UTC|remove_from_cart|495865974|b875c244-32be-460c-a628-37acec8b9f3c|1  |\n",
      "|2020-01-10 04:32:30 UTC|view            |599086374|350b42e1-73c7-4bdc-ba73-f4656f69fcc7|1  |\n",
      "|2020-01-01 04:28:34 UTC|view            |548676596|420407ef-74f5-4172-b0a7-1cb00db83e84|1  |\n",
      "|2020-01-01 05:07:31 UTC|view            |595453834|40de8574-6c06-4b4e-901d-ca6ebb1a1463|1  |\n",
      "|2020-01-01 15:33:41 UTC|view            |592000633|f171119a-4bcf-416b-88cb-24bb0370cbb0|1  |\n",
      "|2020-01-01 16:41:32 UTC|cart            |595645465|b593ced3-f1b7-406b-9dc1-09b97e24b7f1|1  |\n",
      "|2020-01-01 18:51:45 UTC|view            |533460235|d50eb92a-17fb-49d9-bcf3-3f1cb040f6e4|1  |\n",
      "|2020-01-01 21:32:27 UTC|view            |489318557|8e934fb6-7ff8-4e68-a04c-46fa04a624aa|1  |\n",
      "|2020-01-01 22:21:52 UTC|view            |420705171|215c7205-9dda-4930-9693-398fc4fe7115|1  |\n",
      "|2020-01-01 23:40:51 UTC|view            |595752432|2c0b6792-8554-448c-9f2e-eb273142da45|1  |\n",
      "|2020-01-02 00:32:51 UTC|view            |494696932|2a705c82-90a5-4e19-a276-4f101c178264|1  |\n",
      "|2020-01-02 11:51:08 UTC|cart            |552859697|83848011-ba18-4dd4-9305-e2d313ff6b97|1  |\n",
      "+-----------------------+----------------+---------+------------------------------------+---+\n",
      "only showing top 100 rows\n",
      "\n"
     ]
    },
    {
     "name": "stderr",
     "output_type": "stream",
     "text": [
      "\r",
      "                                                                                \r"
     ]
    }
   ],
   "source": [
    "# Show updated topseller df\n",
    "topseller.show(100,False)"
   ]
  },
  {
   "cell_type": "code",
   "execution_count": 33,
   "id": "379c9a32",
   "metadata": {
    "scrolled": false
   },
   "outputs": [
    {
     "name": "stderr",
     "output_type": "stream",
     "text": [
      "\r",
      "[Stage 57:>                                                         (0 + 4) / 4]\r"
     ]
    },
    {
     "name": "stdout",
     "output_type": "stream",
     "text": [
      "+-----------------------+----------------+------------------------------------+\n",
      "|event_time             |event_type      |user_session                        |\n",
      "+-----------------------+----------------+------------------------------------+\n",
      "|2020-01-02 17:06:46 UTC|view            |34d0d7d2-07f0-4aa0-a4a9-07ff03e52306|\n",
      "|2020-01-02 17:06:55 UTC|cart            |34d0d7d2-07f0-4aa0-a4a9-07ff03e52306|\n",
      "|2020-01-02 17:12:47 UTC|cart            |bf38672f-ea97-4977-959e-7e459ac94f81|\n",
      "|2020-01-02 17:15:01 UTC|remove_from_cart|bf38672f-ea97-4977-959e-7e459ac94f81|\n",
      "|2020-01-02 17:15:05 UTC|remove_from_cart|bf38672f-ea97-4977-959e-7e459ac94f81|\n",
      "|2020-01-02 17:46:04 UTC|view            |56604a11-65dd-4617-8a6b-a9ef637229ea|\n",
      "|2020-01-02 17:46:12 UTC|cart            |56604a11-65dd-4617-8a6b-a9ef637229ea|\n",
      "|2020-01-04 12:02:35 UTC|purchase        |205249b3-4ee4-4d5d-90df-cdfe539a5061|\n",
      "|2020-01-07 17:57:09 UTC|view            |7b48418d-c227-4ac9-a1e1-e57ee16827c0|\n",
      "+-----------------------+----------------+------------------------------------+\n",
      "\n"
     ]
    },
    {
     "name": "stderr",
     "output_type": "stream",
     "text": [
      "\r",
      "                                                                                \r"
     ]
    }
   ],
   "source": [
    "from pyspark.sql.functions import asc\n",
    "topseller.select(\"event_time\",\"event_type\",\"user_session\").filter(\"user_id = 444458155\").orderBy(asc(\"event_time\")).show(truncate=False)"
   ]
  },
  {
   "cell_type": "code",
   "execution_count": null,
   "id": "36642474",
   "metadata": {},
   "outputs": [],
   "source": []
  }
 ],
 "metadata": {
  "kernelspec": {
   "display_name": "Python 3 (ipykernel)",
   "language": "python",
   "name": "python3"
  },
  "language_info": {
   "codemirror_mode": {
    "name": "ipython",
    "version": 3
   },
   "file_extension": ".py",
   "mimetype": "text/x-python",
   "name": "python",
   "nbconvert_exporter": "python",
   "pygments_lexer": "ipython3",
   "version": "3.10.12"
  }
 },
 "nbformat": 4,
 "nbformat_minor": 5
}
