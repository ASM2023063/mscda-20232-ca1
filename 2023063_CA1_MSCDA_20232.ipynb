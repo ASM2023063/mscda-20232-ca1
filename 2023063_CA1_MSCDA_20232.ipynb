{
 "cells": [
  {
   "cell_type": "markdown",
   "id": "6fcbb5ab",
   "metadata": {},
   "source": [
    "# Title \n",
    "\n",
    "Continuous Assessment 1 06/10/2023 - BD & ADA Module // MSc in Data Analytics Y1 S2 - <b>Student ID 2023063"
   ]
  },
  {
   "cell_type": "markdown",
   "id": "ba98d24f",
   "metadata": {},
   "source": [
    "## Introduction\n",
    "write intro\n",
    "\n",
    "--\n",
    "\n",
    "Data source: https://www.kaggle.com/datasets/mkechinov/ecommerce-events-history-in-cosmetics-shop/data"
   ]
  },
  {
   "cell_type": "markdown",
   "id": "5fc65da4",
   "metadata": {},
   "source": [
    "## Part 1 - PySparkSQL"
   ]
  },
  {
   "cell_type": "code",
   "execution_count": 1,
   "id": "472179ad",
   "metadata": {},
   "outputs": [],
   "source": [
    "#Import PySparkSQL\n",
    "import pyspark\n",
    "from pyspark.sql import SparkSession        \n",
    "\n",
    "# Create SparkSession\n",
    "spark = (SparkSession\n",
    "  .builder\n",
    "  .appName(\"SparkSQL\")\n",
    "  .getOrCreate())\n",
    "\n",
    "# Path to dataset\n",
    "csv_file = \"file:////home/hduser/Downloads/CA1/2020-Jan.csv\""
   ]
  },
  {
   "cell_type": "code",
   "execution_count": 2,
   "id": "4619ca46",
   "metadata": {
    "scrolled": true
   },
   "outputs": [
    {
     "name": "stderr",
     "output_type": "stream",
     "text": [
      "                                                                                \r"
     ]
    }
   ],
   "source": [
    "# Read and create a temporary view\n",
    "df = (spark.read.format(\"csv\")\n",
    "  .option(\"inferSchema\", \"true\")\n",
    "  .option(\"header\", \"true\")\n",
    "  .load(csv_file))\n",
    "df.createOrReplaceTempView(\"rawdata\")"
   ]
  },
  {
   "cell_type": "code",
   "execution_count": 3,
   "id": "78da792e",
   "metadata": {},
   "outputs": [
    {
     "name": "stdout",
     "output_type": "stream",
     "text": [
      "root\n",
      " |-- event_time: string (nullable = true)\n",
      " |-- event_type: string (nullable = true)\n",
      " |-- product_id: integer (nullable = true)\n",
      " |-- category_id: long (nullable = true)\n",
      " |-- category_code: string (nullable = true)\n",
      " |-- brand: string (nullable = true)\n",
      " |-- price: double (nullable = true)\n",
      " |-- user_id: integer (nullable = true)\n",
      " |-- user_session: string (nullable = true)\n",
      "\n"
     ]
    }
   ],
   "source": [
    "# Visualise inferred schema\n",
    "data = spark.sql(\"SELECT * FROM rawdata\")\n",
    "data.printSchema()"
   ]
  },
  {
   "cell_type": "code",
   "execution_count": 4,
   "id": "583586a5",
   "metadata": {},
   "outputs": [
    {
     "name": "stdout",
     "output_type": "stream",
     "text": [
      "+--------------------+----------+----------+-------------------+-------------+--------+-----+---------+--------------------+\n",
      "|          event_time|event_type|product_id|        category_id|category_code|   brand|price|  user_id|        user_session|\n",
      "+--------------------+----------+----------+-------------------+-------------+--------+-----+---------+--------------------+\n",
      "|2020-01-01 00:00:...|      view|   5809910|1602943681873052386|         null| grattol| 5.24|595414620|4adb70bb-edbd-498...|\n",
      "|2020-01-01 00:00:...|      view|   5812943|1487580012121948301|         null|kinetics| 3.97|595414640|c8c5205d-be43-4f1...|\n",
      "|2020-01-01 00:00:...|      view|   5798924|1783999068867920626|         null|  zinger| 3.97|595412617|46a5010f-bd69-4fb...|\n",
      "|2020-01-01 00:00:...|      view|   5793052|1487580005754995573|         null|    null| 4.92|420652863|546f6af3-a517-475...|\n",
      "|2020-01-01 00:00:...|      view|   5899926|2115334439910245200|         null|    null| 3.92|484071203|cff70ddf-529e-4b0...|\n",
      "+--------------------+----------+----------+-------------------+-------------+--------+-----+---------+--------------------+\n",
      "only showing top 5 rows\n",
      "\n"
     ]
    }
   ],
   "source": [
    "# Display 5 first rows\n",
    "data.show(5)"
   ]
  },
  {
   "cell_type": "code",
   "execution_count": 5,
   "id": "6b43819e",
   "metadata": {
    "scrolled": true
   },
   "outputs": [
    {
     "name": "stderr",
     "output_type": "stream",
     "text": [
      "\r",
      "[Stage 3:>                                                          (0 + 4) / 4]\r"
     ]
    },
    {
     "name": "stdout",
     "output_type": "stream",
     "text": [
      "+-----------------------+\n",
      "|count(DISTINCT user_id)|\n",
      "+-----------------------+\n",
      "|                 410073|\n",
      "+-----------------------+\n",
      "\n"
     ]
    },
    {
     "name": "stderr",
     "output_type": "stream",
     "text": [
      "\r",
      "                                                                                \r"
     ]
    }
   ],
   "source": [
    "# Number of users\n",
    "action = spark.sql(\"SELECT count(distinct user_id) FROM rawdata\")\n",
    "action.show()"
   ]
  },
  {
   "cell_type": "code",
   "execution_count": 6,
   "id": "67c070c5",
   "metadata": {
    "scrolled": true
   },
   "outputs": [
    {
     "name": "stderr",
     "output_type": "stream",
     "text": [
      "\r",
      "[Stage 9:>                                                          (0 + 4) / 4]\r"
     ]
    },
    {
     "name": "stdout",
     "output_type": "stream",
     "text": [
      "+--------------------------+\n",
      "|count(DISTINCT event_type)|\n",
      "+--------------------------+\n",
      "|                         4|\n",
      "+--------------------------+\n",
      "\n"
     ]
    },
    {
     "name": "stderr",
     "output_type": "stream",
     "text": [
      "\r",
      "[Stage 9:=============================>                             (2 + 2) / 4]\r",
      "\r",
      "                                                                                \r"
     ]
    }
   ],
   "source": [
    "# Number of events\n",
    "action = spark.sql(\"SELECT count(distinct event_type) FROM rawdata\")\n",
    "action.show()"
   ]
  },
  {
   "cell_type": "code",
   "execution_count": 7,
   "id": "a1f58e54",
   "metadata": {
    "scrolled": true
   },
   "outputs": [
    {
     "name": "stderr",
     "output_type": "stream",
     "text": [
      "\r",
      "[Stage 15:>                                                         (0 + 4) / 4]\r"
     ]
    },
    {
     "name": "stdout",
     "output_type": "stream",
     "text": [
      "+--------------------------+\n",
      "|count(DISTINCT product_id)|\n",
      "+--------------------------+\n",
      "|                     45484|\n",
      "+--------------------------+\n",
      "\n"
     ]
    },
    {
     "name": "stderr",
     "output_type": "stream",
     "text": [
      "\r",
      "                                                                                \r"
     ]
    }
   ],
   "source": [
    "# Number of products\n",
    "action = spark.sql(\"SELECT count(distinct product_id) FROM rawdata\")\n",
    "action.show()"
   ]
  },
  {
   "cell_type": "code",
   "execution_count": 8,
   "id": "8c0e024f",
   "metadata": {},
   "outputs": [
    {
     "name": "stderr",
     "output_type": "stream",
     "text": [
      "\r",
      "[Stage 21:>                                                         (0 + 4) / 4]\r"
     ]
    },
    {
     "name": "stdout",
     "output_type": "stream",
     "text": [
      "+----------+--------+\n",
      "|product_id|count(1)|\n",
      "+----------+--------+\n",
      "|   5809910|   36967|\n",
      "|   5809912|   14310|\n",
      "|   5917178|   12634|\n",
      "|   5700037|   11429|\n",
      "|   5686925|   11098|\n",
      "+----------+--------+\n",
      "only showing top 5 rows\n",
      "\n"
     ]
    },
    {
     "name": "stderr",
     "output_type": "stream",
     "text": [
      "\r",
      "                                                                                \r"
     ]
    }
   ],
   "source": [
    "# Top seller product\n",
    "countProduct = spark.sql(\"SELECT product_id, count(*) FROM rawdata GROUP BY product_id ORDER BY count(*) desc\")\n",
    "countProduct.show(5)"
   ]
  },
  {
   "cell_type": "code",
   "execution_count": 9,
   "id": "5b279d6d",
   "metadata": {
    "scrolled": false
   },
   "outputs": [
    {
     "name": "stderr",
     "output_type": "stream",
     "text": [
      "\r",
      "[Stage 24:>                                                         (0 + 4) / 4]\r"
     ]
    },
    {
     "name": "stdout",
     "output_type": "stream",
     "text": [
      "+--------------------+----------------+----------+-------------------+-------------+-------+-----+---------+--------------------+\n",
      "|          event_time|      event_type|product_id|        category_id|category_code|  brand|price|  user_id|        user_session|\n",
      "+--------------------+----------------+----------+-------------------+-------------+-------+-----+---------+--------------------+\n",
      "|2020-01-01 00:00:...|            view|   5809910|1602943681873052386|         null|grattol| 5.24|595414620|4adb70bb-edbd-498...|\n",
      "|2020-01-01 14:21:...|            view|   5809910|1602943681873052386|         null|grattol| 5.24|592285428|33ecf984-0438-459...|\n",
      "|2020-01-01 16:56:...|            view|   5809910|1602943681873052386|         null|grattol| 5.24|595651372|121148f9-4e42-48b...|\n",
      "|2020-01-01 18:40:...|remove_from_cart|   5809910|1602943681873052386|         null|grattol| 5.24|583351843|85fa8bff-02e8-4a5...|\n",
      "|2020-01-02 06:09:...|            view|   5809910|1602943681873052386|         null|grattol| 5.24|529378930|b99ea2eb-1c67-4f3...|\n",
      "+--------------------+----------------+----------+-------------------+-------------+-------+-----+---------+--------------------+\n",
      "only showing top 5 rows\n",
      "\n"
     ]
    },
    {
     "name": "stderr",
     "output_type": "stream",
     "text": [
      "\r",
      "                                                                                \r"
     ]
    }
   ],
   "source": [
    "# New dataframe with topseller product\n",
    "topseller = spark.sql(\"SELECT DISTINCT * FROM rawdata WHERE product_id LIKE 5809910\")\n",
    "topseller.show(5)"
   ]
  },
  {
   "cell_type": "code",
   "execution_count": 10,
   "id": "e0f14dec",
   "metadata": {},
   "outputs": [],
   "source": [
    "# Drop columns\n",
    "topseller = topseller.drop(*[\"product_id\",\"category_id\",\"category_code\",\"brand\",\"price\"])"
   ]
  },
  {
   "cell_type": "code",
   "execution_count": 11,
   "id": "2d9ad457",
   "metadata": {
    "scrolled": false
   },
   "outputs": [
    {
     "name": "stderr",
     "output_type": "stream",
     "text": [
      "\r",
      "[Stage 27:>                                                         (0 + 4) / 4]\r"
     ]
    },
    {
     "name": "stdout",
     "output_type": "stream",
     "text": [
      "+-----------------------+----------------+---------+------------------------------------+\n",
      "|event_time             |event_type      |user_id  |user_session                        |\n",
      "+-----------------------+----------------+---------+------------------------------------+\n",
      "|2020-01-01 00:00:00 UTC|view            |595414620|4adb70bb-edbd-4981-b60f-a05bfd32683a|\n",
      "|2020-01-01 14:21:02 UTC|view            |592285428|33ecf984-0438-459c-aea6-241319336d75|\n",
      "|2020-01-01 16:56:51 UTC|view            |595651372|121148f9-4e42-48ba-94eb-7aca8935940b|\n",
      "|2020-01-01 18:40:56 UTC|remove_from_cart|583351843|85fa8bff-02e8-4a5f-80b8-a129ce5555e3|\n",
      "|2020-01-02 06:09:01 UTC|view            |529378930|b99ea2eb-1c67-4f39-ab20-792ebfb87f93|\n",
      "|2020-01-02 08:21:31 UTC|view            |595842440|b257db78-93e8-46d4-9893-56194751a4d9|\n",
      "|2020-01-03 06:16:01 UTC|view            |595798798|8b2d9742-eb2f-4bbd-8387-ace81cfdef2a|\n",
      "|2020-01-03 11:17:22 UTC|cart            |596055322|74521846-45da-4a1e-a61e-19fbe7f6fb82|\n",
      "|2020-01-03 11:18:18 UTC|view            |552479336|46093a80-aae3-4d2d-a734-44c0acd990e3|\n",
      "|2020-01-03 11:57:45 UTC|view            |184175105|61552a84-dd9b-4198-8b8e-9f906b0bc7ac|\n",
      "+-----------------------+----------------+---------+------------------------------------+\n",
      "only showing top 10 rows\n",
      "\n"
     ]
    },
    {
     "name": "stderr",
     "output_type": "stream",
     "text": [
      "\r",
      "[Stage 27:===========================================>              (3 + 1) / 4]\r",
      "\r",
      "                                                                                \r"
     ]
    }
   ],
   "source": [
    "# Show updated topseller df\n",
    "topseller.show(10,False)"
   ]
  },
  {
   "cell_type": "code",
   "execution_count": 12,
   "id": "d37886bc",
   "metadata": {
    "scrolled": false
   },
   "outputs": [
    {
     "name": "stderr",
     "output_type": "stream",
     "text": [
      "\r",
      "[Stage 30:>                                                         (0 + 4) / 4]\r"
     ]
    },
    {
     "name": "stdout",
     "output_type": "stream",
     "text": [
      "+-----------------------+----------+------------------------------------+\n",
      "|event_time             |event_type|user_session                        |\n",
      "+-----------------------+----------+------------------------------------+\n",
      "|2020-01-07 14:33:37 UTC|view      |d6151353-322f-4a7a-b3a4-0c4c0e52e2f5|\n",
      "|2020-01-07 14:39:42 UTC|cart      |d6151353-322f-4a7a-b3a4-0c4c0e52e2f5|\n",
      "|2020-01-07 18:05:19 UTC|purchase  |697d43d2-07f9-4c59-aa7c-8dca123cebc0|\n",
      "+-----------------------+----------+------------------------------------+\n",
      "\n"
     ]
    },
    {
     "name": "stderr",
     "output_type": "stream",
     "text": [
      "\r",
      "[Stage 30:===========================================>              (3 + 1) / 4]\r",
      "\r",
      "                                                                                \r"
     ]
    }
   ],
   "source": [
    "# Customer behaviour before purchasing example\n",
    "# Random customer collected from filtering event_type: 'purchase' \n",
    "from pyspark.sql.functions import asc\n",
    "topseller.select(\"event_time\",\"event_type\",\"user_session\").filter(\"user_id = 431397250\").orderBy(asc(\"event_time\")).show(truncate=False)"
   ]
  },
  {
   "cell_type": "code",
   "execution_count": 13,
   "id": "0cca42a3",
   "metadata": {},
   "outputs": [
    {
     "name": "stderr",
     "output_type": "stream",
     "text": [
      "\r",
      "[Stage 33:>                                                         (0 + 4) / 4]\r"
     ]
    },
    {
     "name": "stdout",
     "output_type": "stream",
     "text": [
      "+-----------------------+----------+------------------------------------+\n",
      "|event_time             |event_type|user_session                        |\n",
      "+-----------------------+----------+------------------------------------+\n",
      "|2020-01-28 06:12:26 UTC|cart      |5549dfe6-109e-497f-a9f2-01c0aecdd73f|\n",
      "|2020-01-28 06:14:08 UTC|view      |5549dfe6-109e-497f-a9f2-01c0aecdd73f|\n",
      "|2020-01-28 06:17:17 UTC|view      |5549dfe6-109e-497f-a9f2-01c0aecdd73f|\n",
      "|2020-01-28 06:53:25 UTC|purchase  |67347fb6-2e23-4695-8d32-03829cc6fdaf|\n",
      "+-----------------------+----------+------------------------------------+\n",
      "\n"
     ]
    },
    {
     "name": "stderr",
     "output_type": "stream",
     "text": [
      "\r",
      "                                                                                \r"
     ]
    }
   ],
   "source": [
    "# Customer behaviour before purchasing example\n",
    "# Random customer collected from filtering event_type: 'purchase' \n",
    "from pyspark.sql.functions import asc\n",
    "topseller.select(\"event_time\",\"event_type\",\"user_session\").filter(\"user_id = 46383252\").orderBy(asc(\"event_time\")).show(30,truncate=False)"
   ]
  },
  {
   "cell_type": "code",
   "execution_count": 14,
   "id": "27e4cc2d",
   "metadata": {},
   "outputs": [],
   "source": [
    "# Sort ASC topseller df by user_id and event \n",
    "sorted_by_user_event = topseller.orderBy([\"user_id\",\"event_type\"], ascending= [True, True])"
   ]
  },
  {
   "cell_type": "code",
   "execution_count": 15,
   "id": "818dcc6e",
   "metadata": {},
   "outputs": [
    {
     "name": "stderr",
     "output_type": "stream",
     "text": [
      "\r",
      "[Stage 36:>                                                         (0 + 4) / 4]\r"
     ]
    },
    {
     "name": "stdout",
     "output_type": "stream",
     "text": [
      "+-----------------------+----------------+--------+------------------------------------+\n",
      "|event_time             |event_type      |user_id |user_session                        |\n",
      "+-----------------------+----------------+--------+------------------------------------+\n",
      "|2020-01-28 05:41:23 UTC|view            |4661182 |ce380fb8-bfdd-49a5-949f-eeac2c349af1|\n",
      "|2020-01-28 05:43:43 UTC|view            |4661182 |ce380fb8-bfdd-49a5-949f-eeac2c349af1|\n",
      "|2020-01-14 09:33:54 UTC|cart            |12961898|6cb94e2c-4db2-46ac-8c11-1ced638112bc|\n",
      "|2020-01-13 11:36:50 UTC|cart            |12961898|91ceb8ab-fa0f-4929-b02e-9f36a19e73a5|\n",
      "|2020-01-27 09:37:44 UTC|remove_from_cart|12961898|ea56a517-171d-4740-a9f7-f628f40274c8|\n",
      "+-----------------------+----------------+--------+------------------------------------+\n",
      "only showing top 5 rows\n",
      "\n"
     ]
    },
    {
     "name": "stderr",
     "output_type": "stream",
     "text": [
      "\r",
      "[Stage 36:=============================>                            (2 + 2) / 4]\r",
      "\r",
      "                                                                                \r"
     ]
    }
   ],
   "source": [
    "# Return result\n",
    "sorted_by_user_event.show(5,truncate=False)"
   ]
  },
  {
   "cell_type": "code",
   "execution_count": 16,
   "id": "b977bc26",
   "metadata": {},
   "outputs": [],
   "source": [
    "# Group df by user_id and event_type\n",
    "event_type_count_user = sorted_by_user_event.groupby('user_id','event_type').count()"
   ]
  },
  {
   "cell_type": "code",
   "execution_count": 17,
   "id": "767d29d5",
   "metadata": {},
   "outputs": [],
   "source": [
    "# New df with organised data counting event_type by user_id\n",
    "sorted_event_type_count_user = event_type_count_user.orderBy([\"user_id\",\"event_type\"], ascending= [True, True])"
   ]
  },
  {
   "cell_type": "code",
   "execution_count": 18,
   "id": "6283d80d",
   "metadata": {
    "scrolled": false
   },
   "outputs": [
    {
     "name": "stderr",
     "output_type": "stream",
     "text": [
      "\r",
      "[Stage 39:>                                                         (0 + 4) / 4]\r"
     ]
    },
    {
     "name": "stdout",
     "output_type": "stream",
     "text": [
      "+--------+----------------+-----+\n",
      "| user_id|      event_type|count|\n",
      "+--------+----------------+-----+\n",
      "| 4661182|            view|    2|\n",
      "|12961898|            cart|    2|\n",
      "|12961898|remove_from_cart|    1|\n",
      "|27692594|            cart|    1|\n",
      "|31272873|            cart|    1|\n",
      "|31272873|remove_from_cart|    1|\n",
      "|46383252|            cart|    1|\n",
      "|46383252|        purchase|    1|\n",
      "|46383252|            view|    2|\n",
      "|47076222|            view|    5|\n",
      "+--------+----------------+-----+\n",
      "only showing top 10 rows\n",
      "\n"
     ]
    },
    {
     "name": "stderr",
     "output_type": "stream",
     "text": [
      "\r",
      "[Stage 39:===========================================>              (3 + 1) / 4]\r",
      "\r",
      "                                                                                \r"
     ]
    }
   ],
   "source": [
    "# Display new df\n",
    "sorted_event_type_count_user.show(10)"
   ]
  },
  {
   "cell_type": "code",
   "execution_count": 19,
   "id": "26443915",
   "metadata": {
    "scrolled": true
   },
   "outputs": [
    {
     "name": "stderr",
     "output_type": "stream",
     "text": [
      "                                                                                \r"
     ]
    },
    {
     "data": {
      "text/html": [
       "<div>\n",
       "<style scoped>\n",
       "    .dataframe tbody tr th:only-of-type {\n",
       "        vertical-align: middle;\n",
       "    }\n",
       "\n",
       "    .dataframe tbody tr th {\n",
       "        vertical-align: top;\n",
       "    }\n",
       "\n",
       "    .dataframe thead th {\n",
       "        text-align: right;\n",
       "    }\n",
       "</style>\n",
       "<table border=\"1\" class=\"dataframe\">\n",
       "  <thead>\n",
       "    <tr style=\"text-align: right;\">\n",
       "      <th></th>\n",
       "      <th>user_id</th>\n",
       "      <th>event_type</th>\n",
       "      <th>count</th>\n",
       "    </tr>\n",
       "  </thead>\n",
       "  <tbody>\n",
       "    <tr>\n",
       "      <th>0</th>\n",
       "      <td>4661182</td>\n",
       "      <td>view</td>\n",
       "      <td>2</td>\n",
       "    </tr>\n",
       "    <tr>\n",
       "      <th>1</th>\n",
       "      <td>12961898</td>\n",
       "      <td>cart</td>\n",
       "      <td>2</td>\n",
       "    </tr>\n",
       "    <tr>\n",
       "      <th>2</th>\n",
       "      <td>12961898</td>\n",
       "      <td>remove_from_cart</td>\n",
       "      <td>1</td>\n",
       "    </tr>\n",
       "    <tr>\n",
       "      <th>3</th>\n",
       "      <td>27692594</td>\n",
       "      <td>cart</td>\n",
       "      <td>1</td>\n",
       "    </tr>\n",
       "    <tr>\n",
       "      <th>4</th>\n",
       "      <td>31272873</td>\n",
       "      <td>cart</td>\n",
       "      <td>1</td>\n",
       "    </tr>\n",
       "  </tbody>\n",
       "</table>\n",
       "</div>"
      ],
      "text/plain": [
       "    user_id        event_type  count\n",
       "0   4661182              view      2\n",
       "1  12961898              cart      2\n",
       "2  12961898  remove_from_cart      1\n",
       "3  27692594              cart      1\n",
       "4  31272873              cart      1"
      ]
     },
     "execution_count": 19,
     "metadata": {},
     "output_type": "execute_result"
    }
   ],
   "source": [
    "# Convert PySpark Dataframe to Pandas\n",
    "pandas_df = sorted_event_type_count_user.toPandas()\n",
    "pandas_df.head()"
   ]
  },
  {
   "cell_type": "code",
   "execution_count": 20,
   "id": "499e9658",
   "metadata": {},
   "outputs": [
    {
     "data": {
      "text/html": [
       "<div>\n",
       "<style scoped>\n",
       "    .dataframe tbody tr th:only-of-type {\n",
       "        vertical-align: middle;\n",
       "    }\n",
       "\n",
       "    .dataframe tbody tr th {\n",
       "        vertical-align: top;\n",
       "    }\n",
       "\n",
       "    .dataframe thead th {\n",
       "        text-align: right;\n",
       "    }\n",
       "</style>\n",
       "<table border=\"1\" class=\"dataframe\">\n",
       "  <thead>\n",
       "    <tr style=\"text-align: right;\">\n",
       "      <th>event_type</th>\n",
       "      <th>cart</th>\n",
       "      <th>purchase</th>\n",
       "      <th>remove_from_cart</th>\n",
       "      <th>view</th>\n",
       "    </tr>\n",
       "    <tr>\n",
       "      <th>user_id</th>\n",
       "      <th></th>\n",
       "      <th></th>\n",
       "      <th></th>\n",
       "      <th></th>\n",
       "    </tr>\n",
       "  </thead>\n",
       "  <tbody>\n",
       "    <tr>\n",
       "      <th>4661182</th>\n",
       "      <td>NaN</td>\n",
       "      <td>NaN</td>\n",
       "      <td>NaN</td>\n",
       "      <td>2.0</td>\n",
       "    </tr>\n",
       "    <tr>\n",
       "      <th>12961898</th>\n",
       "      <td>2.0</td>\n",
       "      <td>NaN</td>\n",
       "      <td>1.0</td>\n",
       "      <td>NaN</td>\n",
       "    </tr>\n",
       "    <tr>\n",
       "      <th>27692594</th>\n",
       "      <td>1.0</td>\n",
       "      <td>NaN</td>\n",
       "      <td>NaN</td>\n",
       "      <td>NaN</td>\n",
       "    </tr>\n",
       "    <tr>\n",
       "      <th>31272873</th>\n",
       "      <td>1.0</td>\n",
       "      <td>NaN</td>\n",
       "      <td>1.0</td>\n",
       "      <td>NaN</td>\n",
       "    </tr>\n",
       "    <tr>\n",
       "      <th>46383252</th>\n",
       "      <td>1.0</td>\n",
       "      <td>1.0</td>\n",
       "      <td>NaN</td>\n",
       "      <td>2.0</td>\n",
       "    </tr>\n",
       "    <tr>\n",
       "      <th>...</th>\n",
       "      <td>...</td>\n",
       "      <td>...</td>\n",
       "      <td>...</td>\n",
       "      <td>...</td>\n",
       "    </tr>\n",
       "    <tr>\n",
       "      <th>608796694</th>\n",
       "      <td>NaN</td>\n",
       "      <td>NaN</td>\n",
       "      <td>NaN</td>\n",
       "      <td>1.0</td>\n",
       "    </tr>\n",
       "    <tr>\n",
       "      <th>608802103</th>\n",
       "      <td>NaN</td>\n",
       "      <td>NaN</td>\n",
       "      <td>NaN</td>\n",
       "      <td>1.0</td>\n",
       "    </tr>\n",
       "    <tr>\n",
       "      <th>608804936</th>\n",
       "      <td>NaN</td>\n",
       "      <td>NaN</td>\n",
       "      <td>NaN</td>\n",
       "      <td>1.0</td>\n",
       "    </tr>\n",
       "    <tr>\n",
       "      <th>608816772</th>\n",
       "      <td>NaN</td>\n",
       "      <td>NaN</td>\n",
       "      <td>NaN</td>\n",
       "      <td>4.0</td>\n",
       "    </tr>\n",
       "    <tr>\n",
       "      <th>608818188</th>\n",
       "      <td>NaN</td>\n",
       "      <td>NaN</td>\n",
       "      <td>NaN</td>\n",
       "      <td>1.0</td>\n",
       "    </tr>\n",
       "  </tbody>\n",
       "</table>\n",
       "<p>18136 rows × 4 columns</p>\n",
       "</div>"
      ],
      "text/plain": [
       "event_type  cart  purchase  remove_from_cart  view\n",
       "user_id                                           \n",
       "4661182      NaN       NaN               NaN   2.0\n",
       "12961898     2.0       NaN               1.0   NaN\n",
       "27692594     1.0       NaN               NaN   NaN\n",
       "31272873     1.0       NaN               1.0   NaN\n",
       "46383252     1.0       1.0               NaN   2.0\n",
       "...          ...       ...               ...   ...\n",
       "608796694    NaN       NaN               NaN   1.0\n",
       "608802103    NaN       NaN               NaN   1.0\n",
       "608804936    NaN       NaN               NaN   1.0\n",
       "608816772    NaN       NaN               NaN   4.0\n",
       "608818188    NaN       NaN               NaN   1.0\n",
       "\n",
       "[18136 rows x 4 columns]"
      ]
     },
     "execution_count": 20,
     "metadata": {},
     "output_type": "execute_result"
    }
   ],
   "source": [
    "# Rearrange column event_type using function .pivot() from pandas lib\n",
    "pandas_df = pandas_df.pivot(index='user_id',columns='event_type',values='count')\n",
    "pandas_df"
   ]
  },
  {
   "cell_type": "code",
   "execution_count": 21,
   "id": "c6824e95",
   "metadata": {},
   "outputs": [
    {
     "data": {
      "text/html": [
       "<div>\n",
       "<style scoped>\n",
       "    .dataframe tbody tr th:only-of-type {\n",
       "        vertical-align: middle;\n",
       "    }\n",
       "\n",
       "    .dataframe tbody tr th {\n",
       "        vertical-align: top;\n",
       "    }\n",
       "\n",
       "    .dataframe thead th {\n",
       "        text-align: right;\n",
       "    }\n",
       "</style>\n",
       "<table border=\"1\" class=\"dataframe\">\n",
       "  <thead>\n",
       "    <tr style=\"text-align: right;\">\n",
       "      <th>event_type</th>\n",
       "      <th>view</th>\n",
       "      <th>cart</th>\n",
       "      <th>remove_from_cart</th>\n",
       "      <th>purchase</th>\n",
       "    </tr>\n",
       "    <tr>\n",
       "      <th>user_id</th>\n",
       "      <th></th>\n",
       "      <th></th>\n",
       "      <th></th>\n",
       "      <th></th>\n",
       "    </tr>\n",
       "  </thead>\n",
       "  <tbody>\n",
       "    <tr>\n",
       "      <th>4661182</th>\n",
       "      <td>2.0</td>\n",
       "      <td>NaN</td>\n",
       "      <td>NaN</td>\n",
       "      <td>NaN</td>\n",
       "    </tr>\n",
       "    <tr>\n",
       "      <th>12961898</th>\n",
       "      <td>NaN</td>\n",
       "      <td>2.0</td>\n",
       "      <td>1.0</td>\n",
       "      <td>NaN</td>\n",
       "    </tr>\n",
       "    <tr>\n",
       "      <th>27692594</th>\n",
       "      <td>NaN</td>\n",
       "      <td>1.0</td>\n",
       "      <td>NaN</td>\n",
       "      <td>NaN</td>\n",
       "    </tr>\n",
       "    <tr>\n",
       "      <th>31272873</th>\n",
       "      <td>NaN</td>\n",
       "      <td>1.0</td>\n",
       "      <td>1.0</td>\n",
       "      <td>NaN</td>\n",
       "    </tr>\n",
       "    <tr>\n",
       "      <th>46383252</th>\n",
       "      <td>2.0</td>\n",
       "      <td>1.0</td>\n",
       "      <td>NaN</td>\n",
       "      <td>1.0</td>\n",
       "    </tr>\n",
       "    <tr>\n",
       "      <th>...</th>\n",
       "      <td>...</td>\n",
       "      <td>...</td>\n",
       "      <td>...</td>\n",
       "      <td>...</td>\n",
       "    </tr>\n",
       "    <tr>\n",
       "      <th>608796694</th>\n",
       "      <td>1.0</td>\n",
       "      <td>NaN</td>\n",
       "      <td>NaN</td>\n",
       "      <td>NaN</td>\n",
       "    </tr>\n",
       "    <tr>\n",
       "      <th>608802103</th>\n",
       "      <td>1.0</td>\n",
       "      <td>NaN</td>\n",
       "      <td>NaN</td>\n",
       "      <td>NaN</td>\n",
       "    </tr>\n",
       "    <tr>\n",
       "      <th>608804936</th>\n",
       "      <td>1.0</td>\n",
       "      <td>NaN</td>\n",
       "      <td>NaN</td>\n",
       "      <td>NaN</td>\n",
       "    </tr>\n",
       "    <tr>\n",
       "      <th>608816772</th>\n",
       "      <td>4.0</td>\n",
       "      <td>NaN</td>\n",
       "      <td>NaN</td>\n",
       "      <td>NaN</td>\n",
       "    </tr>\n",
       "    <tr>\n",
       "      <th>608818188</th>\n",
       "      <td>1.0</td>\n",
       "      <td>NaN</td>\n",
       "      <td>NaN</td>\n",
       "      <td>NaN</td>\n",
       "    </tr>\n",
       "  </tbody>\n",
       "</table>\n",
       "<p>18136 rows × 4 columns</p>\n",
       "</div>"
      ],
      "text/plain": [
       "event_type  view  cart  remove_from_cart  purchase\n",
       "user_id                                           \n",
       "4661182      2.0   NaN               NaN       NaN\n",
       "12961898     NaN   2.0               1.0       NaN\n",
       "27692594     NaN   1.0               NaN       NaN\n",
       "31272873     NaN   1.0               1.0       NaN\n",
       "46383252     2.0   1.0               NaN       1.0\n",
       "...          ...   ...               ...       ...\n",
       "608796694    1.0   NaN               NaN       NaN\n",
       "608802103    1.0   NaN               NaN       NaN\n",
       "608804936    1.0   NaN               NaN       NaN\n",
       "608816772    4.0   NaN               NaN       NaN\n",
       "608818188    1.0   NaN               NaN       NaN\n",
       "\n",
       "[18136 rows x 4 columns]"
      ]
     },
     "execution_count": 21,
     "metadata": {},
     "output_type": "execute_result"
    }
   ],
   "source": [
    "# Rearrange column position\n",
    "pandas_df = pandas_df.reindex(columns=['view','cart','remove_from_cart','purchase'])\n",
    "pandas_df"
   ]
  },
  {
   "cell_type": "code",
   "execution_count": 22,
   "id": "99d49497",
   "metadata": {},
   "outputs": [],
   "source": [
    "# Export final df to csv\n",
    "pandas_df.to_csv('customer_data.csv')"
   ]
  },
  {
   "cell_type": "markdown",
   "id": "60838727",
   "metadata": {},
   "source": [
    "## Part 2 - Neural Network Model"
   ]
  },
  {
   "cell_type": "code",
   "execution_count": 23,
   "id": "d46d5eda",
   "metadata": {},
   "outputs": [
    {
     "name": "stderr",
     "output_type": "stream",
     "text": [
      "/usr/lib/python3/dist-packages/scipy/__init__.py:146: UserWarning: A NumPy version >=1.17.3 and <1.25.0 is required for this version of SciPy (detected version 1.26.0\n",
      "  warnings.warn(f\"A NumPy version >={np_minversion} and <{np_maxversion}\"\n"
     ]
    }
   ],
   "source": [
    "# Import libraries\n",
    "import numpy as np\n",
    "import tensorflow as tf\n",
    "from sklearn.model_selection import train_test_split\n",
    "from sklearn.preprocessing import StandardScaler\n",
    "\n",
    "import warnings\n",
    "warnings.filterwarnings(\"ignore\")"
   ]
  },
  {
   "cell_type": "code",
   "execution_count": 24,
   "id": "b46328df",
   "metadata": {
    "scrolled": false
   },
   "outputs": [
    {
     "data": {
      "text/html": [
       "<div>\n",
       "<style scoped>\n",
       "    .dataframe tbody tr th:only-of-type {\n",
       "        vertical-align: middle;\n",
       "    }\n",
       "\n",
       "    .dataframe tbody tr th {\n",
       "        vertical-align: top;\n",
       "    }\n",
       "\n",
       "    .dataframe thead th {\n",
       "        text-align: right;\n",
       "    }\n",
       "</style>\n",
       "<table border=\"1\" class=\"dataframe\">\n",
       "  <thead>\n",
       "    <tr style=\"text-align: right;\">\n",
       "      <th></th>\n",
       "      <th>user_id</th>\n",
       "      <th>view</th>\n",
       "      <th>cart</th>\n",
       "      <th>remove_from_cart</th>\n",
       "      <th>purchase</th>\n",
       "    </tr>\n",
       "  </thead>\n",
       "  <tbody>\n",
       "    <tr>\n",
       "      <th>0</th>\n",
       "      <td>4661182</td>\n",
       "      <td>2.0</td>\n",
       "      <td>NaN</td>\n",
       "      <td>NaN</td>\n",
       "      <td>NaN</td>\n",
       "    </tr>\n",
       "    <tr>\n",
       "      <th>1</th>\n",
       "      <td>12961898</td>\n",
       "      <td>NaN</td>\n",
       "      <td>2.0</td>\n",
       "      <td>1.0</td>\n",
       "      <td>NaN</td>\n",
       "    </tr>\n",
       "    <tr>\n",
       "      <th>2</th>\n",
       "      <td>27692594</td>\n",
       "      <td>NaN</td>\n",
       "      <td>1.0</td>\n",
       "      <td>NaN</td>\n",
       "      <td>NaN</td>\n",
       "    </tr>\n",
       "    <tr>\n",
       "      <th>3</th>\n",
       "      <td>31272873</td>\n",
       "      <td>NaN</td>\n",
       "      <td>1.0</td>\n",
       "      <td>1.0</td>\n",
       "      <td>NaN</td>\n",
       "    </tr>\n",
       "    <tr>\n",
       "      <th>4</th>\n",
       "      <td>46383252</td>\n",
       "      <td>2.0</td>\n",
       "      <td>1.0</td>\n",
       "      <td>NaN</td>\n",
       "      <td>1.0</td>\n",
       "    </tr>\n",
       "    <tr>\n",
       "      <th>...</th>\n",
       "      <td>...</td>\n",
       "      <td>...</td>\n",
       "      <td>...</td>\n",
       "      <td>...</td>\n",
       "      <td>...</td>\n",
       "    </tr>\n",
       "    <tr>\n",
       "      <th>18131</th>\n",
       "      <td>608796694</td>\n",
       "      <td>1.0</td>\n",
       "      <td>NaN</td>\n",
       "      <td>NaN</td>\n",
       "      <td>NaN</td>\n",
       "    </tr>\n",
       "    <tr>\n",
       "      <th>18132</th>\n",
       "      <td>608802103</td>\n",
       "      <td>1.0</td>\n",
       "      <td>NaN</td>\n",
       "      <td>NaN</td>\n",
       "      <td>NaN</td>\n",
       "    </tr>\n",
       "    <tr>\n",
       "      <th>18133</th>\n",
       "      <td>608804936</td>\n",
       "      <td>1.0</td>\n",
       "      <td>NaN</td>\n",
       "      <td>NaN</td>\n",
       "      <td>NaN</td>\n",
       "    </tr>\n",
       "    <tr>\n",
       "      <th>18134</th>\n",
       "      <td>608816772</td>\n",
       "      <td>4.0</td>\n",
       "      <td>NaN</td>\n",
       "      <td>NaN</td>\n",
       "      <td>NaN</td>\n",
       "    </tr>\n",
       "    <tr>\n",
       "      <th>18135</th>\n",
       "      <td>608818188</td>\n",
       "      <td>1.0</td>\n",
       "      <td>NaN</td>\n",
       "      <td>NaN</td>\n",
       "      <td>NaN</td>\n",
       "    </tr>\n",
       "  </tbody>\n",
       "</table>\n",
       "<p>18136 rows × 5 columns</p>\n",
       "</div>"
      ],
      "text/plain": [
       "         user_id  view  cart  remove_from_cart  purchase\n",
       "0        4661182   2.0   NaN               NaN       NaN\n",
       "1       12961898   NaN   2.0               1.0       NaN\n",
       "2       27692594   NaN   1.0               NaN       NaN\n",
       "3       31272873   NaN   1.0               1.0       NaN\n",
       "4       46383252   2.0   1.0               NaN       1.0\n",
       "...          ...   ...   ...               ...       ...\n",
       "18131  608796694   1.0   NaN               NaN       NaN\n",
       "18132  608802103   1.0   NaN               NaN       NaN\n",
       "18133  608804936   1.0   NaN               NaN       NaN\n",
       "18134  608816772   4.0   NaN               NaN       NaN\n",
       "18135  608818188   1.0   NaN               NaN       NaN\n",
       "\n",
       "[18136 rows x 5 columns]"
      ]
     },
     "execution_count": 24,
     "metadata": {},
     "output_type": "execute_result"
    }
   ],
   "source": [
    "# Load dataset\n",
    "data = pd.read_csv(\"customer_data.csv\")\n",
    "data"
   ]
  },
  {
   "cell_type": "code",
   "execution_count": 25,
   "id": "bea80f16",
   "metadata": {},
   "outputs": [],
   "source": [
    "# Replace NaN values with 0\n",
    "data = data.fillna(0)"
   ]
  },
  {
   "cell_type": "code",
   "execution_count": 26,
   "id": "5a4803e2",
   "metadata": {},
   "outputs": [],
   "source": [
    "# Separate features and target variable\n",
    "X = data[['view', 'cart', 'remove_from_cart']]\n",
    "y = data[['purchase']]"
   ]
  },
  {
   "cell_type": "code",
   "execution_count": 27,
   "id": "02a04b1f",
   "metadata": {},
   "outputs": [],
   "source": [
    "# Split the dataset into train and test\n",
    "X_train, X_test, y_train, y_test = train_test_split(X, y, test_size = 0.2, random_state = 42)"
   ]
  },
  {
   "cell_type": "code",
   "execution_count": 28,
   "id": "50ea80a5",
   "metadata": {},
   "outputs": [],
   "source": [
    "# Scale features\n",
    "scaler = StandardScaler()\n",
    "X_train = scaler.fit_transform(X_train)\n",
    "X_test = scaler.transform(X_test)"
   ]
  },
  {
   "cell_type": "code",
   "execution_count": 29,
   "id": "37127c38",
   "metadata": {},
   "outputs": [],
   "source": [
    "# Build neural network (NN) model \n",
    "nnmodel = tf.keras.Sequential([\n",
    "    tf.keras.layers.Dense(32, activation='relu', input_shape=(3,)),\n",
    "    tf.keras.layers.Dense(16, activation='relu'),\n",
    "    tf.keras.layers.Dense(1) #output layer, no activation function\n",
    "])"
   ]
  },
  {
   "cell_type": "code",
   "execution_count": 30,
   "id": "eaf3e124",
   "metadata": {},
   "outputs": [],
   "source": [
    "# Compile NN model\n",
    "nnmodel.compile(optimizer='adam', loss='mean_squared_error', metrics=['mae'])"
   ]
  },
  {
   "cell_type": "code",
   "execution_count": 31,
   "id": "d6b2ff9c",
   "metadata": {},
   "outputs": [
    {
     "name": "stdout",
     "output_type": "stream",
     "text": [
      "Epoch 1/50\n",
      "363/363 [==============================] - 1s 871us/step - loss: 0.0937 - mae: 0.1593 - val_loss: 0.0900 - val_mae: 0.1545\n",
      "Epoch 2/50\n",
      "363/363 [==============================] - 0s 692us/step - loss: 0.0877 - mae: 0.1514 - val_loss: 0.0847 - val_mae: 0.1471\n",
      "Epoch 3/50\n",
      "363/363 [==============================] - 0s 662us/step - loss: 0.0873 - mae: 0.1505 - val_loss: 0.0837 - val_mae: 0.1601\n",
      "Epoch 4/50\n",
      "363/363 [==============================] - 0s 655us/step - loss: 0.0851 - mae: 0.1483 - val_loss: 0.0831 - val_mae: 0.1545\n",
      "Epoch 5/50\n",
      "363/363 [==============================] - 0s 687us/step - loss: 0.0851 - mae: 0.1471 - val_loss: 0.0843 - val_mae: 0.1388\n",
      "Epoch 6/50\n",
      "363/363 [==============================] - 0s 685us/step - loss: 0.0855 - mae: 0.1487 - val_loss: 0.0836 - val_mae: 0.1547\n",
      "Epoch 7/50\n",
      "363/363 [==============================] - 0s 661us/step - loss: 0.0848 - mae: 0.1463 - val_loss: 0.0828 - val_mae: 0.1392\n",
      "Epoch 8/50\n",
      "363/363 [==============================] - 0s 653us/step - loss: 0.0846 - mae: 0.1463 - val_loss: 0.0826 - val_mae: 0.1430\n",
      "Epoch 9/50\n",
      "363/363 [==============================] - 0s 644us/step - loss: 0.0859 - mae: 0.1470 - val_loss: 0.0829 - val_mae: 0.1396\n",
      "Epoch 10/50\n",
      "363/363 [==============================] - 0s 663us/step - loss: 0.0841 - mae: 0.1453 - val_loss: 0.0849 - val_mae: 0.1397\n",
      "Epoch 11/50\n",
      "363/363 [==============================] - 0s 700us/step - loss: 0.0844 - mae: 0.1460 - val_loss: 0.0827 - val_mae: 0.1440\n",
      "Epoch 12/50\n",
      "363/363 [==============================] - 0s 716us/step - loss: 0.0839 - mae: 0.1463 - val_loss: 0.0822 - val_mae: 0.1422\n",
      "Epoch 13/50\n",
      "363/363 [==============================] - 0s 795us/step - loss: 0.0844 - mae: 0.1458 - val_loss: 0.0836 - val_mae: 0.1466\n",
      "Epoch 14/50\n",
      "363/363 [==============================] - 0s 697us/step - loss: 0.0841 - mae: 0.1462 - val_loss: 0.0828 - val_mae: 0.1433\n",
      "Epoch 15/50\n",
      "363/363 [==============================] - 0s 657us/step - loss: 0.0838 - mae: 0.1462 - val_loss: 0.0832 - val_mae: 0.1469\n",
      "Epoch 16/50\n",
      "363/363 [==============================] - 0s 698us/step - loss: 0.0836 - mae: 0.1460 - val_loss: 0.0865 - val_mae: 0.1425\n",
      "Epoch 17/50\n",
      "363/363 [==============================] - 0s 864us/step - loss: 0.0837 - mae: 0.1453 - val_loss: 0.0836 - val_mae: 0.1483\n",
      "Epoch 18/50\n",
      "363/363 [==============================] - 0s 945us/step - loss: 0.0841 - mae: 0.1471 - val_loss: 0.0826 - val_mae: 0.1406\n",
      "Epoch 19/50\n",
      "363/363 [==============================] - 0s 806us/step - loss: 0.0838 - mae: 0.1453 - val_loss: 0.0839 - val_mae: 0.1463\n",
      "Epoch 20/50\n",
      "363/363 [==============================] - 0s 791us/step - loss: 0.0836 - mae: 0.1451 - val_loss: 0.0836 - val_mae: 0.1518\n",
      "Epoch 21/50\n",
      "363/363 [==============================] - 0s 666us/step - loss: 0.0836 - mae: 0.1450 - val_loss: 0.0831 - val_mae: 0.1432\n",
      "Epoch 22/50\n",
      "363/363 [==============================] - 0s 757us/step - loss: 0.0836 - mae: 0.1464 - val_loss: 0.0837 - val_mae: 0.1531\n",
      "Epoch 23/50\n",
      "363/363 [==============================] - 0s 696us/step - loss: 0.0833 - mae: 0.1454 - val_loss: 0.0836 - val_mae: 0.1572\n",
      "Epoch 24/50\n",
      "363/363 [==============================] - 0s 690us/step - loss: 0.0836 - mae: 0.1468 - val_loss: 0.0829 - val_mae: 0.1421\n",
      "Epoch 25/50\n",
      "363/363 [==============================] - 0s 857us/step - loss: 0.0836 - mae: 0.1445 - val_loss: 0.0825 - val_mae: 0.1452\n",
      "Epoch 26/50\n",
      "363/363 [==============================] - 0s 984us/step - loss: 0.0833 - mae: 0.1455 - val_loss: 0.0830 - val_mae: 0.1491\n",
      "Epoch 27/50\n",
      "363/363 [==============================] - 0s 788us/step - loss: 0.0837 - mae: 0.1441 - val_loss: 0.0823 - val_mae: 0.1440\n",
      "Epoch 28/50\n",
      "363/363 [==============================] - 0s 660us/step - loss: 0.0831 - mae: 0.1460 - val_loss: 0.0827 - val_mae: 0.1444\n",
      "Epoch 29/50\n",
      "363/363 [==============================] - 0s 712us/step - loss: 0.0835 - mae: 0.1462 - val_loss: 0.0832 - val_mae: 0.1431\n",
      "Epoch 30/50\n",
      "363/363 [==============================] - 0s 752us/step - loss: 0.0833 - mae: 0.1450 - val_loss: 0.0823 - val_mae: 0.1438\n",
      "Epoch 31/50\n",
      "363/363 [==============================] - 0s 750us/step - loss: 0.0831 - mae: 0.1440 - val_loss: 0.0828 - val_mae: 0.1378\n",
      "Epoch 32/50\n",
      "363/363 [==============================] - 0s 728us/step - loss: 0.0831 - mae: 0.1445 - val_loss: 0.0833 - val_mae: 0.1396\n",
      "Epoch 33/50\n",
      "363/363 [==============================] - 0s 678us/step - loss: 0.0829 - mae: 0.1445 - val_loss: 0.0828 - val_mae: 0.1427\n",
      "Epoch 34/50\n",
      "363/363 [==============================] - 0s 717us/step - loss: 0.0832 - mae: 0.1454 - val_loss: 0.0831 - val_mae: 0.1476\n",
      "Epoch 35/50\n",
      "363/363 [==============================] - 0s 729us/step - loss: 0.0830 - mae: 0.1450 - val_loss: 0.0824 - val_mae: 0.1461\n",
      "Epoch 36/50\n",
      "363/363 [==============================] - 0s 751us/step - loss: 0.0829 - mae: 0.1447 - val_loss: 0.0834 - val_mae: 0.1504\n",
      "Epoch 37/50\n",
      "363/363 [==============================] - 0s 834us/step - loss: 0.0824 - mae: 0.1437 - val_loss: 0.0831 - val_mae: 0.1445\n",
      "Epoch 38/50\n",
      "363/363 [==============================] - 0s 710us/step - loss: 0.0830 - mae: 0.1449 - val_loss: 0.0826 - val_mae: 0.1401\n",
      "Epoch 39/50\n",
      "363/363 [==============================] - 0s 776us/step - loss: 0.0831 - mae: 0.1449 - val_loss: 0.0835 - val_mae: 0.1384\n",
      "Epoch 40/50\n",
      "363/363 [==============================] - 0s 796us/step - loss: 0.0828 - mae: 0.1436 - val_loss: 0.0826 - val_mae: 0.1424\n",
      "Epoch 41/50\n",
      "363/363 [==============================] - 0s 660us/step - loss: 0.0825 - mae: 0.1448 - val_loss: 0.0831 - val_mae: 0.1415\n",
      "Epoch 42/50\n",
      "363/363 [==============================] - 0s 655us/step - loss: 0.0825 - mae: 0.1441 - val_loss: 0.0831 - val_mae: 0.1494\n",
      "Epoch 43/50\n",
      "363/363 [==============================] - 0s 685us/step - loss: 0.0826 - mae: 0.1446 - val_loss: 0.0837 - val_mae: 0.1409\n",
      "Epoch 44/50\n",
      "363/363 [==============================] - 0s 687us/step - loss: 0.0823 - mae: 0.1448 - val_loss: 0.0823 - val_mae: 0.1382\n",
      "Epoch 45/50\n",
      "363/363 [==============================] - 0s 701us/step - loss: 0.0827 - mae: 0.1444 - val_loss: 0.0841 - val_mae: 0.1507\n",
      "Epoch 46/50\n",
      "363/363 [==============================] - 0s 649us/step - loss: 0.0826 - mae: 0.1438 - val_loss: 0.0836 - val_mae: 0.1481\n",
      "Epoch 47/50\n",
      "363/363 [==============================] - 0s 657us/step - loss: 0.0827 - mae: 0.1436 - val_loss: 0.0827 - val_mae: 0.1438\n",
      "Epoch 48/50\n",
      "363/363 [==============================] - 0s 664us/step - loss: 0.0824 - mae: 0.1439 - val_loss: 0.0839 - val_mae: 0.1454\n",
      "Epoch 49/50\n",
      "363/363 [==============================] - 0s 659us/step - loss: 0.0824 - mae: 0.1440 - val_loss: 0.0831 - val_mae: 0.1463\n",
      "Epoch 50/50\n",
      "363/363 [==============================] - 0s 666us/step - loss: 0.0828 - mae: 0.1431 - val_loss: 0.0840 - val_mae: 0.1434\n"
     ]
    }
   ],
   "source": [
    "# Train NN model\n",
    "history = nnmodel.fit(X_train, y_train, epochs=50, batch_size=32, validation_split=0.2)"
   ]
  },
  {
   "cell_type": "code",
   "execution_count": 32,
   "id": "a0fc784d",
   "metadata": {},
   "outputs": [
    {
     "name": "stdout",
     "output_type": "stream",
     "text": [
      "114/114 [==============================] - 0s 407us/step - loss: 0.0738 - mae: 0.1376\n",
      "Mean absolute error (MAE) on test data: 0.1376189887523651\n"
     ]
    }
   ],
   "source": [
    "# Evaluate NN model\n",
    "loss, mae = nnmodel.evaluate(X_test, y_test)\n",
    "print(f'Mean absolute error (MAE) on test data: {mae}')"
   ]
  },
  {
   "cell_type": "code",
   "execution_count": 33,
   "id": "dace10d9",
   "metadata": {},
   "outputs": [
    {
     "name": "stdout",
     "output_type": "stream",
     "text": [
      "1/1 [==============================] - 0s 32ms/step\n",
      "Predicted number of purchases: 1.1420955657958984\n"
     ]
    }
   ],
   "source": [
    "# Make prediction\n",
    "new_customer = np.array([[8,4,2]])\n",
    "scaled_data = scaler.transform(new_customer)\n",
    "prediction = nnmodel.predict(scaled_data)\n",
    "\n",
    "print(f'Predicted number of purchases: {prediction[0][0]}')"
   ]
  },
  {
   "cell_type": "code",
   "execution_count": null,
   "id": "cbf53fe1",
   "metadata": {},
   "outputs": [],
   "source": []
  }
 ],
 "metadata": {
  "kernelspec": {
   "display_name": "Python 3 (ipykernel)",
   "language": "python",
   "name": "python3"
  },
  "language_info": {
   "codemirror_mode": {
    "name": "ipython",
    "version": 3
   },
   "file_extension": ".py",
   "mimetype": "text/x-python",
   "name": "python",
   "nbconvert_exporter": "python",
   "pygments_lexer": "ipython3",
   "version": "3.10.12"
  }
 },
 "nbformat": 4,
 "nbformat_minor": 5
}
