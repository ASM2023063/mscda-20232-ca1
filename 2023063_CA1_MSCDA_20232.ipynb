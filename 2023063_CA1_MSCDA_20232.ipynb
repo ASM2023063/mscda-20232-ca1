{
 "cells": [
  {
   "cell_type": "markdown",
   "id": "6fcbb5ab",
   "metadata": {},
   "source": [
    "# Title \n",
    "\n",
    "Continuous Assessment 1 06/10/2023 - BD & ADA Module // MSc in Data Analytics Y1 S2 - <b>Student ID 2023063"
   ]
  },
  {
   "cell_type": "markdown",
   "id": "ba98d24f",
   "metadata": {},
   "source": [
    "## Introduction\n",
    "write intro\n",
    "\n",
    "--\n",
    "\n",
    "Data source: https://www.kaggle.com/datasets/mkechinov/ecommerce-events-history-in-cosmetics-shop/data"
   ]
  },
  {
   "cell_type": "markdown",
   "id": "5fc65da4",
   "metadata": {},
   "source": [
    "## Practical Big Data (PySparkSQL) - Prep data"
   ]
  },
  {
   "cell_type": "code",
   "execution_count": 1,
   "id": "472179ad",
   "metadata": {},
   "outputs": [],
   "source": [
    "#Import PySparkSQL\n",
    "import pyspark\n",
    "from pyspark.sql import SparkSession        \n",
    "\n",
    "# Create SparkSession\n",
    "spark = (SparkSession\n",
    "  .builder\n",
    "  .appName(\"SparkSQL\")\n",
    "  .getOrCreate())\n",
    "\n",
    "# Path to dataset\n",
    "csv_file = \"file:////home/hduser/Downloads/CA1/2020-Jan.csv\""
   ]
  },
  {
   "cell_type": "code",
   "execution_count": 2,
   "id": "4619ca46",
   "metadata": {
    "scrolled": true
   },
   "outputs": [
    {
     "name": "stderr",
     "output_type": "stream",
     "text": [
      "                                                                                \r"
     ]
    }
   ],
   "source": [
    "# Read and create a temporary view\n",
    "df = (spark.read.format(\"csv\")\n",
    "  .option(\"inferSchema\", \"true\")\n",
    "  .option(\"header\", \"true\")\n",
    "  .load(csv_file))\n",
    "df.createOrReplaceTempView(\"rawdata\")"
   ]
  },
  {
   "cell_type": "code",
   "execution_count": 3,
   "id": "78da792e",
   "metadata": {},
   "outputs": [
    {
     "name": "stdout",
     "output_type": "stream",
     "text": [
      "root\n",
      " |-- event_time: string (nullable = true)\n",
      " |-- event_type: string (nullable = true)\n",
      " |-- product_id: integer (nullable = true)\n",
      " |-- category_id: long (nullable = true)\n",
      " |-- category_code: string (nullable = true)\n",
      " |-- brand: string (nullable = true)\n",
      " |-- price: double (nullable = true)\n",
      " |-- user_id: integer (nullable = true)\n",
      " |-- user_session: string (nullable = true)\n",
      "\n"
     ]
    }
   ],
   "source": [
    "# Visualise inferred schema\n",
    "data = spark.sql(\"SELECT * FROM rawdata\")\n",
    "data.printSchema()"
   ]
  },
  {
   "cell_type": "code",
   "execution_count": 4,
   "id": "583586a5",
   "metadata": {},
   "outputs": [
    {
     "name": "stdout",
     "output_type": "stream",
     "text": [
      "+--------------------+----------+----------+-------------------+-------------+--------+-----+---------+--------------------+\n",
      "|          event_time|event_type|product_id|        category_id|category_code|   brand|price|  user_id|        user_session|\n",
      "+--------------------+----------+----------+-------------------+-------------+--------+-----+---------+--------------------+\n",
      "|2020-01-01 00:00:...|      view|   5809910|1602943681873052386|         null| grattol| 5.24|595414620|4adb70bb-edbd-498...|\n",
      "|2020-01-01 00:00:...|      view|   5812943|1487580012121948301|         null|kinetics| 3.97|595414640|c8c5205d-be43-4f1...|\n",
      "|2020-01-01 00:00:...|      view|   5798924|1783999068867920626|         null|  zinger| 3.97|595412617|46a5010f-bd69-4fb...|\n",
      "|2020-01-01 00:00:...|      view|   5793052|1487580005754995573|         null|    null| 4.92|420652863|546f6af3-a517-475...|\n",
      "|2020-01-01 00:00:...|      view|   5899926|2115334439910245200|         null|    null| 3.92|484071203|cff70ddf-529e-4b0...|\n",
      "+--------------------+----------+----------+-------------------+-------------+--------+-----+---------+--------------------+\n",
      "only showing top 5 rows\n",
      "\n"
     ]
    }
   ],
   "source": [
    "# Display 5 first rows\n",
    "data.show(5)"
   ]
  },
  {
   "cell_type": "code",
   "execution_count": 5,
   "id": "6b43819e",
   "metadata": {
    "scrolled": true
   },
   "outputs": [
    {
     "name": "stderr",
     "output_type": "stream",
     "text": [
      "\r",
      "[Stage 3:>                                                          (0 + 4) / 4]\r"
     ]
    },
    {
     "name": "stdout",
     "output_type": "stream",
     "text": [
      "+-----------------------+\n",
      "|count(DISTINCT user_id)|\n",
      "+-----------------------+\n",
      "|                 410073|\n",
      "+-----------------------+\n",
      "\n"
     ]
    },
    {
     "name": "stderr",
     "output_type": "stream",
     "text": [
      "\r",
      "                                                                                \r"
     ]
    }
   ],
   "source": [
    "# Number of users\n",
    "action = spark.sql(\"SELECT count(distinct user_id) FROM rawdata\")\n",
    "action.show()"
   ]
  },
  {
   "cell_type": "code",
   "execution_count": 6,
   "id": "67c070c5",
   "metadata": {
    "scrolled": true
   },
   "outputs": [
    {
     "name": "stderr",
     "output_type": "stream",
     "text": [
      "\r",
      "[Stage 9:>                                                          (0 + 4) / 4]\r"
     ]
    },
    {
     "name": "stdout",
     "output_type": "stream",
     "text": [
      "+--------------------------+\n",
      "|count(DISTINCT event_type)|\n",
      "+--------------------------+\n",
      "|                         4|\n",
      "+--------------------------+\n",
      "\n"
     ]
    },
    {
     "name": "stderr",
     "output_type": "stream",
     "text": [
      "\r",
      "                                                                                \r"
     ]
    }
   ],
   "source": [
    "# Number of events\n",
    "action = spark.sql(\"SELECT count(distinct event_type) FROM rawdata\")\n",
    "action.show()"
   ]
  },
  {
   "cell_type": "code",
   "execution_count": 7,
   "id": "a1f58e54",
   "metadata": {
    "scrolled": true
   },
   "outputs": [
    {
     "name": "stderr",
     "output_type": "stream",
     "text": [
      "\r",
      "[Stage 15:>                                                         (0 + 4) / 4]\r"
     ]
    },
    {
     "name": "stdout",
     "output_type": "stream",
     "text": [
      "+--------------------------+\n",
      "|count(DISTINCT product_id)|\n",
      "+--------------------------+\n",
      "|                     45484|\n",
      "+--------------------------+\n",
      "\n"
     ]
    },
    {
     "name": "stderr",
     "output_type": "stream",
     "text": [
      "\r",
      "[Stage 15:===========================================>              (3 + 1) / 4]\r",
      "\r",
      "                                                                                \r"
     ]
    }
   ],
   "source": [
    "# Number of products\n",
    "action = spark.sql(\"SELECT count(distinct product_id) FROM rawdata\")\n",
    "action.show()"
   ]
  },
  {
   "cell_type": "code",
   "execution_count": 8,
   "id": "8c0e024f",
   "metadata": {},
   "outputs": [
    {
     "name": "stderr",
     "output_type": "stream",
     "text": [
      "\r",
      "[Stage 21:>                                                         (0 + 4) / 4]\r"
     ]
    },
    {
     "name": "stdout",
     "output_type": "stream",
     "text": [
      "+----------+--------+\n",
      "|product_id|count(1)|\n",
      "+----------+--------+\n",
      "|   5809910|   36967|\n",
      "|   5809912|   14310|\n",
      "|   5917178|   12634|\n",
      "|   5700037|   11429|\n",
      "|   5686925|   11098|\n",
      "+----------+--------+\n",
      "only showing top 5 rows\n",
      "\n"
     ]
    },
    {
     "name": "stderr",
     "output_type": "stream",
     "text": [
      "\r",
      "                                                                                \r"
     ]
    }
   ],
   "source": [
    "# Top seller product\n",
    "countProduct = spark.sql(\"SELECT product_id, count(*) FROM rawdata GROUP BY product_id ORDER BY count(*) desc\")\n",
    "countProduct.show(5)"
   ]
  },
  {
   "cell_type": "code",
   "execution_count": 9,
   "id": "5b279d6d",
   "metadata": {
    "scrolled": false
   },
   "outputs": [
    {
     "name": "stderr",
     "output_type": "stream",
     "text": [
      "\r",
      "[Stage 24:>                                                         (0 + 4) / 4]\r"
     ]
    },
    {
     "name": "stdout",
     "output_type": "stream",
     "text": [
      "+--------------------+----------------+----------+-------------------+-------------+-------+-----+---------+--------------------+\n",
      "|          event_time|      event_type|product_id|        category_id|category_code|  brand|price|  user_id|        user_session|\n",
      "+--------------------+----------------+----------+-------------------+-------------+-------+-----+---------+--------------------+\n",
      "|2020-01-01 00:00:...|            view|   5809910|1602943681873052386|         null|grattol| 5.24|595414620|4adb70bb-edbd-498...|\n",
      "|2020-01-01 14:21:...|            view|   5809910|1602943681873052386|         null|grattol| 5.24|592285428|33ecf984-0438-459...|\n",
      "|2020-01-01 16:56:...|            view|   5809910|1602943681873052386|         null|grattol| 5.24|595651372|121148f9-4e42-48b...|\n",
      "|2020-01-01 18:40:...|remove_from_cart|   5809910|1602943681873052386|         null|grattol| 5.24|583351843|85fa8bff-02e8-4a5...|\n",
      "|2020-01-02 06:09:...|            view|   5809910|1602943681873052386|         null|grattol| 5.24|529378930|b99ea2eb-1c67-4f3...|\n",
      "+--------------------+----------------+----------+-------------------+-------------+-------+-----+---------+--------------------+\n",
      "only showing top 5 rows\n",
      "\n"
     ]
    },
    {
     "name": "stderr",
     "output_type": "stream",
     "text": [
      "\r",
      "                                                                                \r"
     ]
    }
   ],
   "source": [
    "# New dataframe with topseller product\n",
    "topseller = spark.sql(\"SELECT DISTINCT * FROM rawdata WHERE product_id LIKE 5809910\")\n",
    "topseller.show(5)"
   ]
  },
  {
   "cell_type": "code",
   "execution_count": 10,
   "id": "e0f14dec",
   "metadata": {},
   "outputs": [],
   "source": [
    "# Drop columns\n",
    "topseller = topseller.drop(*[\"product_id\",\"category_id\",\"category_code\",\"brand\",\"price\"])"
   ]
  },
  {
   "cell_type": "code",
   "execution_count": 11,
   "id": "2d9ad457",
   "metadata": {
    "scrolled": false
   },
   "outputs": [
    {
     "name": "stderr",
     "output_type": "stream",
     "text": [
      "\r",
      "[Stage 27:>                                                         (0 + 4) / 4]\r"
     ]
    },
    {
     "name": "stdout",
     "output_type": "stream",
     "text": [
      "+-----------------------+----------------+---------+------------------------------------+\n",
      "|event_time             |event_type      |user_id  |user_session                        |\n",
      "+-----------------------+----------------+---------+------------------------------------+\n",
      "|2020-01-01 00:00:00 UTC|view            |595414620|4adb70bb-edbd-4981-b60f-a05bfd32683a|\n",
      "|2020-01-01 14:21:02 UTC|view            |592285428|33ecf984-0438-459c-aea6-241319336d75|\n",
      "|2020-01-01 16:56:51 UTC|view            |595651372|121148f9-4e42-48ba-94eb-7aca8935940b|\n",
      "|2020-01-01 18:40:56 UTC|remove_from_cart|583351843|85fa8bff-02e8-4a5f-80b8-a129ce5555e3|\n",
      "|2020-01-02 06:09:01 UTC|view            |529378930|b99ea2eb-1c67-4f39-ab20-792ebfb87f93|\n",
      "|2020-01-02 08:21:31 UTC|view            |595842440|b257db78-93e8-46d4-9893-56194751a4d9|\n",
      "|2020-01-03 06:16:01 UTC|view            |595798798|8b2d9742-eb2f-4bbd-8387-ace81cfdef2a|\n",
      "|2020-01-03 11:17:22 UTC|cart            |596055322|74521846-45da-4a1e-a61e-19fbe7f6fb82|\n",
      "|2020-01-03 11:18:18 UTC|view            |552479336|46093a80-aae3-4d2d-a734-44c0acd990e3|\n",
      "|2020-01-03 11:57:45 UTC|view            |184175105|61552a84-dd9b-4198-8b8e-9f906b0bc7ac|\n",
      "+-----------------------+----------------+---------+------------------------------------+\n",
      "only showing top 10 rows\n",
      "\n"
     ]
    },
    {
     "name": "stderr",
     "output_type": "stream",
     "text": [
      "\r",
      "                                                                                \r"
     ]
    }
   ],
   "source": [
    "# Show updated topseller df\n",
    "topseller.show(10,False)"
   ]
  },
  {
   "cell_type": "code",
   "execution_count": 12,
   "id": "d37886bc",
   "metadata": {
    "scrolled": false
   },
   "outputs": [
    {
     "name": "stderr",
     "output_type": "stream",
     "text": [
      "\r",
      "[Stage 30:>                                                         (0 + 4) / 4]\r"
     ]
    },
    {
     "name": "stdout",
     "output_type": "stream",
     "text": [
      "+-----------------------+----------+------------------------------------+\n",
      "|event_time             |event_type|user_session                        |\n",
      "+-----------------------+----------+------------------------------------+\n",
      "|2020-01-07 14:33:37 UTC|view      |d6151353-322f-4a7a-b3a4-0c4c0e52e2f5|\n",
      "|2020-01-07 14:39:42 UTC|cart      |d6151353-322f-4a7a-b3a4-0c4c0e52e2f5|\n",
      "|2020-01-07 18:05:19 UTC|purchase  |697d43d2-07f9-4c59-aa7c-8dca123cebc0|\n",
      "+-----------------------+----------+------------------------------------+\n",
      "\n"
     ]
    },
    {
     "name": "stderr",
     "output_type": "stream",
     "text": [
      "\r",
      "                                                                                \r"
     ]
    }
   ],
   "source": [
    "# Customer behaviour before purchasing example\n",
    "# Random customer collected from filtering event_type: 'purchase' \n",
    "from pyspark.sql.functions import asc\n",
    "topseller.select(\"event_time\",\"event_type\",\"user_session\").filter(\"user_id = 431397250\").orderBy(asc(\"event_time\")).show(truncate=False)"
   ]
  },
  {
   "cell_type": "code",
   "execution_count": 13,
   "id": "0cca42a3",
   "metadata": {},
   "outputs": [
    {
     "name": "stderr",
     "output_type": "stream",
     "text": [
      "\r",
      "[Stage 33:>                                                         (0 + 4) / 4]\r"
     ]
    },
    {
     "name": "stdout",
     "output_type": "stream",
     "text": [
      "+-----------------------+----------+------------------------------------+\n",
      "|event_time             |event_type|user_session                        |\n",
      "+-----------------------+----------+------------------------------------+\n",
      "|2020-01-28 06:12:26 UTC|cart      |5549dfe6-109e-497f-a9f2-01c0aecdd73f|\n",
      "|2020-01-28 06:14:08 UTC|view      |5549dfe6-109e-497f-a9f2-01c0aecdd73f|\n",
      "|2020-01-28 06:17:17 UTC|view      |5549dfe6-109e-497f-a9f2-01c0aecdd73f|\n",
      "|2020-01-28 06:53:25 UTC|purchase  |67347fb6-2e23-4695-8d32-03829cc6fdaf|\n",
      "+-----------------------+----------+------------------------------------+\n",
      "\n"
     ]
    },
    {
     "name": "stderr",
     "output_type": "stream",
     "text": [
      "\r",
      "[Stage 33:=============================>                            (2 + 2) / 4]\r",
      "\r",
      "                                                                                \r"
     ]
    }
   ],
   "source": [
    "# Customer behaviour before purchasing example\n",
    "# Random customer collected from filtering event_type: 'purchase' \n",
    "from pyspark.sql.functions import asc\n",
    "topseller.select(\"event_time\",\"event_type\",\"user_session\").filter(\"user_id = 46383252\").orderBy(asc(\"event_time\")).show(30,truncate=False)"
   ]
  },
  {
   "cell_type": "code",
   "execution_count": 14,
   "id": "27e4cc2d",
   "metadata": {},
   "outputs": [],
   "source": [
    "# Sort ASC topseller df by user_id and event \n",
    "sorted_by_user_event = topseller.orderBy([\"user_id\",\"event_type\"], ascending= [True, True])"
   ]
  },
  {
   "cell_type": "code",
   "execution_count": 15,
   "id": "818dcc6e",
   "metadata": {},
   "outputs": [
    {
     "name": "stderr",
     "output_type": "stream",
     "text": [
      "[Stage 36:==============>                                           (1 + 3) / 4]\r"
     ]
    },
    {
     "name": "stdout",
     "output_type": "stream",
     "text": [
      "+-----------------------+----------------+--------+------------------------------------+\n",
      "|event_time             |event_type      |user_id |user_session                        |\n",
      "+-----------------------+----------------+--------+------------------------------------+\n",
      "|2020-01-28 05:43:43 UTC|view            |4661182 |ce380fb8-bfdd-49a5-949f-eeac2c349af1|\n",
      "|2020-01-28 05:41:23 UTC|view            |4661182 |ce380fb8-bfdd-49a5-949f-eeac2c349af1|\n",
      "|2020-01-14 09:33:54 UTC|cart            |12961898|6cb94e2c-4db2-46ac-8c11-1ced638112bc|\n",
      "|2020-01-13 11:36:50 UTC|cart            |12961898|91ceb8ab-fa0f-4929-b02e-9f36a19e73a5|\n",
      "|2020-01-27 09:37:44 UTC|remove_from_cart|12961898|ea56a517-171d-4740-a9f7-f628f40274c8|\n",
      "+-----------------------+----------------+--------+------------------------------------+\n",
      "only showing top 5 rows\n",
      "\n"
     ]
    },
    {
     "name": "stderr",
     "output_type": "stream",
     "text": [
      "\r",
      "                                                                                \r"
     ]
    }
   ],
   "source": [
    "# Return result\n",
    "sorted_by_user_event.show(5,truncate=False)"
   ]
  },
  {
   "cell_type": "code",
   "execution_count": 16,
   "id": "b977bc26",
   "metadata": {},
   "outputs": [],
   "source": [
    "# Group df by user_id and event_type\n",
    "event_type_count_user = sorted_by_user_event.groupby('user_id','event_type').count()"
   ]
  },
  {
   "cell_type": "code",
   "execution_count": 17,
   "id": "767d29d5",
   "metadata": {},
   "outputs": [],
   "source": [
    "# New df with organised data counting event_type by user_id\n",
    "sorted_event_type_count_user = event_type_count_user.orderBy([\"user_id\",\"event_type\"], ascending= [True, True])"
   ]
  },
  {
   "cell_type": "code",
   "execution_count": 18,
   "id": "6283d80d",
   "metadata": {
    "scrolled": false
   },
   "outputs": [
    {
     "name": "stderr",
     "output_type": "stream",
     "text": [
      "\r",
      "[Stage 39:>                                                         (0 + 4) / 4]\r"
     ]
    },
    {
     "name": "stdout",
     "output_type": "stream",
     "text": [
      "+--------+----------------+-----+\n",
      "| user_id|      event_type|count|\n",
      "+--------+----------------+-----+\n",
      "| 4661182|            view|    2|\n",
      "|12961898|            cart|    2|\n",
      "|12961898|remove_from_cart|    1|\n",
      "|27692594|            cart|    1|\n",
      "|31272873|            cart|    1|\n",
      "|31272873|remove_from_cart|    1|\n",
      "|46383252|            cart|    1|\n",
      "|46383252|        purchase|    1|\n",
      "|46383252|            view|    2|\n",
      "|47076222|            view|    5|\n",
      "+--------+----------------+-----+\n",
      "only showing top 10 rows\n",
      "\n"
     ]
    },
    {
     "name": "stderr",
     "output_type": "stream",
     "text": [
      "\r",
      "[Stage 39:===========================================>              (3 + 1) / 4]\r",
      "\r",
      "                                                                                \r"
     ]
    }
   ],
   "source": [
    "# Display new df\n",
    "sorted_event_type_count_user.show(10)"
   ]
  },
  {
   "cell_type": "code",
   "execution_count": 19,
   "id": "26443915",
   "metadata": {
    "scrolled": true
   },
   "outputs": [
    {
     "name": "stderr",
     "output_type": "stream",
     "text": [
      "                                                                                \r"
     ]
    },
    {
     "data": {
      "text/html": [
       "<div>\n",
       "<style scoped>\n",
       "    .dataframe tbody tr th:only-of-type {\n",
       "        vertical-align: middle;\n",
       "    }\n",
       "\n",
       "    .dataframe tbody tr th {\n",
       "        vertical-align: top;\n",
       "    }\n",
       "\n",
       "    .dataframe thead th {\n",
       "        text-align: right;\n",
       "    }\n",
       "</style>\n",
       "<table border=\"1\" class=\"dataframe\">\n",
       "  <thead>\n",
       "    <tr style=\"text-align: right;\">\n",
       "      <th></th>\n",
       "      <th>user_id</th>\n",
       "      <th>event_type</th>\n",
       "      <th>count</th>\n",
       "    </tr>\n",
       "  </thead>\n",
       "  <tbody>\n",
       "    <tr>\n",
       "      <th>0</th>\n",
       "      <td>4661182</td>\n",
       "      <td>view</td>\n",
       "      <td>2</td>\n",
       "    </tr>\n",
       "    <tr>\n",
       "      <th>1</th>\n",
       "      <td>12961898</td>\n",
       "      <td>cart</td>\n",
       "      <td>2</td>\n",
       "    </tr>\n",
       "    <tr>\n",
       "      <th>2</th>\n",
       "      <td>12961898</td>\n",
       "      <td>remove_from_cart</td>\n",
       "      <td>1</td>\n",
       "    </tr>\n",
       "    <tr>\n",
       "      <th>3</th>\n",
       "      <td>27692594</td>\n",
       "      <td>cart</td>\n",
       "      <td>1</td>\n",
       "    </tr>\n",
       "    <tr>\n",
       "      <th>4</th>\n",
       "      <td>31272873</td>\n",
       "      <td>cart</td>\n",
       "      <td>1</td>\n",
       "    </tr>\n",
       "  </tbody>\n",
       "</table>\n",
       "</div>"
      ],
      "text/plain": [
       "    user_id        event_type  count\n",
       "0   4661182              view      2\n",
       "1  12961898              cart      2\n",
       "2  12961898  remove_from_cart      1\n",
       "3  27692594              cart      1\n",
       "4  31272873              cart      1"
      ]
     },
     "execution_count": 19,
     "metadata": {},
     "output_type": "execute_result"
    }
   ],
   "source": [
    "# Convert PySpark Dataframe to Pandas\n",
    "pandas_df = sorted_event_type_count_user.toPandas()\n",
    "pandas_df.head()"
   ]
  },
  {
   "cell_type": "code",
   "execution_count": 20,
   "id": "499e9658",
   "metadata": {},
   "outputs": [
    {
     "data": {
      "text/html": [
       "<div>\n",
       "<style scoped>\n",
       "    .dataframe tbody tr th:only-of-type {\n",
       "        vertical-align: middle;\n",
       "    }\n",
       "\n",
       "    .dataframe tbody tr th {\n",
       "        vertical-align: top;\n",
       "    }\n",
       "\n",
       "    .dataframe thead th {\n",
       "        text-align: right;\n",
       "    }\n",
       "</style>\n",
       "<table border=\"1\" class=\"dataframe\">\n",
       "  <thead>\n",
       "    <tr style=\"text-align: right;\">\n",
       "      <th>event_type</th>\n",
       "      <th>cart</th>\n",
       "      <th>purchase</th>\n",
       "      <th>remove_from_cart</th>\n",
       "      <th>view</th>\n",
       "    </tr>\n",
       "    <tr>\n",
       "      <th>user_id</th>\n",
       "      <th></th>\n",
       "      <th></th>\n",
       "      <th></th>\n",
       "      <th></th>\n",
       "    </tr>\n",
       "  </thead>\n",
       "  <tbody>\n",
       "    <tr>\n",
       "      <th>4661182</th>\n",
       "      <td>NaN</td>\n",
       "      <td>NaN</td>\n",
       "      <td>NaN</td>\n",
       "      <td>2.0</td>\n",
       "    </tr>\n",
       "    <tr>\n",
       "      <th>12961898</th>\n",
       "      <td>2.0</td>\n",
       "      <td>NaN</td>\n",
       "      <td>1.0</td>\n",
       "      <td>NaN</td>\n",
       "    </tr>\n",
       "    <tr>\n",
       "      <th>27692594</th>\n",
       "      <td>1.0</td>\n",
       "      <td>NaN</td>\n",
       "      <td>NaN</td>\n",
       "      <td>NaN</td>\n",
       "    </tr>\n",
       "    <tr>\n",
       "      <th>31272873</th>\n",
       "      <td>1.0</td>\n",
       "      <td>NaN</td>\n",
       "      <td>1.0</td>\n",
       "      <td>NaN</td>\n",
       "    </tr>\n",
       "    <tr>\n",
       "      <th>46383252</th>\n",
       "      <td>1.0</td>\n",
       "      <td>1.0</td>\n",
       "      <td>NaN</td>\n",
       "      <td>2.0</td>\n",
       "    </tr>\n",
       "    <tr>\n",
       "      <th>...</th>\n",
       "      <td>...</td>\n",
       "      <td>...</td>\n",
       "      <td>...</td>\n",
       "      <td>...</td>\n",
       "    </tr>\n",
       "    <tr>\n",
       "      <th>608796694</th>\n",
       "      <td>NaN</td>\n",
       "      <td>NaN</td>\n",
       "      <td>NaN</td>\n",
       "      <td>1.0</td>\n",
       "    </tr>\n",
       "    <tr>\n",
       "      <th>608802103</th>\n",
       "      <td>NaN</td>\n",
       "      <td>NaN</td>\n",
       "      <td>NaN</td>\n",
       "      <td>1.0</td>\n",
       "    </tr>\n",
       "    <tr>\n",
       "      <th>608804936</th>\n",
       "      <td>NaN</td>\n",
       "      <td>NaN</td>\n",
       "      <td>NaN</td>\n",
       "      <td>1.0</td>\n",
       "    </tr>\n",
       "    <tr>\n",
       "      <th>608816772</th>\n",
       "      <td>NaN</td>\n",
       "      <td>NaN</td>\n",
       "      <td>NaN</td>\n",
       "      <td>4.0</td>\n",
       "    </tr>\n",
       "    <tr>\n",
       "      <th>608818188</th>\n",
       "      <td>NaN</td>\n",
       "      <td>NaN</td>\n",
       "      <td>NaN</td>\n",
       "      <td>1.0</td>\n",
       "    </tr>\n",
       "  </tbody>\n",
       "</table>\n",
       "<p>18136 rows × 4 columns</p>\n",
       "</div>"
      ],
      "text/plain": [
       "event_type  cart  purchase  remove_from_cart  view\n",
       "user_id                                           \n",
       "4661182      NaN       NaN               NaN   2.0\n",
       "12961898     2.0       NaN               1.0   NaN\n",
       "27692594     1.0       NaN               NaN   NaN\n",
       "31272873     1.0       NaN               1.0   NaN\n",
       "46383252     1.0       1.0               NaN   2.0\n",
       "...          ...       ...               ...   ...\n",
       "608796694    NaN       NaN               NaN   1.0\n",
       "608802103    NaN       NaN               NaN   1.0\n",
       "608804936    NaN       NaN               NaN   1.0\n",
       "608816772    NaN       NaN               NaN   4.0\n",
       "608818188    NaN       NaN               NaN   1.0\n",
       "\n",
       "[18136 rows x 4 columns]"
      ]
     },
     "execution_count": 20,
     "metadata": {},
     "output_type": "execute_result"
    }
   ],
   "source": [
    "# Rearrange column event_type using function .pivot() from pandas lib\n",
    "pandas_df = pandas_df.pivot(index='user_id',columns='event_type',values='count')\n",
    "pandas_df"
   ]
  },
  {
   "cell_type": "code",
   "execution_count": 21,
   "id": "c6824e95",
   "metadata": {},
   "outputs": [
    {
     "data": {
      "text/html": [
       "<div>\n",
       "<style scoped>\n",
       "    .dataframe tbody tr th:only-of-type {\n",
       "        vertical-align: middle;\n",
       "    }\n",
       "\n",
       "    .dataframe tbody tr th {\n",
       "        vertical-align: top;\n",
       "    }\n",
       "\n",
       "    .dataframe thead th {\n",
       "        text-align: right;\n",
       "    }\n",
       "</style>\n",
       "<table border=\"1\" class=\"dataframe\">\n",
       "  <thead>\n",
       "    <tr style=\"text-align: right;\">\n",
       "      <th>event_type</th>\n",
       "      <th>view</th>\n",
       "      <th>cart</th>\n",
       "      <th>remove_from_cart</th>\n",
       "      <th>purchase</th>\n",
       "    </tr>\n",
       "    <tr>\n",
       "      <th>user_id</th>\n",
       "      <th></th>\n",
       "      <th></th>\n",
       "      <th></th>\n",
       "      <th></th>\n",
       "    </tr>\n",
       "  </thead>\n",
       "  <tbody>\n",
       "    <tr>\n",
       "      <th>4661182</th>\n",
       "      <td>2.0</td>\n",
       "      <td>NaN</td>\n",
       "      <td>NaN</td>\n",
       "      <td>NaN</td>\n",
       "    </tr>\n",
       "    <tr>\n",
       "      <th>12961898</th>\n",
       "      <td>NaN</td>\n",
       "      <td>2.0</td>\n",
       "      <td>1.0</td>\n",
       "      <td>NaN</td>\n",
       "    </tr>\n",
       "    <tr>\n",
       "      <th>27692594</th>\n",
       "      <td>NaN</td>\n",
       "      <td>1.0</td>\n",
       "      <td>NaN</td>\n",
       "      <td>NaN</td>\n",
       "    </tr>\n",
       "    <tr>\n",
       "      <th>31272873</th>\n",
       "      <td>NaN</td>\n",
       "      <td>1.0</td>\n",
       "      <td>1.0</td>\n",
       "      <td>NaN</td>\n",
       "    </tr>\n",
       "    <tr>\n",
       "      <th>46383252</th>\n",
       "      <td>2.0</td>\n",
       "      <td>1.0</td>\n",
       "      <td>NaN</td>\n",
       "      <td>1.0</td>\n",
       "    </tr>\n",
       "    <tr>\n",
       "      <th>...</th>\n",
       "      <td>...</td>\n",
       "      <td>...</td>\n",
       "      <td>...</td>\n",
       "      <td>...</td>\n",
       "    </tr>\n",
       "    <tr>\n",
       "      <th>608796694</th>\n",
       "      <td>1.0</td>\n",
       "      <td>NaN</td>\n",
       "      <td>NaN</td>\n",
       "      <td>NaN</td>\n",
       "    </tr>\n",
       "    <tr>\n",
       "      <th>608802103</th>\n",
       "      <td>1.0</td>\n",
       "      <td>NaN</td>\n",
       "      <td>NaN</td>\n",
       "      <td>NaN</td>\n",
       "    </tr>\n",
       "    <tr>\n",
       "      <th>608804936</th>\n",
       "      <td>1.0</td>\n",
       "      <td>NaN</td>\n",
       "      <td>NaN</td>\n",
       "      <td>NaN</td>\n",
       "    </tr>\n",
       "    <tr>\n",
       "      <th>608816772</th>\n",
       "      <td>4.0</td>\n",
       "      <td>NaN</td>\n",
       "      <td>NaN</td>\n",
       "      <td>NaN</td>\n",
       "    </tr>\n",
       "    <tr>\n",
       "      <th>608818188</th>\n",
       "      <td>1.0</td>\n",
       "      <td>NaN</td>\n",
       "      <td>NaN</td>\n",
       "      <td>NaN</td>\n",
       "    </tr>\n",
       "  </tbody>\n",
       "</table>\n",
       "<p>18136 rows × 4 columns</p>\n",
       "</div>"
      ],
      "text/plain": [
       "event_type  view  cart  remove_from_cart  purchase\n",
       "user_id                                           \n",
       "4661182      2.0   NaN               NaN       NaN\n",
       "12961898     NaN   2.0               1.0       NaN\n",
       "27692594     NaN   1.0               NaN       NaN\n",
       "31272873     NaN   1.0               1.0       NaN\n",
       "46383252     2.0   1.0               NaN       1.0\n",
       "...          ...   ...               ...       ...\n",
       "608796694    1.0   NaN               NaN       NaN\n",
       "608802103    1.0   NaN               NaN       NaN\n",
       "608804936    1.0   NaN               NaN       NaN\n",
       "608816772    4.0   NaN               NaN       NaN\n",
       "608818188    1.0   NaN               NaN       NaN\n",
       "\n",
       "[18136 rows x 4 columns]"
      ]
     },
     "execution_count": 21,
     "metadata": {},
     "output_type": "execute_result"
    }
   ],
   "source": [
    "# Rearrange column position\n",
    "pandas_df = pandas_df.reindex(columns=['view','cart','remove_from_cart','purchase'])\n",
    "pandas_df"
   ]
  },
  {
   "cell_type": "code",
   "execution_count": 22,
   "id": "99d49497",
   "metadata": {},
   "outputs": [],
   "source": [
    "# Export final df to csv\n",
    "pandas_df.to_csv('customer_data.csv')"
   ]
  },
  {
   "cell_type": "markdown",
   "id": "8d5c45fe",
   "metadata": {},
   "source": [
    "# Part 2 - Neural Network Model"
   ]
  },
  {
   "cell_type": "code",
   "execution_count": 23,
   "id": "1d555ebc",
   "metadata": {},
   "outputs": [
    {
     "name": "stderr",
     "output_type": "stream",
     "text": [
      "/usr/lib/python3/dist-packages/scipy/__init__.py:146: UserWarning: A NumPy version >=1.17.3 and <1.25.0 is required for this version of SciPy (detected version 1.26.0\n",
      "  warnings.warn(f\"A NumPy version >={np_minversion} and <{np_maxversion}\"\n"
     ]
    }
   ],
   "source": [
    "# Import libraries\n",
    "import numpy as np\n",
    "import pandas as pd\n",
    "import matplotlib.pyplot as plt\n",
    "import seaborn as sns\n",
    "\n",
    "import tensorflow as tf\n",
    "from sklearn.model_selection import train_test_split\n",
    "from sklearn.preprocessing import StandardScaler\n",
    "\n",
    "import warnings\n",
    "warnings.filterwarnings(\"ignore\")"
   ]
  },
  {
   "cell_type": "code",
   "execution_count": 24,
   "id": "1fd26403",
   "metadata": {
    "scrolled": false
   },
   "outputs": [
    {
     "data": {
      "text/html": [
       "<div>\n",
       "<style scoped>\n",
       "    .dataframe tbody tr th:only-of-type {\n",
       "        vertical-align: middle;\n",
       "    }\n",
       "\n",
       "    .dataframe tbody tr th {\n",
       "        vertical-align: top;\n",
       "    }\n",
       "\n",
       "    .dataframe thead th {\n",
       "        text-align: right;\n",
       "    }\n",
       "</style>\n",
       "<table border=\"1\" class=\"dataframe\">\n",
       "  <thead>\n",
       "    <tr style=\"text-align: right;\">\n",
       "      <th></th>\n",
       "      <th>user_id</th>\n",
       "      <th>view</th>\n",
       "      <th>cart</th>\n",
       "      <th>remove_from_cart</th>\n",
       "      <th>purchase</th>\n",
       "    </tr>\n",
       "  </thead>\n",
       "  <tbody>\n",
       "    <tr>\n",
       "      <th>0</th>\n",
       "      <td>4661182</td>\n",
       "      <td>2.0</td>\n",
       "      <td>NaN</td>\n",
       "      <td>NaN</td>\n",
       "      <td>NaN</td>\n",
       "    </tr>\n",
       "    <tr>\n",
       "      <th>1</th>\n",
       "      <td>12961898</td>\n",
       "      <td>NaN</td>\n",
       "      <td>2.0</td>\n",
       "      <td>1.0</td>\n",
       "      <td>NaN</td>\n",
       "    </tr>\n",
       "    <tr>\n",
       "      <th>2</th>\n",
       "      <td>27692594</td>\n",
       "      <td>NaN</td>\n",
       "      <td>1.0</td>\n",
       "      <td>NaN</td>\n",
       "      <td>NaN</td>\n",
       "    </tr>\n",
       "    <tr>\n",
       "      <th>3</th>\n",
       "      <td>31272873</td>\n",
       "      <td>NaN</td>\n",
       "      <td>1.0</td>\n",
       "      <td>1.0</td>\n",
       "      <td>NaN</td>\n",
       "    </tr>\n",
       "    <tr>\n",
       "      <th>4</th>\n",
       "      <td>46383252</td>\n",
       "      <td>2.0</td>\n",
       "      <td>1.0</td>\n",
       "      <td>NaN</td>\n",
       "      <td>1.0</td>\n",
       "    </tr>\n",
       "    <tr>\n",
       "      <th>...</th>\n",
       "      <td>...</td>\n",
       "      <td>...</td>\n",
       "      <td>...</td>\n",
       "      <td>...</td>\n",
       "      <td>...</td>\n",
       "    </tr>\n",
       "    <tr>\n",
       "      <th>18131</th>\n",
       "      <td>608796694</td>\n",
       "      <td>1.0</td>\n",
       "      <td>NaN</td>\n",
       "      <td>NaN</td>\n",
       "      <td>NaN</td>\n",
       "    </tr>\n",
       "    <tr>\n",
       "      <th>18132</th>\n",
       "      <td>608802103</td>\n",
       "      <td>1.0</td>\n",
       "      <td>NaN</td>\n",
       "      <td>NaN</td>\n",
       "      <td>NaN</td>\n",
       "    </tr>\n",
       "    <tr>\n",
       "      <th>18133</th>\n",
       "      <td>608804936</td>\n",
       "      <td>1.0</td>\n",
       "      <td>NaN</td>\n",
       "      <td>NaN</td>\n",
       "      <td>NaN</td>\n",
       "    </tr>\n",
       "    <tr>\n",
       "      <th>18134</th>\n",
       "      <td>608816772</td>\n",
       "      <td>4.0</td>\n",
       "      <td>NaN</td>\n",
       "      <td>NaN</td>\n",
       "      <td>NaN</td>\n",
       "    </tr>\n",
       "    <tr>\n",
       "      <th>18135</th>\n",
       "      <td>608818188</td>\n",
       "      <td>1.0</td>\n",
       "      <td>NaN</td>\n",
       "      <td>NaN</td>\n",
       "      <td>NaN</td>\n",
       "    </tr>\n",
       "  </tbody>\n",
       "</table>\n",
       "<p>18136 rows × 5 columns</p>\n",
       "</div>"
      ],
      "text/plain": [
       "         user_id  view  cart  remove_from_cart  purchase\n",
       "0        4661182   2.0   NaN               NaN       NaN\n",
       "1       12961898   NaN   2.0               1.0       NaN\n",
       "2       27692594   NaN   1.0               NaN       NaN\n",
       "3       31272873   NaN   1.0               1.0       NaN\n",
       "4       46383252   2.0   1.0               NaN       1.0\n",
       "...          ...   ...   ...               ...       ...\n",
       "18131  608796694   1.0   NaN               NaN       NaN\n",
       "18132  608802103   1.0   NaN               NaN       NaN\n",
       "18133  608804936   1.0   NaN               NaN       NaN\n",
       "18134  608816772   4.0   NaN               NaN       NaN\n",
       "18135  608818188   1.0   NaN               NaN       NaN\n",
       "\n",
       "[18136 rows x 5 columns]"
      ]
     },
     "execution_count": 24,
     "metadata": {},
     "output_type": "execute_result"
    }
   ],
   "source": [
    "# Load dataset\n",
    "data = pd.read_csv(\"customer_data.csv\")\n",
    "data"
   ]
  },
  {
   "cell_type": "code",
   "execution_count": 25,
   "id": "6c710546",
   "metadata": {},
   "outputs": [],
   "source": [
    "# Replace NaN values with 0\n",
    "data = data.fillna(0)"
   ]
  },
  {
   "cell_type": "code",
   "execution_count": 26,
   "id": "5154aec2",
   "metadata": {},
   "outputs": [],
   "source": [
    "# Separate features and target variable\n",
    "X = data[['view', 'cart', 'remove_from_cart']]\n",
    "y = data[['purchase']]"
   ]
  },
  {
   "cell_type": "code",
   "execution_count": 27,
   "id": "9b796ea2",
   "metadata": {},
   "outputs": [],
   "source": [
    "# Split the dataset into train and test\n",
    "X_train, X_test, y_train, y_test = train_test_split(X, y, test_size = 0.2, random_state = 42)"
   ]
  },
  {
   "cell_type": "code",
   "execution_count": 28,
   "id": "de4ced5d",
   "metadata": {},
   "outputs": [],
   "source": [
    "# Scale features\n",
    "scaler = StandardScaler()\n",
    "X_train = scaler.fit_transform(X_train)\n",
    "X_test = scaler.transform(X_test)"
   ]
  },
  {
   "cell_type": "code",
   "execution_count": 29,
   "id": "5aa8fd97",
   "metadata": {},
   "outputs": [],
   "source": [
    "# Build neural network (NN) model \n",
    "nnmodel = tf.keras.Sequential([\n",
    "    tf.keras.layers.Dense(32, activation='relu', input_shape=(3,)),\n",
    "    tf.keras.layers.Dense(16, activation='relu'),\n",
    "    tf.keras.layers.Dense(1) #output layer, no activation function\n",
    "])"
   ]
  },
  {
   "cell_type": "code",
   "execution_count": 31,
   "id": "28cc3b79",
   "metadata": {},
   "outputs": [],
   "source": [
    "# Compile NN model\n",
    "\n",
    "nnmodel.compile(optimizer='adam', loss='mean_squared_error', metrics=['mae'])"
   ]
  },
  {
   "cell_type": "code",
   "execution_count": 32,
   "id": "45a5ba04",
   "metadata": {
    "scrolled": true
   },
   "outputs": [
    {
     "name": "stdout",
     "output_type": "stream",
     "text": [
      "Epoch 1/50\n",
      "363/363 [==============================] - 1s 915us/step - loss: 0.1026 - mae: 0.1628 - val_loss: 0.0927 - val_mae: 0.1632\n",
      "Epoch 2/50\n",
      "363/363 [==============================] - 0s 763us/step - loss: 0.0889 - mae: 0.1536 - val_loss: 0.0865 - val_mae: 0.1444\n",
      "Epoch 3/50\n",
      "363/363 [==============================] - 0s 743us/step - loss: 0.0871 - mae: 0.1509 - val_loss: 0.0853 - val_mae: 0.1541\n",
      "Epoch 4/50\n",
      "363/363 [==============================] - 0s 712us/step - loss: 0.0854 - mae: 0.1496 - val_loss: 0.0832 - val_mae: 0.1489\n",
      "Epoch 5/50\n",
      "363/363 [==============================] - 0s 773us/step - loss: 0.0845 - mae: 0.1468 - val_loss: 0.0833 - val_mae: 0.1474\n",
      "Epoch 6/50\n",
      "363/363 [==============================] - 0s 720us/step - loss: 0.0843 - mae: 0.1462 - val_loss: 0.0831 - val_mae: 0.1524\n",
      "Epoch 7/50\n",
      "363/363 [==============================] - 0s 832us/step - loss: 0.0845 - mae: 0.1470 - val_loss: 0.0840 - val_mae: 0.1427\n",
      "Epoch 8/50\n",
      "363/363 [==============================] - 0s 729us/step - loss: 0.0842 - mae: 0.1455 - val_loss: 0.0825 - val_mae: 0.1472\n",
      "Epoch 9/50\n",
      "363/363 [==============================] - 0s 648us/step - loss: 0.0841 - mae: 0.1446 - val_loss: 0.0842 - val_mae: 0.1425\n",
      "Epoch 10/50\n",
      "363/363 [==============================] - 0s 719us/step - loss: 0.0835 - mae: 0.1443 - val_loss: 0.0844 - val_mae: 0.1444\n",
      "Epoch 11/50\n",
      "363/363 [==============================] - 0s 638us/step - loss: 0.0836 - mae: 0.1454 - val_loss: 0.0838 - val_mae: 0.1423\n",
      "Epoch 12/50\n",
      "363/363 [==============================] - 0s 639us/step - loss: 0.0841 - mae: 0.1452 - val_loss: 0.0838 - val_mae: 0.1511\n",
      "Epoch 13/50\n",
      "363/363 [==============================] - 0s 717us/step - loss: 0.0839 - mae: 0.1446 - val_loss: 0.0834 - val_mae: 0.1529\n",
      "Epoch 14/50\n",
      "363/363 [==============================] - 0s 692us/step - loss: 0.0839 - mae: 0.1448 - val_loss: 0.0825 - val_mae: 0.1477\n",
      "Epoch 15/50\n",
      "363/363 [==============================] - 0s 629us/step - loss: 0.0835 - mae: 0.1450 - val_loss: 0.0826 - val_mae: 0.1437\n",
      "Epoch 16/50\n",
      "363/363 [==============================] - 0s 671us/step - loss: 0.0834 - mae: 0.1434 - val_loss: 0.0845 - val_mae: 0.1509\n",
      "Epoch 17/50\n",
      "363/363 [==============================] - 0s 735us/step - loss: 0.0831 - mae: 0.1439 - val_loss: 0.0828 - val_mae: 0.1458\n",
      "Epoch 18/50\n",
      "363/363 [==============================] - 0s 640us/step - loss: 0.0839 - mae: 0.1451 - val_loss: 0.0842 - val_mae: 0.1482\n",
      "Epoch 19/50\n",
      "363/363 [==============================] - 0s 638us/step - loss: 0.0831 - mae: 0.1436 - val_loss: 0.0832 - val_mae: 0.1392\n",
      "Epoch 20/50\n",
      "363/363 [==============================] - 0s 654us/step - loss: 0.0834 - mae: 0.1434 - val_loss: 0.0835 - val_mae: 0.1430\n",
      "Epoch 21/50\n",
      "363/363 [==============================] - 0s 717us/step - loss: 0.0835 - mae: 0.1446 - val_loss: 0.0826 - val_mae: 0.1426\n",
      "Epoch 22/50\n",
      "363/363 [==============================] - 0s 638us/step - loss: 0.0832 - mae: 0.1451 - val_loss: 0.0842 - val_mae: 0.1493\n",
      "Epoch 23/50\n",
      "363/363 [==============================] - 0s 624us/step - loss: 0.0833 - mae: 0.1442 - val_loss: 0.0824 - val_mae: 0.1435\n",
      "Epoch 24/50\n",
      "363/363 [==============================] - 0s 632us/step - loss: 0.0830 - mae: 0.1439 - val_loss: 0.0828 - val_mae: 0.1463\n",
      "Epoch 25/50\n",
      "363/363 [==============================] - 0s 647us/step - loss: 0.0828 - mae: 0.1441 - val_loss: 0.0836 - val_mae: 0.1382\n",
      "Epoch 26/50\n",
      "363/363 [==============================] - 0s 627us/step - loss: 0.0829 - mae: 0.1428 - val_loss: 0.0837 - val_mae: 0.1456\n",
      "Epoch 27/50\n",
      "363/363 [==============================] - 0s 718us/step - loss: 0.0825 - mae: 0.1431 - val_loss: 0.0847 - val_mae: 0.1404\n",
      "Epoch 28/50\n",
      "363/363 [==============================] - 0s 692us/step - loss: 0.0831 - mae: 0.1444 - val_loss: 0.0836 - val_mae: 0.1450\n",
      "Epoch 29/50\n",
      "363/363 [==============================] - 0s 703us/step - loss: 0.0832 - mae: 0.1445 - val_loss: 0.0834 - val_mae: 0.1402\n",
      "Epoch 30/50\n",
      "363/363 [==============================] - 0s 656us/step - loss: 0.0835 - mae: 0.1448 - val_loss: 0.0840 - val_mae: 0.1438\n",
      "Epoch 31/50\n",
      "363/363 [==============================] - 0s 657us/step - loss: 0.0830 - mae: 0.1447 - val_loss: 0.0832 - val_mae: 0.1513\n",
      "Epoch 32/50\n",
      "363/363 [==============================] - 0s 641us/step - loss: 0.0828 - mae: 0.1436 - val_loss: 0.0835 - val_mae: 0.1456\n",
      "Epoch 33/50\n",
      "363/363 [==============================] - 0s 828us/step - loss: 0.0830 - mae: 0.1452 - val_loss: 0.0833 - val_mae: 0.1371\n",
      "Epoch 34/50\n",
      "363/363 [==============================] - 0s 625us/step - loss: 0.0827 - mae: 0.1442 - val_loss: 0.0836 - val_mae: 0.1512\n",
      "Epoch 35/50\n",
      "363/363 [==============================] - 0s 651us/step - loss: 0.0825 - mae: 0.1435 - val_loss: 0.0841 - val_mae: 0.1425\n",
      "Epoch 36/50\n",
      "363/363 [==============================] - 0s 705us/step - loss: 0.0825 - mae: 0.1439 - val_loss: 0.0831 - val_mae: 0.1460\n",
      "Epoch 37/50\n",
      "363/363 [==============================] - 0s 659us/step - loss: 0.0829 - mae: 0.1439 - val_loss: 0.0838 - val_mae: 0.1439\n",
      "Epoch 38/50\n",
      "363/363 [==============================] - 0s 722us/step - loss: 0.0825 - mae: 0.1436 - val_loss: 0.0836 - val_mae: 0.1460\n",
      "Epoch 39/50\n",
      "363/363 [==============================] - 0s 710us/step - loss: 0.0829 - mae: 0.1438 - val_loss: 0.0833 - val_mae: 0.1387\n",
      "Epoch 40/50\n",
      "363/363 [==============================] - 0s 754us/step - loss: 0.0826 - mae: 0.1436 - val_loss: 0.0835 - val_mae: 0.1439\n",
      "Epoch 41/50\n",
      "363/363 [==============================] - 0s 757us/step - loss: 0.0827 - mae: 0.1439 - val_loss: 0.0841 - val_mae: 0.1417\n",
      "Epoch 42/50\n",
      "363/363 [==============================] - 0s 729us/step - loss: 0.0827 - mae: 0.1446 - val_loss: 0.0834 - val_mae: 0.1463\n",
      "Epoch 43/50\n",
      "363/363 [==============================] - 0s 717us/step - loss: 0.0823 - mae: 0.1425 - val_loss: 0.0844 - val_mae: 0.1468\n",
      "Epoch 44/50\n",
      "363/363 [==============================] - 0s 709us/step - loss: 0.0824 - mae: 0.1431 - val_loss: 0.0833 - val_mae: 0.1430\n",
      "Epoch 45/50\n",
      "363/363 [==============================] - 0s 626us/step - loss: 0.0825 - mae: 0.1432 - val_loss: 0.0837 - val_mae: 0.1504\n",
      "Epoch 46/50\n",
      "363/363 [==============================] - 0s 672us/step - loss: 0.0826 - mae: 0.1431 - val_loss: 0.0837 - val_mae: 0.1430\n",
      "Epoch 47/50\n",
      "363/363 [==============================] - 0s 655us/step - loss: 0.0821 - mae: 0.1420 - val_loss: 0.0837 - val_mae: 0.1485\n",
      "Epoch 48/50\n",
      "363/363 [==============================] - 0s 728us/step - loss: 0.0825 - mae: 0.1443 - val_loss: 0.0842 - val_mae: 0.1419\n",
      "Epoch 49/50\n",
      "363/363 [==============================] - 0s 895us/step - loss: 0.0823 - mae: 0.1430 - val_loss: 0.0842 - val_mae: 0.1484\n",
      "Epoch 50/50\n",
      "363/363 [==============================] - 0s 766us/step - loss: 0.0820 - mae: 0.1424 - val_loss: 0.0834 - val_mae: 0.1435\n"
     ]
    },
    {
     "data": {
      "text/plain": [
       "<keras.src.callbacks.History at 0xfffefa736980>"
      ]
     },
     "execution_count": 32,
     "metadata": {},
     "output_type": "execute_result"
    }
   ],
   "source": [
    "# Train NN model\n",
    "nnmodel.fit(X_train, y_train, epochs=50, batch_size=32, validation_split=0.2)"
   ]
  },
  {
   "cell_type": "code",
   "execution_count": 33,
   "id": "9ab9a72f",
   "metadata": {
    "scrolled": true
   },
   "outputs": [
    {
     "name": "stdout",
     "output_type": "stream",
     "text": [
      "114/114 [==============================] - 0s 475us/step - loss: 0.0729 - mae: 0.1380\n",
      "Mean absolute error (MAE) on test data: 0.1380244493484497\n"
     ]
    }
   ],
   "source": [
    "# Evaluate NN model\n",
    "loss, mae = nnmodel.evaluate(X_test, y_test)\n",
    "print(f'Mean absolute error (MAE) on test data: {mae}')"
   ]
  },
  {
   "cell_type": "code",
   "execution_count": 34,
   "id": "cb2aea64",
   "metadata": {},
   "outputs": [
    {
     "name": "stdout",
     "output_type": "stream",
     "text": [
      "1/1 [==============================] - 0s 31ms/step\n",
      "Predicted number of purchases: 1.0471512079238892\n"
     ]
    }
   ],
   "source": [
    "# Make prediction\n",
    "new_customer = np.array([[8,4,2]])\n",
    "scaled_data = scaler.transform(new_customer)\n",
    "prediction = nnmodel.predict(scaled_data)\n",
    "\n",
    "print(f'Predicted number of purchases: {prediction[0][0]}')"
   ]
  },
  {
   "cell_type": "code",
   "execution_count": 35,
   "id": "61016ef8",
   "metadata": {},
   "outputs": [],
   "source": [
    "# Hyperparameter tuning\n",
    "\n",
    "from tensorflow.keras.models import Sequential\n",
    "from tensorflow.keras.layers import Dense\n",
    "from tensorflow.keras.optimizers.legacy import Adam\n",
    "from itertools import product"
   ]
  },
  {
   "cell_type": "code",
   "execution_count": 36,
   "id": "23a73dc2",
   "metadata": {},
   "outputs": [],
   "source": [
    "# Define the model as a function \n",
    "def create_model(learning_rate=0.01, num_hidden_layers=2, num_neurons=32, activation='relu'):\n",
    "    model = Sequential()\n",
    "    model.add(Dense(num_neurons, activation=activation, input_shape=(3,)))\n",
    "    \n",
    "    for _ in range(num_hidden_layers - 1):\n",
    "        model.add(Dense(num_neurons, activation=activation))\n",
    "    \n",
    "    model.add(Dense(1)) #output layer, no activation function\n",
    "    \n",
    "    optimizer = Adam(learning_rate=learning_rate)\n",
    "    model.compile(optimizer=optimizer, loss='mean_squared_error', metrics=['mae'])\n",
    "    \n",
    "    return model"
   ]
  },
  {
   "cell_type": "code",
   "execution_count": 37,
   "id": "42406291",
   "metadata": {},
   "outputs": [],
   "source": [
    "# Split the dataset into train and test\n",
    "X_train, X_test, y_train, y_test = train_test_split(X, y, test_size = 0.2, random_state = 42)\n",
    "\n",
    "# Scale features\n",
    "scaler = StandardScaler()\n",
    "X_train = scaler.fit_transform(X_train)\n",
    "X_test = scaler.transform(X_test)"
   ]
  },
  {
   "cell_type": "code",
   "execution_count": 38,
   "id": "acd657c3",
   "metadata": {},
   "outputs": [],
   "source": [
    "# Define hyperparameters\n",
    "param_grid = {\n",
    "    'learning_rate': [0.001, 0.01, 0.1],\n",
    "    'num_hidden_layers': [1, 2, 3],\n",
    "    'num_neurons': [16, 32, 64],\n",
    "    'activation': ['relu', 'tanh']\n",
    "}"
   ]
  },
  {
   "cell_type": "code",
   "execution_count": 39,
   "id": "39991083",
   "metadata": {},
   "outputs": [],
   "source": [
    "# Perform the grid search\n",
    "best_params = None\n",
    "best_score = float('inf')"
   ]
  },
  {
   "cell_type": "code",
   "execution_count": 40,
   "id": "82e3bca3",
   "metadata": {
    "scrolled": true
   },
   "outputs": [
    {
     "name": "stdout",
     "output_type": "stream",
     "text": [
      "114/114 [==============================] - 0s 436us/step - loss: 0.0733 - mae: 0.1433\n",
      "114/114 [==============================] - 0s 438us/step - loss: 0.0768 - mae: 0.1534\n",
      "114/114 [==============================] - 0s 424us/step - loss: 0.0727 - mae: 0.1351\n",
      "114/114 [==============================] - 0s 438us/step - loss: 0.0800 - mae: 0.1644\n",
      "114/114 [==============================] - 0s 550us/step - loss: 0.0735 - mae: 0.1416\n",
      "114/114 [==============================] - 0s 438us/step - loss: 0.0784 - mae: 0.1406\n",
      "114/114 [==============================] - 0s 441us/step - loss: 0.0737 - mae: 0.1466\n",
      "114/114 [==============================] - 0s 433us/step - loss: 0.0729 - mae: 0.1369\n",
      "114/114 [==============================] - 0s 502us/step - loss: 0.0734 - mae: 0.1376\n",
      "114/114 [==============================] - 0s 432us/step - loss: 0.0744 - mae: 0.1558\n",
      "114/114 [==============================] - 0s 551us/step - loss: 0.0725 - mae: 0.1316\n",
      "114/114 [==============================] - 0s 472us/step - loss: 0.0725 - mae: 0.1446\n",
      "114/114 [==============================] - 0s 452us/step - loss: 0.0725 - mae: 0.1393\n",
      "114/114 [==============================] - 0s 593us/step - loss: 0.0732 - mae: 0.1460\n",
      "114/114 [==============================] - 0s 622us/step - loss: 0.0726 - mae: 0.1361\n",
      "114/114 [==============================] - 0s 546us/step - loss: 0.0726 - mae: 0.1384\n",
      "114/114 [==============================] - 0s 493us/step - loss: 0.0730 - mae: 0.1346\n",
      "114/114 [==============================] - 0s 465us/step - loss: 0.0730 - mae: 0.1417\n",
      "114/114 [==============================] - 0s 389us/step - loss: 0.0721 - mae: 0.1380\n",
      "114/114 [==============================] - 0s 474us/step - loss: 0.0789 - mae: 0.1747\n",
      "114/114 [==============================] - 0s 521us/step - loss: 0.0728 - mae: 0.1534\n",
      "114/114 [==============================] - 0s 507us/step - loss: 0.0731 - mae: 0.1416\n",
      "114/114 [==============================] - 0s 396us/step - loss: 0.0720 - mae: 0.1473\n",
      "114/114 [==============================] - 0s 455us/step - loss: 0.0817 - mae: 0.1571\n",
      "114/114 [==============================] - 0s 440us/step - loss: 0.0731 - mae: 0.1426\n",
      "114/114 [==============================] - 0s 442us/step - loss: 0.0742 - mae: 0.1527\n",
      "114/114 [==============================] - 0s 436us/step - loss: 0.0720 - mae: 0.1456\n",
      "114/114 [==============================] - 0s 454us/step - loss: 0.0737 - mae: 0.1626\n",
      "114/114 [==============================] - 0s 466us/step - loss: 0.0723 - mae: 0.1430\n",
      "114/114 [==============================] - 0s 476us/step - loss: 0.0854 - mae: 0.1600\n",
      "114/114 [==============================] - 0s 405us/step - loss: 0.0747 - mae: 0.1564\n",
      "114/114 [==============================] - 0s 441us/step - loss: 0.0742 - mae: 0.1561\n",
      "114/114 [==============================] - 0s 429us/step - loss: 0.0731 - mae: 0.1477\n",
      "114/114 [==============================] - 0s 464us/step - loss: 0.0769 - mae: 0.1802\n",
      "114/114 [==============================] - 0s 455us/step - loss: 0.0747 - mae: 0.1457\n",
      "114/114 [==============================] - 0s 484us/step - loss: 0.0991 - mae: 0.1626\n",
      "114/114 [==============================] - 0s 459us/step - loss: 0.0968 - mae: 0.1986\n",
      "114/114 [==============================] - 0s 447us/step - loss: 0.1335 - mae: 0.2415\n",
      "114/114 [==============================] - 0s 442us/step - loss: 0.1068 - mae: 0.2770\n",
      "114/114 [==============================] - 0s 416us/step - loss: 0.1070 - mae: 0.2237\n",
      "114/114 [==============================] - 0s 446us/step - loss: 0.0964 - mae: 0.1908\n",
      "114/114 [==============================] - 0s 515us/step - loss: 0.2289 - mae: 0.4421\n",
      "114/114 [==============================] - 0s 443us/step - loss: 0.1000 - mae: 0.2050\n",
      "114/114 [==============================] - 0s 447us/step - loss: 0.0816 - mae: 0.1604\n",
      "114/114 [==============================] - 0s 455us/step - loss: 0.0781 - mae: 0.1407\n",
      "114/114 [==============================] - 0s 481us/step - loss: 0.3478 - mae: 0.5592\n",
      "114/114 [==============================] - 0s 494us/step - loss: 0.0926 - mae: 0.2215\n",
      "114/114 [==============================] - 0s 455us/step - loss: 0.2675 - mae: 0.4257\n",
      "114/114 [==============================] - 0s 483us/step - loss: 0.1078 - mae: 0.2615\n",
      "114/114 [==============================] - 0s 435us/step - loss: 0.1127 - mae: 0.2805\n",
      "114/114 [==============================] - 0s 445us/step - loss: 0.1005 - mae: 0.2140\n",
      "114/114 [==============================] - 0s 475us/step - loss: 0.1004 - mae: 0.2179\n",
      "114/114 [==============================] - 0s 451us/step - loss: 0.1252 - mae: 0.3168\n",
      "114/114 [==============================] - 0s 457us/step - loss: 0.2597 - mae: 0.4223\n",
      "Best Hyperparameters:  {'learning_rate': 0.001, 'num_hidden_layers': 2, 'num_neurons': 64, 'activation': 'relu'}\n",
      "Best MAE Score:  0.1315811276435852\n"
     ]
    }
   ],
   "source": [
    "for learning_rate, num_hidden_layers, num_neurons, activation in product(\n",
    "    param_grid['learning_rate'],\n",
    "    param_grid['num_hidden_layers'],\n",
    "    param_grid['num_neurons'],\n",
    "    param_grid['activation']\n",
    "):\n",
    "    params = {\n",
    "        'learning_rate': learning_rate,\n",
    "        'num_hidden_layers': num_hidden_layers,\n",
    "        'num_neurons': num_neurons,\n",
    "        'activation': activation\n",
    "    }\n",
    "\n",
    "    # Create and compile the model\n",
    "    model1 = create_model(**params)\n",
    "\n",
    "    # Train the model on the training set\n",
    "    model1.fit(X_train, y_train, epochs=50, batch_size=32, verbose=0)\n",
    "\n",
    "    # Evaluate the model on the validation set\n",
    "    _, mae = model1.evaluate(X_test, y_test)\n",
    "\n",
    "    if mae < best_score:\n",
    "        best_score = mae\n",
    "        best_params = params\n",
    "\n",
    "# Print the best hyperparameters and corresponding score\n",
    "print(\"Best Hyperparameters: \", best_params)\n",
    "print(\"Best MAE Score: \", best_score)"
   ]
  },
  {
   "cell_type": "code",
   "execution_count": null,
   "id": "a95d420c",
   "metadata": {},
   "outputs": [],
   "source": []
  },
  {
   "cell_type": "code",
   "execution_count": null,
   "id": "52b9d512",
   "metadata": {},
   "outputs": [],
   "source": []
  }
 ],
 "metadata": {
  "kernelspec": {
   "display_name": "Python 3 (ipykernel)",
   "language": "python",
   "name": "python3"
  },
  "language_info": {
   "codemirror_mode": {
    "name": "ipython",
    "version": 3
   },
   "file_extension": ".py",
   "mimetype": "text/x-python",
   "name": "python",
   "nbconvert_exporter": "python",
   "pygments_lexer": "ipython3",
   "version": "3.10.12"
  }
 },
 "nbformat": 4,
 "nbformat_minor": 5
}
