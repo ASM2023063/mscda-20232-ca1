{
 "cells": [
  {
   "cell_type": "markdown",
   "id": "d2b51b1f",
   "metadata": {},
   "source": [
    "# Title \n",
    "\n",
    "Continuous Assessment 1 - Big Data & Adv. Data Analysis // MSc in Data Analytics Y1 S2 - <b>Student ID 2023063"
   ]
  },
  {
   "cell_type": "markdown",
   "id": "4fc95829",
   "metadata": {},
   "source": [
    "## introduction\n",
    "\n",
    "--\n",
    "\n",
    "Data source: https://www.kaggle.com/datasets/mkechinov/ecommerce-events-history-in-cosmetics-shop/data"
   ]
  },
  {
   "cell_type": "markdown",
   "id": "67f30984",
   "metadata": {},
   "source": [
    "## Practical"
   ]
  },
  {
   "cell_type": "code",
   "execution_count": 11,
   "id": "7b017412",
   "metadata": {},
   "outputs": [],
   "source": [
    "#Import PySparkSQL\n",
    "from pyspark.sql import SparkSession        \n",
    "\n",
    "# Create SparkSession\n",
    "spark = (SparkSession\n",
    "  .builder\n",
    "  .appName(\"SparkSQL\")\n",
    "  .getOrCreate())\n",
    "\n",
    "# Path to dataset\n",
    "csv_file = \"file:////home/hduser/Downloads/CA1/2020-Jan.csv\""
   ]
  },
  {
   "cell_type": "code",
   "execution_count": 15,
   "id": "39ff9d1b",
   "metadata": {},
   "outputs": [
    {
     "name": "stderr",
     "output_type": "stream",
     "text": [
      "                                                                                \r"
     ]
    }
   ],
   "source": [
    "# Read and create a temporary view\n",
    "df = (spark.read.format(\"csv\")\n",
    "  .option(\"inferSchema\", \"true\")\n",
    "  .option(\"header\", \"true\")\n",
    "  .load(csv_file))\n",
    "df.createOrReplaceTempView(\"rawdata\")"
   ]
  },
  {
   "cell_type": "code",
   "execution_count": 16,
   "id": "b70accc3",
   "metadata": {},
   "outputs": [],
   "source": [
    "# Return data\n",
    "data = spark.sql(\"\"\"SELECT * FROM rawdata\"\"\")"
   ]
  },
  {
   "cell_type": "code",
   "execution_count": 19,
   "id": "5efc8115",
   "metadata": {},
   "outputs": [
    {
     "name": "stdout",
     "output_type": "stream",
     "text": [
      "root\n",
      " |-- event_time: string (nullable = true)\n",
      " |-- event_type: string (nullable = true)\n",
      " |-- product_id: integer (nullable = true)\n",
      " |-- category_id: long (nullable = true)\n",
      " |-- category_code: string (nullable = true)\n",
      " |-- brand: string (nullable = true)\n",
      " |-- price: double (nullable = true)\n",
      " |-- user_id: integer (nullable = true)\n",
      " |-- user_session: string (nullable = true)\n",
      "\n"
     ]
    }
   ],
   "source": [
    "# Visualise inferred schema\n",
    "data.printSchema()"
   ]
  },
  {
   "cell_type": "code",
   "execution_count": 20,
   "id": "48f3dad7",
   "metadata": {},
   "outputs": [],
   "source": [
    "data.createOrReplaceTempView(\"event\")"
   ]
  },
  {
   "cell_type": "code",
   "execution_count": 28,
   "id": "e1ddaf52",
   "metadata": {},
   "outputs": [
    {
     "name": "stderr",
     "output_type": "stream",
     "text": [
      "\r",
      "[Stage 25:>                                                         (0 + 4) / 4]\r"
     ]
    },
    {
     "name": "stdout",
     "output_type": "stream",
     "text": [
      "+--------------------------+\n",
      "|count(DISTINCT event_type)|\n",
      "+--------------------------+\n",
      "|                         4|\n",
      "+--------------------------+\n",
      "\n"
     ]
    },
    {
     "name": "stderr",
     "output_type": "stream",
     "text": [
      "\r",
      "[Stage 25:===========================================>              (3 + 1) / 4]\r",
      "\r",
      "                                                                                \r"
     ]
    }
   ],
   "source": [
    "action = spark.sql(\"SELECT count(distinct event_type) FROM event GROUP BY 'product_id'\")\n",
    "action.show()"
   ]
  },
  {
   "cell_type": "code",
   "execution_count": null,
   "id": "5ad405a6",
   "metadata": {},
   "outputs": [],
   "source": []
  }
 ],
 "metadata": {
  "kernelspec": {
   "display_name": "Python 3 (ipykernel)",
   "language": "python",
   "name": "python3"
  },
  "language_info": {
   "codemirror_mode": {
    "name": "ipython",
    "version": 3
   },
   "file_extension": ".py",
   "mimetype": "text/x-python",
   "name": "python",
   "nbconvert_exporter": "python",
   "pygments_lexer": "ipython3",
   "version": "3.10.12"
  }
 },
 "nbformat": 4,
 "nbformat_minor": 5
}
