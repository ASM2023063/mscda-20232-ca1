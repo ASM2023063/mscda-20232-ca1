{
 "cells": [
  {
   "cell_type": "markdown",
   "id": "6fcbb5ab",
   "metadata": {},
   "source": [
    "# Predictive Modeling of Customer Purchase Behaviour in E-Commerce: A Neural Network Approach\n",
    "\n",
    "Continuous Assessment 1 06/10/2023 - BD & ADA Module // MSc in Data Analytics Y1 S2 - <b>Student ID 2023063\n",
    "    \n",
    "Data source: https://www.kaggle.com/datasets/mkechinov/ecommerce-events-history-in-cosmetics-shop/data\n",
    "\n",
    "Github: https://github.com/ASM2023063/mscda-20232-ca1"
   ]
  },
  {
   "cell_type": "markdown",
   "id": "ba98d24f",
   "metadata": {},
   "source": [
    "## 1. Research  Understanding Phase\n",
    "\n",
    "write \n",
    "\n",
    "--\n",
    "\n"
   ]
  },
  {
   "cell_type": "markdown",
   "id": "014a8747",
   "metadata": {},
   "source": [
    "## 2. Data Understanding Phase"
   ]
  },
  {
   "cell_type": "markdown",
   "id": "5fc65da4",
   "metadata": {},
   "source": [
    "### Practical Big Data (PySparkSQL) - Part 1"
   ]
  },
  {
   "cell_type": "code",
   "execution_count": 1,
   "id": "472179ad",
   "metadata": {},
   "outputs": [],
   "source": [
    "#Import PySparkSQL\n",
    "import pyspark\n",
    "from pyspark.sql import SparkSession        \n",
    "\n",
    "# Create SparkSession\n",
    "spark = (SparkSession\n",
    "  .builder\n",
    "  .appName(\"SparkSQL\")\n",
    "  .getOrCreate())\n",
    "\n",
    "# Path to dataset\n",
    "csv_file = \"file:////home/hduser/Downloads/CA1/2020-Jan.csv\""
   ]
  },
  {
   "cell_type": "code",
   "execution_count": 2,
   "id": "4619ca46",
   "metadata": {
    "scrolled": true
   },
   "outputs": [
    {
     "name": "stderr",
     "output_type": "stream",
     "text": [
      "                                                                                \r"
     ]
    }
   ],
   "source": [
    "# Read and create a temporary view\n",
    "df = (spark.read.format(\"csv\")\n",
    "  .option(\"inferSchema\", \"true\")\n",
    "  .option(\"header\", \"true\")\n",
    "  .load(csv_file))\n",
    "df.createOrReplaceTempView(\"rawdata\")"
   ]
  },
  {
   "cell_type": "code",
   "execution_count": 3,
   "id": "78da792e",
   "metadata": {},
   "outputs": [
    {
     "name": "stdout",
     "output_type": "stream",
     "text": [
      "root\n",
      " |-- event_time: string (nullable = true)\n",
      " |-- event_type: string (nullable = true)\n",
      " |-- product_id: integer (nullable = true)\n",
      " |-- category_id: long (nullable = true)\n",
      " |-- category_code: string (nullable = true)\n",
      " |-- brand: string (nullable = true)\n",
      " |-- price: double (nullable = true)\n",
      " |-- user_id: integer (nullable = true)\n",
      " |-- user_session: string (nullable = true)\n",
      "\n"
     ]
    }
   ],
   "source": [
    "# Visualise inferred schema\n",
    "data = spark.sql(\"SELECT * FROM rawdata\")\n",
    "data.printSchema()"
   ]
  },
  {
   "cell_type": "code",
   "execution_count": 4,
   "id": "583586a5",
   "metadata": {},
   "outputs": [
    {
     "name": "stdout",
     "output_type": "stream",
     "text": [
      "+--------------------+----------+----------+-------------------+-------------+--------+-----+---------+--------------------+\n",
      "|          event_time|event_type|product_id|        category_id|category_code|   brand|price|  user_id|        user_session|\n",
      "+--------------------+----------+----------+-------------------+-------------+--------+-----+---------+--------------------+\n",
      "|2020-01-01 00:00:...|      view|   5809910|1602943681873052386|         null| grattol| 5.24|595414620|4adb70bb-edbd-498...|\n",
      "|2020-01-01 00:00:...|      view|   5812943|1487580012121948301|         null|kinetics| 3.97|595414640|c8c5205d-be43-4f1...|\n",
      "|2020-01-01 00:00:...|      view|   5798924|1783999068867920626|         null|  zinger| 3.97|595412617|46a5010f-bd69-4fb...|\n",
      "|2020-01-01 00:00:...|      view|   5793052|1487580005754995573|         null|    null| 4.92|420652863|546f6af3-a517-475...|\n",
      "|2020-01-01 00:00:...|      view|   5899926|2115334439910245200|         null|    null| 3.92|484071203|cff70ddf-529e-4b0...|\n",
      "+--------------------+----------+----------+-------------------+-------------+--------+-----+---------+--------------------+\n",
      "only showing top 5 rows\n",
      "\n"
     ]
    }
   ],
   "source": [
    "# Display 5 first rows\n",
    "data.show(5)"
   ]
  },
  {
   "cell_type": "code",
   "execution_count": 5,
   "id": "6b43819e",
   "metadata": {
    "scrolled": true
   },
   "outputs": [
    {
     "name": "stderr",
     "output_type": "stream",
     "text": [
      "\r",
      "[Stage 3:>                                                          (0 + 4) / 4]\r"
     ]
    },
    {
     "name": "stdout",
     "output_type": "stream",
     "text": [
      "+-----------------------+\n",
      "|count(DISTINCT user_id)|\n",
      "+-----------------------+\n",
      "|                 410073|\n",
      "+-----------------------+\n",
      "\n"
     ]
    },
    {
     "name": "stderr",
     "output_type": "stream",
     "text": [
      "\r",
      "                                                                                \r"
     ]
    }
   ],
   "source": [
    "# Number of users\n",
    "action = spark.sql(\"SELECT count(distinct user_id) FROM rawdata\")\n",
    "action.show()"
   ]
  },
  {
   "cell_type": "code",
   "execution_count": 6,
   "id": "67c070c5",
   "metadata": {
    "scrolled": true
   },
   "outputs": [
    {
     "name": "stderr",
     "output_type": "stream",
     "text": [
      "[Stage 9:==============>                                            (1 + 3) / 4]\r"
     ]
    },
    {
     "name": "stdout",
     "output_type": "stream",
     "text": [
      "+--------------------------+\n",
      "|count(DISTINCT event_type)|\n",
      "+--------------------------+\n",
      "|                         4|\n",
      "+--------------------------+\n",
      "\n"
     ]
    },
    {
     "name": "stderr",
     "output_type": "stream",
     "text": [
      "\r",
      "                                                                                \r"
     ]
    }
   ],
   "source": [
    "# Number of events\n",
    "action = spark.sql(\"SELECT count(distinct event_type) FROM rawdata\")\n",
    "action.show()"
   ]
  },
  {
   "cell_type": "code",
   "execution_count": 7,
   "id": "a1f58e54",
   "metadata": {
    "scrolled": true
   },
   "outputs": [
    {
     "name": "stderr",
     "output_type": "stream",
     "text": [
      "\r",
      "[Stage 15:>                                                         (0 + 4) / 4]\r"
     ]
    },
    {
     "name": "stdout",
     "output_type": "stream",
     "text": [
      "+--------------------------+\n",
      "|count(DISTINCT product_id)|\n",
      "+--------------------------+\n",
      "|                     45484|\n",
      "+--------------------------+\n",
      "\n"
     ]
    },
    {
     "name": "stderr",
     "output_type": "stream",
     "text": [
      "\r",
      "                                                                                \r"
     ]
    }
   ],
   "source": [
    "# Number of products\n",
    "action = spark.sql(\"SELECT count(distinct product_id) FROM rawdata\")\n",
    "action.show()"
   ]
  },
  {
   "cell_type": "code",
   "execution_count": 8,
   "id": "8c0e024f",
   "metadata": {},
   "outputs": [
    {
     "name": "stderr",
     "output_type": "stream",
     "text": [
      "[Stage 21:===========================================>              (3 + 1) / 4]\r"
     ]
    },
    {
     "name": "stdout",
     "output_type": "stream",
     "text": [
      "+----------+--------+\n",
      "|product_id|count(1)|\n",
      "+----------+--------+\n",
      "|   5809910|   36967|\n",
      "|   5809912|   14310|\n",
      "|   5917178|   12634|\n",
      "|   5700037|   11429|\n",
      "|   5686925|   11098|\n",
      "+----------+--------+\n",
      "only showing top 5 rows\n",
      "\n"
     ]
    },
    {
     "name": "stderr",
     "output_type": "stream",
     "text": [
      "\r",
      "                                                                                \r"
     ]
    }
   ],
   "source": [
    "# Top seller product\n",
    "countProduct = spark.sql(\"SELECT product_id, count(*) FROM rawdata GROUP BY product_id ORDER BY count(*) desc\")\n",
    "countProduct.show(5)"
   ]
  },
  {
   "cell_type": "markdown",
   "id": "5cc90ad9",
   "metadata": {},
   "source": [
    "## 3. Data Preparation Phase"
   ]
  },
  {
   "cell_type": "code",
   "execution_count": 9,
   "id": "5b279d6d",
   "metadata": {
    "scrolled": false
   },
   "outputs": [
    {
     "name": "stderr",
     "output_type": "stream",
     "text": [
      "\r",
      "[Stage 24:>                                                         (0 + 4) / 4]\r"
     ]
    },
    {
     "name": "stdout",
     "output_type": "stream",
     "text": [
      "+--------------------+----------------+----------+-------------------+-------------+-------+-----+---------+--------------------+\n",
      "|          event_time|      event_type|product_id|        category_id|category_code|  brand|price|  user_id|        user_session|\n",
      "+--------------------+----------------+----------+-------------------+-------------+-------+-----+---------+--------------------+\n",
      "|2020-01-01 00:00:...|            view|   5809910|1602943681873052386|         null|grattol| 5.24|595414620|4adb70bb-edbd-498...|\n",
      "|2020-01-01 14:21:...|            view|   5809910|1602943681873052386|         null|grattol| 5.24|592285428|33ecf984-0438-459...|\n",
      "|2020-01-01 16:56:...|            view|   5809910|1602943681873052386|         null|grattol| 5.24|595651372|121148f9-4e42-48b...|\n",
      "|2020-01-01 18:40:...|remove_from_cart|   5809910|1602943681873052386|         null|grattol| 5.24|583351843|85fa8bff-02e8-4a5...|\n",
      "|2020-01-02 06:09:...|            view|   5809910|1602943681873052386|         null|grattol| 5.24|529378930|b99ea2eb-1c67-4f3...|\n",
      "+--------------------+----------------+----------+-------------------+-------------+-------+-----+---------+--------------------+\n",
      "only showing top 5 rows\n",
      "\n"
     ]
    },
    {
     "name": "stderr",
     "output_type": "stream",
     "text": [
      "\r",
      "                                                                                \r"
     ]
    }
   ],
   "source": [
    "# New dataframe with topseller product\n",
    "topseller = spark.sql(\"SELECT DISTINCT * FROM rawdata WHERE product_id LIKE 5809910\")\n",
    "topseller.show(5)"
   ]
  },
  {
   "cell_type": "code",
   "execution_count": 10,
   "id": "e0f14dec",
   "metadata": {},
   "outputs": [],
   "source": [
    "# Drop columns\n",
    "topseller = topseller.drop(*[\"product_id\",\"category_id\",\"category_code\",\"brand\",\"price\"])"
   ]
  },
  {
   "cell_type": "code",
   "execution_count": 11,
   "id": "2d9ad457",
   "metadata": {
    "scrolled": false
   },
   "outputs": [
    {
     "name": "stderr",
     "output_type": "stream",
     "text": [
      "\r",
      "[Stage 27:>                                                         (0 + 4) / 4]\r"
     ]
    },
    {
     "name": "stdout",
     "output_type": "stream",
     "text": [
      "+-----------------------+----------------+---------+------------------------------------+\n",
      "|event_time             |event_type      |user_id  |user_session                        |\n",
      "+-----------------------+----------------+---------+------------------------------------+\n",
      "|2020-01-01 00:00:00 UTC|view            |595414620|4adb70bb-edbd-4981-b60f-a05bfd32683a|\n",
      "|2020-01-01 14:21:02 UTC|view            |592285428|33ecf984-0438-459c-aea6-241319336d75|\n",
      "|2020-01-01 16:56:51 UTC|view            |595651372|121148f9-4e42-48ba-94eb-7aca8935940b|\n",
      "|2020-01-01 18:40:56 UTC|remove_from_cart|583351843|85fa8bff-02e8-4a5f-80b8-a129ce5555e3|\n",
      "|2020-01-02 06:09:01 UTC|view            |529378930|b99ea2eb-1c67-4f39-ab20-792ebfb87f93|\n",
      "|2020-01-02 08:21:31 UTC|view            |595842440|b257db78-93e8-46d4-9893-56194751a4d9|\n",
      "|2020-01-03 06:16:01 UTC|view            |595798798|8b2d9742-eb2f-4bbd-8387-ace81cfdef2a|\n",
      "|2020-01-03 11:17:22 UTC|cart            |596055322|74521846-45da-4a1e-a61e-19fbe7f6fb82|\n",
      "|2020-01-03 11:18:18 UTC|view            |552479336|46093a80-aae3-4d2d-a734-44c0acd990e3|\n",
      "|2020-01-03 11:57:45 UTC|view            |184175105|61552a84-dd9b-4198-8b8e-9f906b0bc7ac|\n",
      "+-----------------------+----------------+---------+------------------------------------+\n",
      "only showing top 10 rows\n",
      "\n"
     ]
    },
    {
     "name": "stderr",
     "output_type": "stream",
     "text": [
      "\r",
      "                                                                                \r"
     ]
    }
   ],
   "source": [
    "# Show updated topseller df\n",
    "topseller.show(10,False)"
   ]
  },
  {
   "cell_type": "code",
   "execution_count": 12,
   "id": "d37886bc",
   "metadata": {
    "scrolled": false
   },
   "outputs": [
    {
     "name": "stderr",
     "output_type": "stream",
     "text": [
      "\r",
      "[Stage 30:>                                                         (0 + 4) / 4]\r"
     ]
    },
    {
     "name": "stdout",
     "output_type": "stream",
     "text": [
      "+-----------------------+----------+------------------------------------+\n",
      "|event_time             |event_type|user_session                        |\n",
      "+-----------------------+----------+------------------------------------+\n",
      "|2020-01-07 14:33:37 UTC|view      |d6151353-322f-4a7a-b3a4-0c4c0e52e2f5|\n",
      "|2020-01-07 14:39:42 UTC|cart      |d6151353-322f-4a7a-b3a4-0c4c0e52e2f5|\n",
      "|2020-01-07 18:05:19 UTC|purchase  |697d43d2-07f9-4c59-aa7c-8dca123cebc0|\n",
      "+-----------------------+----------+------------------------------------+\n",
      "\n"
     ]
    },
    {
     "name": "stderr",
     "output_type": "stream",
     "text": [
      "\r",
      "                                                                                \r"
     ]
    }
   ],
   "source": [
    "# Customer behaviour before purchasing example\n",
    "# Random customer collected from filtering event_type: 'purchase' \n",
    "from pyspark.sql.functions import asc\n",
    "topseller.select(\"event_time\",\"event_type\",\"user_session\").filter(\"user_id = 431397250\").orderBy(asc(\"event_time\")).show(truncate=False)"
   ]
  },
  {
   "cell_type": "code",
   "execution_count": 13,
   "id": "0cca42a3",
   "metadata": {},
   "outputs": [
    {
     "name": "stderr",
     "output_type": "stream",
     "text": [
      "\r",
      "[Stage 33:>                                                         (0 + 4) / 4]\r"
     ]
    },
    {
     "name": "stdout",
     "output_type": "stream",
     "text": [
      "+-----------------------+----------+------------------------------------+\n",
      "|event_time             |event_type|user_session                        |\n",
      "+-----------------------+----------+------------------------------------+\n",
      "|2020-01-28 06:12:26 UTC|cart      |5549dfe6-109e-497f-a9f2-01c0aecdd73f|\n",
      "|2020-01-28 06:14:08 UTC|view      |5549dfe6-109e-497f-a9f2-01c0aecdd73f|\n",
      "|2020-01-28 06:17:17 UTC|view      |5549dfe6-109e-497f-a9f2-01c0aecdd73f|\n",
      "|2020-01-28 06:53:25 UTC|purchase  |67347fb6-2e23-4695-8d32-03829cc6fdaf|\n",
      "+-----------------------+----------+------------------------------------+\n",
      "\n"
     ]
    },
    {
     "name": "stderr",
     "output_type": "stream",
     "text": [
      "\r",
      "[Stage 33:==============>                                           (1 + 3) / 4]\r",
      "\r",
      "                                                                                \r"
     ]
    }
   ],
   "source": [
    "# Customer behaviour before purchasing example\n",
    "# Random customer collected from filtering event_type: 'purchase' \n",
    "from pyspark.sql.functions import asc\n",
    "topseller.select(\"event_time\",\"event_type\",\"user_session\").filter(\"user_id = 46383252\").orderBy(asc(\"event_time\")).show(30,truncate=False)"
   ]
  },
  {
   "cell_type": "code",
   "execution_count": 14,
   "id": "27e4cc2d",
   "metadata": {},
   "outputs": [],
   "source": [
    "# Sort ASC topseller df by user_id and event \n",
    "sorted_by_user_event = topseller.orderBy([\"user_id\",\"event_type\"], ascending= [True, True])"
   ]
  },
  {
   "cell_type": "code",
   "execution_count": 15,
   "id": "818dcc6e",
   "metadata": {},
   "outputs": [
    {
     "name": "stderr",
     "output_type": "stream",
     "text": [
      "\r",
      "[Stage 36:>                                                         (0 + 4) / 4]\r"
     ]
    },
    {
     "name": "stdout",
     "output_type": "stream",
     "text": [
      "+-----------------------+----------------+--------+------------------------------------+\n",
      "|event_time             |event_type      |user_id |user_session                        |\n",
      "+-----------------------+----------------+--------+------------------------------------+\n",
      "|2020-01-28 05:41:23 UTC|view            |4661182 |ce380fb8-bfdd-49a5-949f-eeac2c349af1|\n",
      "|2020-01-28 05:43:43 UTC|view            |4661182 |ce380fb8-bfdd-49a5-949f-eeac2c349af1|\n",
      "|2020-01-14 09:33:54 UTC|cart            |12961898|6cb94e2c-4db2-46ac-8c11-1ced638112bc|\n",
      "|2020-01-13 11:36:50 UTC|cart            |12961898|91ceb8ab-fa0f-4929-b02e-9f36a19e73a5|\n",
      "|2020-01-27 09:37:44 UTC|remove_from_cart|12961898|ea56a517-171d-4740-a9f7-f628f40274c8|\n",
      "+-----------------------+----------------+--------+------------------------------------+\n",
      "only showing top 5 rows\n",
      "\n"
     ]
    },
    {
     "name": "stderr",
     "output_type": "stream",
     "text": [
      "\r",
      "                                                                                \r"
     ]
    }
   ],
   "source": [
    "# Return result\n",
    "sorted_by_user_event.show(5,truncate=False)"
   ]
  },
  {
   "cell_type": "code",
   "execution_count": 16,
   "id": "b977bc26",
   "metadata": {},
   "outputs": [],
   "source": [
    "# Group df by user_id and event_type\n",
    "event_type_count_user = sorted_by_user_event.groupby('user_id','event_type').count()"
   ]
  },
  {
   "cell_type": "code",
   "execution_count": 17,
   "id": "767d29d5",
   "metadata": {},
   "outputs": [],
   "source": [
    "# New df with organised data counting event_type by user_id\n",
    "sorted_event_type_count_user = event_type_count_user.orderBy([\"user_id\",\"event_type\"], ascending= [True, True])"
   ]
  },
  {
   "cell_type": "code",
   "execution_count": 18,
   "id": "6283d80d",
   "metadata": {
    "scrolled": false
   },
   "outputs": [
    {
     "name": "stderr",
     "output_type": "stream",
     "text": [
      "\r",
      "[Stage 39:>                                                         (0 + 4) / 4]\r"
     ]
    },
    {
     "name": "stdout",
     "output_type": "stream",
     "text": [
      "+--------+----------------+-----+\n",
      "| user_id|      event_type|count|\n",
      "+--------+----------------+-----+\n",
      "| 4661182|            view|    2|\n",
      "|12961898|            cart|    2|\n",
      "|12961898|remove_from_cart|    1|\n",
      "|27692594|            cart|    1|\n",
      "|31272873|            cart|    1|\n",
      "|31272873|remove_from_cart|    1|\n",
      "|46383252|            cart|    1|\n",
      "|46383252|        purchase|    1|\n",
      "|46383252|            view|    2|\n",
      "|47076222|            view|    5|\n",
      "+--------+----------------+-----+\n",
      "only showing top 10 rows\n",
      "\n"
     ]
    },
    {
     "name": "stderr",
     "output_type": "stream",
     "text": [
      "\r",
      "                                                                                \r"
     ]
    }
   ],
   "source": [
    "# Display new df\n",
    "sorted_event_type_count_user.show(10)"
   ]
  },
  {
   "cell_type": "code",
   "execution_count": 19,
   "id": "26443915",
   "metadata": {
    "scrolled": true
   },
   "outputs": [
    {
     "name": "stderr",
     "output_type": "stream",
     "text": [
      "                                                                                \r"
     ]
    },
    {
     "data": {
      "text/html": [
       "<div>\n",
       "<style scoped>\n",
       "    .dataframe tbody tr th:only-of-type {\n",
       "        vertical-align: middle;\n",
       "    }\n",
       "\n",
       "    .dataframe tbody tr th {\n",
       "        vertical-align: top;\n",
       "    }\n",
       "\n",
       "    .dataframe thead th {\n",
       "        text-align: right;\n",
       "    }\n",
       "</style>\n",
       "<table border=\"1\" class=\"dataframe\">\n",
       "  <thead>\n",
       "    <tr style=\"text-align: right;\">\n",
       "      <th></th>\n",
       "      <th>user_id</th>\n",
       "      <th>event_type</th>\n",
       "      <th>count</th>\n",
       "    </tr>\n",
       "  </thead>\n",
       "  <tbody>\n",
       "    <tr>\n",
       "      <th>0</th>\n",
       "      <td>4661182</td>\n",
       "      <td>view</td>\n",
       "      <td>2</td>\n",
       "    </tr>\n",
       "    <tr>\n",
       "      <th>1</th>\n",
       "      <td>12961898</td>\n",
       "      <td>cart</td>\n",
       "      <td>2</td>\n",
       "    </tr>\n",
       "    <tr>\n",
       "      <th>2</th>\n",
       "      <td>12961898</td>\n",
       "      <td>remove_from_cart</td>\n",
       "      <td>1</td>\n",
       "    </tr>\n",
       "    <tr>\n",
       "      <th>3</th>\n",
       "      <td>27692594</td>\n",
       "      <td>cart</td>\n",
       "      <td>1</td>\n",
       "    </tr>\n",
       "    <tr>\n",
       "      <th>4</th>\n",
       "      <td>31272873</td>\n",
       "      <td>cart</td>\n",
       "      <td>1</td>\n",
       "    </tr>\n",
       "  </tbody>\n",
       "</table>\n",
       "</div>"
      ],
      "text/plain": [
       "    user_id        event_type  count\n",
       "0   4661182              view      2\n",
       "1  12961898              cart      2\n",
       "2  12961898  remove_from_cart      1\n",
       "3  27692594              cart      1\n",
       "4  31272873              cart      1"
      ]
     },
     "execution_count": 19,
     "metadata": {},
     "output_type": "execute_result"
    }
   ],
   "source": [
    "# Convert PySpark Dataframe to Pandas\n",
    "pandas_df = sorted_event_type_count_user.toPandas()\n",
    "pandas_df.head()"
   ]
  },
  {
   "cell_type": "code",
   "execution_count": 20,
   "id": "499e9658",
   "metadata": {},
   "outputs": [
    {
     "data": {
      "text/html": [
       "<div>\n",
       "<style scoped>\n",
       "    .dataframe tbody tr th:only-of-type {\n",
       "        vertical-align: middle;\n",
       "    }\n",
       "\n",
       "    .dataframe tbody tr th {\n",
       "        vertical-align: top;\n",
       "    }\n",
       "\n",
       "    .dataframe thead th {\n",
       "        text-align: right;\n",
       "    }\n",
       "</style>\n",
       "<table border=\"1\" class=\"dataframe\">\n",
       "  <thead>\n",
       "    <tr style=\"text-align: right;\">\n",
       "      <th>event_type</th>\n",
       "      <th>cart</th>\n",
       "      <th>purchase</th>\n",
       "      <th>remove_from_cart</th>\n",
       "      <th>view</th>\n",
       "    </tr>\n",
       "    <tr>\n",
       "      <th>user_id</th>\n",
       "      <th></th>\n",
       "      <th></th>\n",
       "      <th></th>\n",
       "      <th></th>\n",
       "    </tr>\n",
       "  </thead>\n",
       "  <tbody>\n",
       "    <tr>\n",
       "      <th>4661182</th>\n",
       "      <td>NaN</td>\n",
       "      <td>NaN</td>\n",
       "      <td>NaN</td>\n",
       "      <td>2.0</td>\n",
       "    </tr>\n",
       "    <tr>\n",
       "      <th>12961898</th>\n",
       "      <td>2.0</td>\n",
       "      <td>NaN</td>\n",
       "      <td>1.0</td>\n",
       "      <td>NaN</td>\n",
       "    </tr>\n",
       "    <tr>\n",
       "      <th>27692594</th>\n",
       "      <td>1.0</td>\n",
       "      <td>NaN</td>\n",
       "      <td>NaN</td>\n",
       "      <td>NaN</td>\n",
       "    </tr>\n",
       "    <tr>\n",
       "      <th>31272873</th>\n",
       "      <td>1.0</td>\n",
       "      <td>NaN</td>\n",
       "      <td>1.0</td>\n",
       "      <td>NaN</td>\n",
       "    </tr>\n",
       "    <tr>\n",
       "      <th>46383252</th>\n",
       "      <td>1.0</td>\n",
       "      <td>1.0</td>\n",
       "      <td>NaN</td>\n",
       "      <td>2.0</td>\n",
       "    </tr>\n",
       "    <tr>\n",
       "      <th>...</th>\n",
       "      <td>...</td>\n",
       "      <td>...</td>\n",
       "      <td>...</td>\n",
       "      <td>...</td>\n",
       "    </tr>\n",
       "    <tr>\n",
       "      <th>608796694</th>\n",
       "      <td>NaN</td>\n",
       "      <td>NaN</td>\n",
       "      <td>NaN</td>\n",
       "      <td>1.0</td>\n",
       "    </tr>\n",
       "    <tr>\n",
       "      <th>608802103</th>\n",
       "      <td>NaN</td>\n",
       "      <td>NaN</td>\n",
       "      <td>NaN</td>\n",
       "      <td>1.0</td>\n",
       "    </tr>\n",
       "    <tr>\n",
       "      <th>608804936</th>\n",
       "      <td>NaN</td>\n",
       "      <td>NaN</td>\n",
       "      <td>NaN</td>\n",
       "      <td>1.0</td>\n",
       "    </tr>\n",
       "    <tr>\n",
       "      <th>608816772</th>\n",
       "      <td>NaN</td>\n",
       "      <td>NaN</td>\n",
       "      <td>NaN</td>\n",
       "      <td>4.0</td>\n",
       "    </tr>\n",
       "    <tr>\n",
       "      <th>608818188</th>\n",
       "      <td>NaN</td>\n",
       "      <td>NaN</td>\n",
       "      <td>NaN</td>\n",
       "      <td>1.0</td>\n",
       "    </tr>\n",
       "  </tbody>\n",
       "</table>\n",
       "<p>18136 rows × 4 columns</p>\n",
       "</div>"
      ],
      "text/plain": [
       "event_type  cart  purchase  remove_from_cart  view\n",
       "user_id                                           \n",
       "4661182      NaN       NaN               NaN   2.0\n",
       "12961898     2.0       NaN               1.0   NaN\n",
       "27692594     1.0       NaN               NaN   NaN\n",
       "31272873     1.0       NaN               1.0   NaN\n",
       "46383252     1.0       1.0               NaN   2.0\n",
       "...          ...       ...               ...   ...\n",
       "608796694    NaN       NaN               NaN   1.0\n",
       "608802103    NaN       NaN               NaN   1.0\n",
       "608804936    NaN       NaN               NaN   1.0\n",
       "608816772    NaN       NaN               NaN   4.0\n",
       "608818188    NaN       NaN               NaN   1.0\n",
       "\n",
       "[18136 rows x 4 columns]"
      ]
     },
     "execution_count": 20,
     "metadata": {},
     "output_type": "execute_result"
    }
   ],
   "source": [
    "# Rearrange column event_type using function .pivot() from pandas lib\n",
    "pandas_df = pandas_df.pivot(index='user_id',columns='event_type',values='count')\n",
    "pandas_df"
   ]
  },
  {
   "cell_type": "code",
   "execution_count": 21,
   "id": "c6824e95",
   "metadata": {},
   "outputs": [
    {
     "data": {
      "text/html": [
       "<div>\n",
       "<style scoped>\n",
       "    .dataframe tbody tr th:only-of-type {\n",
       "        vertical-align: middle;\n",
       "    }\n",
       "\n",
       "    .dataframe tbody tr th {\n",
       "        vertical-align: top;\n",
       "    }\n",
       "\n",
       "    .dataframe thead th {\n",
       "        text-align: right;\n",
       "    }\n",
       "</style>\n",
       "<table border=\"1\" class=\"dataframe\">\n",
       "  <thead>\n",
       "    <tr style=\"text-align: right;\">\n",
       "      <th>event_type</th>\n",
       "      <th>view</th>\n",
       "      <th>cart</th>\n",
       "      <th>remove_from_cart</th>\n",
       "      <th>purchase</th>\n",
       "    </tr>\n",
       "    <tr>\n",
       "      <th>user_id</th>\n",
       "      <th></th>\n",
       "      <th></th>\n",
       "      <th></th>\n",
       "      <th></th>\n",
       "    </tr>\n",
       "  </thead>\n",
       "  <tbody>\n",
       "    <tr>\n",
       "      <th>4661182</th>\n",
       "      <td>2.0</td>\n",
       "      <td>NaN</td>\n",
       "      <td>NaN</td>\n",
       "      <td>NaN</td>\n",
       "    </tr>\n",
       "    <tr>\n",
       "      <th>12961898</th>\n",
       "      <td>NaN</td>\n",
       "      <td>2.0</td>\n",
       "      <td>1.0</td>\n",
       "      <td>NaN</td>\n",
       "    </tr>\n",
       "    <tr>\n",
       "      <th>27692594</th>\n",
       "      <td>NaN</td>\n",
       "      <td>1.0</td>\n",
       "      <td>NaN</td>\n",
       "      <td>NaN</td>\n",
       "    </tr>\n",
       "    <tr>\n",
       "      <th>31272873</th>\n",
       "      <td>NaN</td>\n",
       "      <td>1.0</td>\n",
       "      <td>1.0</td>\n",
       "      <td>NaN</td>\n",
       "    </tr>\n",
       "    <tr>\n",
       "      <th>46383252</th>\n",
       "      <td>2.0</td>\n",
       "      <td>1.0</td>\n",
       "      <td>NaN</td>\n",
       "      <td>1.0</td>\n",
       "    </tr>\n",
       "    <tr>\n",
       "      <th>...</th>\n",
       "      <td>...</td>\n",
       "      <td>...</td>\n",
       "      <td>...</td>\n",
       "      <td>...</td>\n",
       "    </tr>\n",
       "    <tr>\n",
       "      <th>608796694</th>\n",
       "      <td>1.0</td>\n",
       "      <td>NaN</td>\n",
       "      <td>NaN</td>\n",
       "      <td>NaN</td>\n",
       "    </tr>\n",
       "    <tr>\n",
       "      <th>608802103</th>\n",
       "      <td>1.0</td>\n",
       "      <td>NaN</td>\n",
       "      <td>NaN</td>\n",
       "      <td>NaN</td>\n",
       "    </tr>\n",
       "    <tr>\n",
       "      <th>608804936</th>\n",
       "      <td>1.0</td>\n",
       "      <td>NaN</td>\n",
       "      <td>NaN</td>\n",
       "      <td>NaN</td>\n",
       "    </tr>\n",
       "    <tr>\n",
       "      <th>608816772</th>\n",
       "      <td>4.0</td>\n",
       "      <td>NaN</td>\n",
       "      <td>NaN</td>\n",
       "      <td>NaN</td>\n",
       "    </tr>\n",
       "    <tr>\n",
       "      <th>608818188</th>\n",
       "      <td>1.0</td>\n",
       "      <td>NaN</td>\n",
       "      <td>NaN</td>\n",
       "      <td>NaN</td>\n",
       "    </tr>\n",
       "  </tbody>\n",
       "</table>\n",
       "<p>18136 rows × 4 columns</p>\n",
       "</div>"
      ],
      "text/plain": [
       "event_type  view  cart  remove_from_cart  purchase\n",
       "user_id                                           \n",
       "4661182      2.0   NaN               NaN       NaN\n",
       "12961898     NaN   2.0               1.0       NaN\n",
       "27692594     NaN   1.0               NaN       NaN\n",
       "31272873     NaN   1.0               1.0       NaN\n",
       "46383252     2.0   1.0               NaN       1.0\n",
       "...          ...   ...               ...       ...\n",
       "608796694    1.0   NaN               NaN       NaN\n",
       "608802103    1.0   NaN               NaN       NaN\n",
       "608804936    1.0   NaN               NaN       NaN\n",
       "608816772    4.0   NaN               NaN       NaN\n",
       "608818188    1.0   NaN               NaN       NaN\n",
       "\n",
       "[18136 rows x 4 columns]"
      ]
     },
     "execution_count": 21,
     "metadata": {},
     "output_type": "execute_result"
    }
   ],
   "source": [
    "# Rearrange column position\n",
    "pandas_df = pandas_df.reindex(columns=['view','cart','remove_from_cart','purchase'])\n",
    "pandas_df"
   ]
  },
  {
   "cell_type": "code",
   "execution_count": 22,
   "id": "99d49497",
   "metadata": {},
   "outputs": [],
   "source": [
    "# Export final df to csv\n",
    "pandas_df.to_csv('customer_data.csv')"
   ]
  },
  {
   "cell_type": "markdown",
   "id": "71f7aa69",
   "metadata": {},
   "source": [
    "## 4. Modeling Phase"
   ]
  },
  {
   "cell_type": "markdown",
   "id": "8d5c45fe",
   "metadata": {},
   "source": [
    "### Neural Network Model - Part 2"
   ]
  },
  {
   "cell_type": "code",
   "execution_count": 23,
   "id": "1d555ebc",
   "metadata": {},
   "outputs": [
    {
     "name": "stderr",
     "output_type": "stream",
     "text": [
      "/usr/lib/python3/dist-packages/scipy/__init__.py:146: UserWarning: A NumPy version >=1.17.3 and <1.25.0 is required for this version of SciPy (detected version 1.26.0\n",
      "  warnings.warn(f\"A NumPy version >={np_minversion} and <{np_maxversion}\"\n"
     ]
    }
   ],
   "source": [
    "# Import libraries\n",
    "import numpy as np\n",
    "import pandas as pd\n",
    "import matplotlib.pyplot as plt\n",
    "import seaborn as sns\n",
    "\n",
    "import tensorflow as tf\n",
    "from sklearn.model_selection import train_test_split\n",
    "from sklearn.preprocessing import StandardScaler\n",
    "\n",
    "import warnings\n",
    "warnings.filterwarnings(\"ignore\")"
   ]
  },
  {
   "cell_type": "code",
   "execution_count": 24,
   "id": "1fd26403",
   "metadata": {
    "scrolled": false
   },
   "outputs": [
    {
     "data": {
      "text/html": [
       "<div>\n",
       "<style scoped>\n",
       "    .dataframe tbody tr th:only-of-type {\n",
       "        vertical-align: middle;\n",
       "    }\n",
       "\n",
       "    .dataframe tbody tr th {\n",
       "        vertical-align: top;\n",
       "    }\n",
       "\n",
       "    .dataframe thead th {\n",
       "        text-align: right;\n",
       "    }\n",
       "</style>\n",
       "<table border=\"1\" class=\"dataframe\">\n",
       "  <thead>\n",
       "    <tr style=\"text-align: right;\">\n",
       "      <th></th>\n",
       "      <th>user_id</th>\n",
       "      <th>view</th>\n",
       "      <th>cart</th>\n",
       "      <th>remove_from_cart</th>\n",
       "      <th>purchase</th>\n",
       "    </tr>\n",
       "  </thead>\n",
       "  <tbody>\n",
       "    <tr>\n",
       "      <th>0</th>\n",
       "      <td>4661182</td>\n",
       "      <td>2.0</td>\n",
       "      <td>NaN</td>\n",
       "      <td>NaN</td>\n",
       "      <td>NaN</td>\n",
       "    </tr>\n",
       "    <tr>\n",
       "      <th>1</th>\n",
       "      <td>12961898</td>\n",
       "      <td>NaN</td>\n",
       "      <td>2.0</td>\n",
       "      <td>1.0</td>\n",
       "      <td>NaN</td>\n",
       "    </tr>\n",
       "    <tr>\n",
       "      <th>2</th>\n",
       "      <td>27692594</td>\n",
       "      <td>NaN</td>\n",
       "      <td>1.0</td>\n",
       "      <td>NaN</td>\n",
       "      <td>NaN</td>\n",
       "    </tr>\n",
       "    <tr>\n",
       "      <th>3</th>\n",
       "      <td>31272873</td>\n",
       "      <td>NaN</td>\n",
       "      <td>1.0</td>\n",
       "      <td>1.0</td>\n",
       "      <td>NaN</td>\n",
       "    </tr>\n",
       "    <tr>\n",
       "      <th>4</th>\n",
       "      <td>46383252</td>\n",
       "      <td>2.0</td>\n",
       "      <td>1.0</td>\n",
       "      <td>NaN</td>\n",
       "      <td>1.0</td>\n",
       "    </tr>\n",
       "    <tr>\n",
       "      <th>...</th>\n",
       "      <td>...</td>\n",
       "      <td>...</td>\n",
       "      <td>...</td>\n",
       "      <td>...</td>\n",
       "      <td>...</td>\n",
       "    </tr>\n",
       "    <tr>\n",
       "      <th>18131</th>\n",
       "      <td>608796694</td>\n",
       "      <td>1.0</td>\n",
       "      <td>NaN</td>\n",
       "      <td>NaN</td>\n",
       "      <td>NaN</td>\n",
       "    </tr>\n",
       "    <tr>\n",
       "      <th>18132</th>\n",
       "      <td>608802103</td>\n",
       "      <td>1.0</td>\n",
       "      <td>NaN</td>\n",
       "      <td>NaN</td>\n",
       "      <td>NaN</td>\n",
       "    </tr>\n",
       "    <tr>\n",
       "      <th>18133</th>\n",
       "      <td>608804936</td>\n",
       "      <td>1.0</td>\n",
       "      <td>NaN</td>\n",
       "      <td>NaN</td>\n",
       "      <td>NaN</td>\n",
       "    </tr>\n",
       "    <tr>\n",
       "      <th>18134</th>\n",
       "      <td>608816772</td>\n",
       "      <td>4.0</td>\n",
       "      <td>NaN</td>\n",
       "      <td>NaN</td>\n",
       "      <td>NaN</td>\n",
       "    </tr>\n",
       "    <tr>\n",
       "      <th>18135</th>\n",
       "      <td>608818188</td>\n",
       "      <td>1.0</td>\n",
       "      <td>NaN</td>\n",
       "      <td>NaN</td>\n",
       "      <td>NaN</td>\n",
       "    </tr>\n",
       "  </tbody>\n",
       "</table>\n",
       "<p>18136 rows × 5 columns</p>\n",
       "</div>"
      ],
      "text/plain": [
       "         user_id  view  cart  remove_from_cart  purchase\n",
       "0        4661182   2.0   NaN               NaN       NaN\n",
       "1       12961898   NaN   2.0               1.0       NaN\n",
       "2       27692594   NaN   1.0               NaN       NaN\n",
       "3       31272873   NaN   1.0               1.0       NaN\n",
       "4       46383252   2.0   1.0               NaN       1.0\n",
       "...          ...   ...   ...               ...       ...\n",
       "18131  608796694   1.0   NaN               NaN       NaN\n",
       "18132  608802103   1.0   NaN               NaN       NaN\n",
       "18133  608804936   1.0   NaN               NaN       NaN\n",
       "18134  608816772   4.0   NaN               NaN       NaN\n",
       "18135  608818188   1.0   NaN               NaN       NaN\n",
       "\n",
       "[18136 rows x 5 columns]"
      ]
     },
     "execution_count": 24,
     "metadata": {},
     "output_type": "execute_result"
    }
   ],
   "source": [
    "# Load dataset\n",
    "data = pd.read_csv(\"customer_data.csv\")\n",
    "data"
   ]
  },
  {
   "cell_type": "code",
   "execution_count": 25,
   "id": "6c710546",
   "metadata": {},
   "outputs": [],
   "source": [
    "# Replace NaN values with 0\n",
    "data = data.fillna(0)"
   ]
  },
  {
   "cell_type": "code",
   "execution_count": 26,
   "id": "6b96cb72",
   "metadata": {},
   "outputs": [
    {
     "data": {
      "text/html": [
       "<div>\n",
       "<style scoped>\n",
       "    .dataframe tbody tr th:only-of-type {\n",
       "        vertical-align: middle;\n",
       "    }\n",
       "\n",
       "    .dataframe tbody tr th {\n",
       "        vertical-align: top;\n",
       "    }\n",
       "\n",
       "    .dataframe thead th {\n",
       "        text-align: right;\n",
       "    }\n",
       "</style>\n",
       "<table border=\"1\" class=\"dataframe\">\n",
       "  <thead>\n",
       "    <tr style=\"text-align: right;\">\n",
       "      <th></th>\n",
       "      <th>user_id</th>\n",
       "      <th>view</th>\n",
       "      <th>cart</th>\n",
       "      <th>remove_from_cart</th>\n",
       "      <th>purchase</th>\n",
       "    </tr>\n",
       "  </thead>\n",
       "  <tbody>\n",
       "    <tr>\n",
       "      <th>0</th>\n",
       "      <td>4661182</td>\n",
       "      <td>2.0</td>\n",
       "      <td>0.0</td>\n",
       "      <td>0.0</td>\n",
       "      <td>0.0</td>\n",
       "    </tr>\n",
       "    <tr>\n",
       "      <th>1</th>\n",
       "      <td>12961898</td>\n",
       "      <td>0.0</td>\n",
       "      <td>2.0</td>\n",
       "      <td>1.0</td>\n",
       "      <td>0.0</td>\n",
       "    </tr>\n",
       "    <tr>\n",
       "      <th>2</th>\n",
       "      <td>27692594</td>\n",
       "      <td>0.0</td>\n",
       "      <td>1.0</td>\n",
       "      <td>0.0</td>\n",
       "      <td>0.0</td>\n",
       "    </tr>\n",
       "    <tr>\n",
       "      <th>3</th>\n",
       "      <td>31272873</td>\n",
       "      <td>0.0</td>\n",
       "      <td>1.0</td>\n",
       "      <td>1.0</td>\n",
       "      <td>0.0</td>\n",
       "    </tr>\n",
       "    <tr>\n",
       "      <th>4</th>\n",
       "      <td>46383252</td>\n",
       "      <td>2.0</td>\n",
       "      <td>1.0</td>\n",
       "      <td>0.0</td>\n",
       "      <td>1.0</td>\n",
       "    </tr>\n",
       "    <tr>\n",
       "      <th>...</th>\n",
       "      <td>...</td>\n",
       "      <td>...</td>\n",
       "      <td>...</td>\n",
       "      <td>...</td>\n",
       "      <td>...</td>\n",
       "    </tr>\n",
       "    <tr>\n",
       "      <th>18131</th>\n",
       "      <td>608796694</td>\n",
       "      <td>1.0</td>\n",
       "      <td>0.0</td>\n",
       "      <td>0.0</td>\n",
       "      <td>0.0</td>\n",
       "    </tr>\n",
       "    <tr>\n",
       "      <th>18132</th>\n",
       "      <td>608802103</td>\n",
       "      <td>1.0</td>\n",
       "      <td>0.0</td>\n",
       "      <td>0.0</td>\n",
       "      <td>0.0</td>\n",
       "    </tr>\n",
       "    <tr>\n",
       "      <th>18133</th>\n",
       "      <td>608804936</td>\n",
       "      <td>1.0</td>\n",
       "      <td>0.0</td>\n",
       "      <td>0.0</td>\n",
       "      <td>0.0</td>\n",
       "    </tr>\n",
       "    <tr>\n",
       "      <th>18134</th>\n",
       "      <td>608816772</td>\n",
       "      <td>4.0</td>\n",
       "      <td>0.0</td>\n",
       "      <td>0.0</td>\n",
       "      <td>0.0</td>\n",
       "    </tr>\n",
       "    <tr>\n",
       "      <th>18135</th>\n",
       "      <td>608818188</td>\n",
       "      <td>1.0</td>\n",
       "      <td>0.0</td>\n",
       "      <td>0.0</td>\n",
       "      <td>0.0</td>\n",
       "    </tr>\n",
       "  </tbody>\n",
       "</table>\n",
       "<p>18136 rows × 5 columns</p>\n",
       "</div>"
      ],
      "text/plain": [
       "         user_id  view  cart  remove_from_cart  purchase\n",
       "0        4661182   2.0   0.0               0.0       0.0\n",
       "1       12961898   0.0   2.0               1.0       0.0\n",
       "2       27692594   0.0   1.0               0.0       0.0\n",
       "3       31272873   0.0   1.0               1.0       0.0\n",
       "4       46383252   2.0   1.0               0.0       1.0\n",
       "...          ...   ...   ...               ...       ...\n",
       "18131  608796694   1.0   0.0               0.0       0.0\n",
       "18132  608802103   1.0   0.0               0.0       0.0\n",
       "18133  608804936   1.0   0.0               0.0       0.0\n",
       "18134  608816772   4.0   0.0               0.0       0.0\n",
       "18135  608818188   1.0   0.0               0.0       0.0\n",
       "\n",
       "[18136 rows x 5 columns]"
      ]
     },
     "execution_count": 26,
     "metadata": {},
     "output_type": "execute_result"
    }
   ],
   "source": [
    "data"
   ]
  },
  {
   "cell_type": "code",
   "execution_count": 27,
   "id": "5154aec2",
   "metadata": {},
   "outputs": [],
   "source": [
    "# Separate features and target variable\n",
    "X = data[['view', 'cart', 'remove_from_cart']]\n",
    "y = data[['purchase']]"
   ]
  },
  {
   "cell_type": "code",
   "execution_count": 28,
   "id": "9b796ea2",
   "metadata": {},
   "outputs": [],
   "source": [
    "# Split the dataset into train and test\n",
    "X_train, X_test, y_train, y_test = train_test_split(X, y, test_size = 0.2, random_state = 42)"
   ]
  },
  {
   "cell_type": "code",
   "execution_count": 29,
   "id": "de4ced5d",
   "metadata": {},
   "outputs": [],
   "source": [
    "# Scale features\n",
    "scaler = StandardScaler()\n",
    "X_train = scaler.fit_transform(X_train)\n",
    "X_test = scaler.transform(X_test)"
   ]
  },
  {
   "cell_type": "code",
   "execution_count": 30,
   "id": "5aa8fd97",
   "metadata": {},
   "outputs": [],
   "source": [
    "# Build neural network (NN) model \n",
    "nnmodel = tf.keras.Sequential([\n",
    "    tf.keras.layers.Dense(32, activation='relu', input_shape=(3,)),\n",
    "    tf.keras.layers.Dense(16, activation='relu'),\n",
    "    tf.keras.layers.Dense(1) #output layer, no activation function\n",
    "])"
   ]
  },
  {
   "cell_type": "code",
   "execution_count": 31,
   "id": "28cc3b79",
   "metadata": {},
   "outputs": [],
   "source": [
    "# Compile NN model\n",
    "\n",
    "nnmodel.compile(optimizer='adam', loss='mean_squared_error', metrics=['mae'])"
   ]
  },
  {
   "cell_type": "code",
   "execution_count": 32,
   "id": "45a5ba04",
   "metadata": {
    "scrolled": true
   },
   "outputs": [
    {
     "name": "stdout",
     "output_type": "stream",
     "text": [
      "Epoch 1/50\n",
      "363/363 [==============================] - 0s 794us/step - loss: 0.0947 - mae: 0.1590 - val_loss: 0.0893 - val_mae: 0.1505\n",
      "Epoch 2/50\n",
      "363/363 [==============================] - 0s 665us/step - loss: 0.0893 - mae: 0.1547 - val_loss: 0.0883 - val_mae: 0.1625\n",
      "Epoch 3/50\n",
      "363/363 [==============================] - 0s 692us/step - loss: 0.0866 - mae: 0.1528 - val_loss: 0.0837 - val_mae: 0.1564\n",
      "Epoch 4/50\n",
      "363/363 [==============================] - 0s 764us/step - loss: 0.0862 - mae: 0.1503 - val_loss: 0.0849 - val_mae: 0.1448\n",
      "Epoch 5/50\n",
      "363/363 [==============================] - 0s 666us/step - loss: 0.0854 - mae: 0.1492 - val_loss: 0.0823 - val_mae: 0.1460\n",
      "Epoch 6/50\n",
      "363/363 [==============================] - 0s 643us/step - loss: 0.0857 - mae: 0.1486 - val_loss: 0.0833 - val_mae: 0.1462\n",
      "Epoch 7/50\n",
      "363/363 [==============================] - 0s 654us/step - loss: 0.0853 - mae: 0.1483 - val_loss: 0.0835 - val_mae: 0.1460\n",
      "Epoch 8/50\n",
      "363/363 [==============================] - 0s 683us/step - loss: 0.0855 - mae: 0.1479 - val_loss: 0.0854 - val_mae: 0.1562\n",
      "Epoch 9/50\n",
      "363/363 [==============================] - 0s 666us/step - loss: 0.0850 - mae: 0.1478 - val_loss: 0.0832 - val_mae: 0.1408\n",
      "Epoch 10/50\n",
      "363/363 [==============================] - 0s 666us/step - loss: 0.0848 - mae: 0.1482 - val_loss: 0.0839 - val_mae: 0.1445\n",
      "Epoch 11/50\n",
      "363/363 [==============================] - 0s 686us/step - loss: 0.0851 - mae: 0.1483 - val_loss: 0.0832 - val_mae: 0.1377\n",
      "Epoch 12/50\n",
      "363/363 [==============================] - 0s 678us/step - loss: 0.0847 - mae: 0.1476 - val_loss: 0.0862 - val_mae: 0.1546\n",
      "Epoch 13/50\n",
      "363/363 [==============================] - 0s 700us/step - loss: 0.0846 - mae: 0.1457 - val_loss: 0.0875 - val_mae: 0.1568\n",
      "Epoch 14/50\n",
      "363/363 [==============================] - 0s 692us/step - loss: 0.0841 - mae: 0.1474 - val_loss: 0.0844 - val_mae: 0.1567\n",
      "Epoch 15/50\n",
      "363/363 [==============================] - 0s 661us/step - loss: 0.0846 - mae: 0.1456 - val_loss: 0.0843 - val_mae: 0.1347\n",
      "Epoch 16/50\n",
      "363/363 [==============================] - 0s 652us/step - loss: 0.0841 - mae: 0.1467 - val_loss: 0.0865 - val_mae: 0.1543\n",
      "Epoch 17/50\n",
      "363/363 [==============================] - 0s 682us/step - loss: 0.0844 - mae: 0.1475 - val_loss: 0.0832 - val_mae: 0.1417\n",
      "Epoch 18/50\n",
      "363/363 [==============================] - 0s 645us/step - loss: 0.0845 - mae: 0.1460 - val_loss: 0.0829 - val_mae: 0.1461\n",
      "Epoch 19/50\n",
      "363/363 [==============================] - 0s 637us/step - loss: 0.0846 - mae: 0.1481 - val_loss: 0.0829 - val_mae: 0.1402\n",
      "Epoch 20/50\n",
      "363/363 [==============================] - 0s 682us/step - loss: 0.0842 - mae: 0.1457 - val_loss: 0.0819 - val_mae: 0.1460\n",
      "Epoch 21/50\n",
      "363/363 [==============================] - 0s 694us/step - loss: 0.0840 - mae: 0.1474 - val_loss: 0.0835 - val_mae: 0.1422\n",
      "Epoch 22/50\n",
      "363/363 [==============================] - 0s 641us/step - loss: 0.0838 - mae: 0.1457 - val_loss: 0.0821 - val_mae: 0.1468\n",
      "Epoch 23/50\n",
      "363/363 [==============================] - 0s 666us/step - loss: 0.0839 - mae: 0.1456 - val_loss: 0.0825 - val_mae: 0.1470\n",
      "Epoch 24/50\n",
      "363/363 [==============================] - 0s 660us/step - loss: 0.0858 - mae: 0.1468 - val_loss: 0.0821 - val_mae: 0.1463\n",
      "Epoch 25/50\n",
      "363/363 [==============================] - 0s 718us/step - loss: 0.0841 - mae: 0.1457 - val_loss: 0.0840 - val_mae: 0.1424\n",
      "Epoch 26/50\n",
      "363/363 [==============================] - 0s 654us/step - loss: 0.0839 - mae: 0.1458 - val_loss: 0.0833 - val_mae: 0.1404\n",
      "Epoch 27/50\n",
      "363/363 [==============================] - 0s 689us/step - loss: 0.0838 - mae: 0.1454 - val_loss: 0.0848 - val_mae: 0.1516\n",
      "Epoch 28/50\n",
      "363/363 [==============================] - 0s 637us/step - loss: 0.0841 - mae: 0.1444 - val_loss: 0.0832 - val_mae: 0.1509\n",
      "Epoch 29/50\n",
      "363/363 [==============================] - 0s 684us/step - loss: 0.0837 - mae: 0.1464 - val_loss: 0.0827 - val_mae: 0.1425\n",
      "Epoch 30/50\n",
      "363/363 [==============================] - 0s 684us/step - loss: 0.0837 - mae: 0.1463 - val_loss: 0.0841 - val_mae: 0.1436\n",
      "Epoch 31/50\n",
      "363/363 [==============================] - 0s 785us/step - loss: 0.0840 - mae: 0.1461 - val_loss: 0.0829 - val_mae: 0.1465\n",
      "Epoch 32/50\n",
      "363/363 [==============================] - 0s 685us/step - loss: 0.0840 - mae: 0.1457 - val_loss: 0.0820 - val_mae: 0.1393\n",
      "Epoch 33/50\n",
      "363/363 [==============================] - 0s 647us/step - loss: 0.0835 - mae: 0.1440 - val_loss: 0.0824 - val_mae: 0.1492\n",
      "Epoch 34/50\n",
      "363/363 [==============================] - 0s 652us/step - loss: 0.0833 - mae: 0.1458 - val_loss: 0.0823 - val_mae: 0.1433\n",
      "Epoch 35/50\n",
      "363/363 [==============================] - 0s 664us/step - loss: 0.0835 - mae: 0.1454 - val_loss: 0.0834 - val_mae: 0.1500\n",
      "Epoch 36/50\n",
      "363/363 [==============================] - 0s 658us/step - loss: 0.0839 - mae: 0.1446 - val_loss: 0.0828 - val_mae: 0.1497\n",
      "Epoch 37/50\n",
      "363/363 [==============================] - 0s 658us/step - loss: 0.0842 - mae: 0.1456 - val_loss: 0.0835 - val_mae: 0.1448\n",
      "Epoch 38/50\n",
      "363/363 [==============================] - 0s 661us/step - loss: 0.0832 - mae: 0.1462 - val_loss: 0.0829 - val_mae: 0.1516\n",
      "Epoch 39/50\n",
      "363/363 [==============================] - 0s 640us/step - loss: 0.0832 - mae: 0.1448 - val_loss: 0.0848 - val_mae: 0.1410\n",
      "Epoch 40/50\n",
      "363/363 [==============================] - 0s 684us/step - loss: 0.0834 - mae: 0.1452 - val_loss: 0.0837 - val_mae: 0.1471\n",
      "Epoch 41/50\n",
      "363/363 [==============================] - 0s 687us/step - loss: 0.0835 - mae: 0.1461 - val_loss: 0.0876 - val_mae: 0.1541\n",
      "Epoch 42/50\n",
      "363/363 [==============================] - 0s 660us/step - loss: 0.0834 - mae: 0.1466 - val_loss: 0.0822 - val_mae: 0.1414\n",
      "Epoch 43/50\n",
      "363/363 [==============================] - 0s 651us/step - loss: 0.0833 - mae: 0.1455 - val_loss: 0.0834 - val_mae: 0.1434\n",
      "Epoch 44/50\n",
      "363/363 [==============================] - 0s 678us/step - loss: 0.0830 - mae: 0.1451 - val_loss: 0.0837 - val_mae: 0.1522\n",
      "Epoch 45/50\n",
      "363/363 [==============================] - 0s 664us/step - loss: 0.0832 - mae: 0.1455 - val_loss: 0.0829 - val_mae: 0.1425\n",
      "Epoch 46/50\n",
      "363/363 [==============================] - 0s 650us/step - loss: 0.0835 - mae: 0.1433 - val_loss: 0.0840 - val_mae: 0.1505\n",
      "Epoch 47/50\n",
      "363/363 [==============================] - 0s 658us/step - loss: 0.0834 - mae: 0.1449 - val_loss: 0.0827 - val_mae: 0.1412\n",
      "Epoch 48/50\n",
      "363/363 [==============================] - 0s 656us/step - loss: 0.0827 - mae: 0.1446 - val_loss: 0.0824 - val_mae: 0.1417\n",
      "Epoch 49/50\n",
      "363/363 [==============================] - 0s 657us/step - loss: 0.0831 - mae: 0.1451 - val_loss: 0.0824 - val_mae: 0.1402\n",
      "Epoch 50/50\n",
      "363/363 [==============================] - 0s 671us/step - loss: 0.0828 - mae: 0.1436 - val_loss: 0.0839 - val_mae: 0.1444\n"
     ]
    },
    {
     "data": {
      "text/plain": [
       "<keras.src.callbacks.History at 0xffff202dceb0>"
      ]
     },
     "execution_count": 32,
     "metadata": {},
     "output_type": "execute_result"
    }
   ],
   "source": [
    "# Train NN model\n",
    "nnmodel.fit(X_train, y_train, epochs=50, batch_size=32, validation_split=0.2)"
   ]
  },
  {
   "cell_type": "markdown",
   "id": "8fe8905a",
   "metadata": {},
   "source": [
    "## 5. Evaluation Phase"
   ]
  },
  {
   "cell_type": "code",
   "execution_count": 33,
   "id": "9ab9a72f",
   "metadata": {
    "scrolled": true
   },
   "outputs": [
    {
     "name": "stdout",
     "output_type": "stream",
     "text": [
      "114/114 [==============================] - 0s 473us/step - loss: 0.0750 - mae: 0.1400\n",
      "Mean absolute error (MAE) on test data: 0.14002910256385803\n"
     ]
    }
   ],
   "source": [
    "# Evaluate NN model\n",
    "loss, mae = nnmodel.evaluate(X_test, y_test)\n",
    "print(f'Mean absolute error (MAE) on test data: {mae}')"
   ]
  },
  {
   "cell_type": "code",
   "execution_count": 34,
   "id": "cb2aea64",
   "metadata": {},
   "outputs": [
    {
     "name": "stdout",
     "output_type": "stream",
     "text": [
      "1/1 [==============================] - 0s 31ms/step\n",
      "Predicted number of purchases: 1.313423991203308\n"
     ]
    }
   ],
   "source": [
    "# Make prediction\n",
    "new_customer = np.array([[8,4,2]])\n",
    "scaled_data = scaler.transform(new_customer)\n",
    "prediction = nnmodel.predict(scaled_data)\n",
    "\n",
    "print(f'Predicted number of purchases: {prediction[0][0]}')"
   ]
  },
  {
   "cell_type": "markdown",
   "id": "b579eca5",
   "metadata": {},
   "source": [
    "## 6. Deployment Phase"
   ]
  },
  {
   "cell_type": "code",
   "execution_count": 35,
   "id": "61016ef8",
   "metadata": {},
   "outputs": [],
   "source": [
    "# Hyperparameter tuning\n",
    "\n",
    "from tensorflow.keras.models import Sequential\n",
    "from tensorflow.keras.layers import Dense\n",
    "from tensorflow.keras.optimizers.legacy import Adam\n",
    "from itertools import product"
   ]
  },
  {
   "cell_type": "code",
   "execution_count": 36,
   "id": "23a73dc2",
   "metadata": {},
   "outputs": [],
   "source": [
    "# Define the model as a function \n",
    "def create_model(learning_rate=0.01, num_hidden_layers=2, num_neurons=32, activation='relu'):\n",
    "    model = Sequential()\n",
    "    model.add(Dense(num_neurons, activation=activation, input_shape=(3,)))\n",
    "    \n",
    "    for _ in range(num_hidden_layers - 1):\n",
    "        model.add(Dense(num_neurons, activation=activation))\n",
    "    \n",
    "    model.add(Dense(1)) #output layer, no activation function\n",
    "    \n",
    "    optimizer = Adam(learning_rate=learning_rate)\n",
    "    model.compile(optimizer=optimizer, loss='mean_squared_error', metrics=['mae'])\n",
    "    \n",
    "    return model"
   ]
  },
  {
   "cell_type": "code",
   "execution_count": 38,
   "id": "acd657c3",
   "metadata": {},
   "outputs": [],
   "source": [
    "# Define hyperparameters\n",
    "parameter_grid = {\n",
    "    'learning_rate': [0.001, 0.01, 0.1],\n",
    "    'num_hidden_layers': [1, 2, 3],\n",
    "    'num_neurons': [16, 32, 64],\n",
    "    'activation': ['relu', 'tanh']\n",
    "}"
   ]
  },
  {
   "cell_type": "code",
   "execution_count": 39,
   "id": "39991083",
   "metadata": {},
   "outputs": [],
   "source": [
    "# Perform the grid search\n",
    "best_parameter = None\n",
    "best_score = float('inf')"
   ]
  },
  {
   "cell_type": "code",
   "execution_count": 41,
   "id": "82e3bca3",
   "metadata": {
    "scrolled": true
   },
   "outputs": [
    {
     "name": "stdout",
     "output_type": "stream",
     "text": [
      "114/114 [==============================] - 0s 393us/step - loss: 0.0729 - mae: 0.1418\n",
      "114/114 [==============================] - 0s 429us/step - loss: 0.0770 - mae: 0.1568\n",
      "114/114 [==============================] - 0s 458us/step - loss: 0.0743 - mae: 0.1446\n",
      "114/114 [==============================] - 0s 494us/step - loss: 0.0776 - mae: 0.1589\n",
      "114/114 [==============================] - 0s 575us/step - loss: 0.0735 - mae: 0.1480\n",
      "114/114 [==============================] - 0s 598us/step - loss: 0.0785 - mae: 0.1575\n",
      "114/114 [==============================] - 0s 486us/step - loss: 0.0729 - mae: 0.1396\n",
      "114/114 [==============================] - 0s 476us/step - loss: 0.0726 - mae: 0.1425\n",
      "114/114 [==============================] - 0s 490us/step - loss: 0.0730 - mae: 0.1332\n",
      "114/114 [==============================] - 0s 473us/step - loss: 0.0741 - mae: 0.1499\n",
      "114/114 [==============================] - 0s 433us/step - loss: 0.0741 - mae: 0.1371\n",
      "114/114 [==============================] - 0s 493us/step - loss: 0.0743 - mae: 0.1501\n",
      "114/114 [==============================] - 0s 517us/step - loss: 0.0726 - mae: 0.1355\n",
      "114/114 [==============================] - 0s 468us/step - loss: 0.0741 - mae: 0.1430\n",
      "114/114 [==============================] - 0s 458us/step - loss: 0.0731 - mae: 0.1481\n",
      "114/114 [==============================] - 0s 515us/step - loss: 0.0742 - mae: 0.1462\n",
      "114/114 [==============================] - 0s 476us/step - loss: 0.0734 - mae: 0.1417\n",
      "114/114 [==============================] - 0s 465us/step - loss: 0.0722 - mae: 0.1436\n",
      "114/114 [==============================] - 0s 464us/step - loss: 0.0718 - mae: 0.1375\n",
      "114/114 [==============================] - 0s 437us/step - loss: 0.0744 - mae: 0.1394\n",
      "114/114 [==============================] - 0s 459us/step - loss: 0.0726 - mae: 0.1557\n",
      "114/114 [==============================] - 0s 463us/step - loss: 0.0730 - mae: 0.1535\n",
      "114/114 [==============================] - 0s 445us/step - loss: 0.0719 - mae: 0.1507\n",
      "114/114 [==============================] - 0s 432us/step - loss: 0.0747 - mae: 0.1395\n",
      "114/114 [==============================] - 0s 456us/step - loss: 0.0720 - mae: 0.1365\n",
      "114/114 [==============================] - 0s 487us/step - loss: 0.0735 - mae: 0.1376\n",
      "114/114 [==============================] - 0s 457us/step - loss: 0.0716 - mae: 0.1362\n",
      "114/114 [==============================] - 0s 437us/step - loss: 0.0773 - mae: 0.1561\n",
      "114/114 [==============================] - 0s 445us/step - loss: 0.0731 - mae: 0.1512\n",
      "114/114 [==============================] - 0s 488us/step - loss: 0.0872 - mae: 0.1661\n",
      "114/114 [==============================] - 0s 444us/step - loss: 0.0752 - mae: 0.1626\n",
      "114/114 [==============================] - 0s 407us/step - loss: 0.0735 - mae: 0.1355\n",
      "114/114 [==============================] - 0s 412us/step - loss: 0.0742 - mae: 0.1624\n",
      "114/114 [==============================] - 0s 413us/step - loss: 0.0805 - mae: 0.1770\n",
      "114/114 [==============================] - 0s 422us/step - loss: 0.0759 - mae: 0.1392\n",
      "114/114 [==============================] - 0s 428us/step - loss: 0.0878 - mae: 0.1625\n",
      "114/114 [==============================] - 0s 381us/step - loss: 0.0886 - mae: 0.1719\n",
      "114/114 [==============================] - 0s 397us/step - loss: 0.0967 - mae: 0.1543\n",
      "114/114 [==============================] - 0s 388us/step - loss: 0.1024 - mae: 0.2316\n",
      "114/114 [==============================] - 0s 403us/step - loss: 0.0791 - mae: 0.1574\n",
      "114/114 [==============================] - 0s 420us/step - loss: 0.0882 - mae: 0.1822\n",
      "114/114 [==============================] - 0s 405us/step - loss: 0.1381 - mae: 0.1958\n",
      "114/114 [==============================] - 0s 409us/step - loss: 0.0996 - mae: 0.1853\n",
      "114/114 [==============================] - 0s 415us/step - loss: 0.0975 - mae: 0.2518\n",
      "114/114 [==============================] - 0s 411us/step - loss: 0.1032 - mae: 0.1424\n",
      "114/114 [==============================] - 0s 412us/step - loss: 0.1185 - mae: 0.1649\n",
      "114/114 [==============================] - 0s 413us/step - loss: 0.0999 - mae: 0.1758\n",
      "114/114 [==============================] - 0s 407us/step - loss: 0.2646 - mae: 0.4766\n",
      "114/114 [==============================] - 0s 411us/step - loss: 0.0996 - mae: 0.1897\n",
      "114/114 [==============================] - 0s 406us/step - loss: 0.0911 - mae: 0.2447\n",
      "114/114 [==============================] - 0s 414us/step - loss: 0.0997 - mae: 0.1807\n",
      "114/114 [==============================] - 0s 419us/step - loss: 0.1592 - mae: 0.3182\n",
      "114/114 [==============================] - 0s 417us/step - loss: 0.1031 - mae: 0.2370\n",
      "114/114 [==============================] - 0s 415us/step - loss: 0.1287 - mae: 0.2099\n",
      "Best Hyperparameters:  {'learning_rate': 0.001, 'num_hidden_layers': 2, 'num_neurons': 32, 'activation': 'relu'}\n",
      "Best MAE Score:  0.13320353627204895\n"
     ]
    }
   ],
   "source": [
    "for learning_rate, num_hidden_layers, num_neurons, activation in product(\n",
    "    parameter_grid['learning_rate'],\n",
    "    parameter_grid['num_hidden_layers'],\n",
    "    parameter_grid['num_neurons'],\n",
    "    parameter_grid['activation']\n",
    "):\n",
    "    parameter = {\n",
    "        'learning_rate': learning_rate,\n",
    "        'num_hidden_layers': num_hidden_layers,\n",
    "        'num_neurons': num_neurons,\n",
    "        'activation': activation\n",
    "    }\n",
    "\n",
    "    # Create and compile the model\n",
    "    model1 = create_model(**parameter)\n",
    "\n",
    "    # Train the model on the training set\n",
    "    model1.fit(X_train, y_train, epochs=50, batch_size=32, verbose=0)\n",
    "\n",
    "    # Evaluate the model on the validation set\n",
    "    _, mae = model1.evaluate(X_test, y_test)\n",
    "\n",
    "    if mae < best_score:\n",
    "        best_score = mae\n",
    "        best_parameter = parameter\n",
    "\n",
    "# Print the best hyperparameters and corresponding score\n",
    "print(\"Best Hyperparameters: \", best_parameter)\n",
    "print(\"Best MAE Score: \", best_score)"
   ]
  },
  {
   "cell_type": "code",
   "execution_count": null,
   "id": "a95d420c",
   "metadata": {},
   "outputs": [],
   "source": []
  },
  {
   "cell_type": "code",
   "execution_count": null,
   "id": "52b9d512",
   "metadata": {},
   "outputs": [],
   "source": []
  }
 ],
 "metadata": {
  "kernelspec": {
   "display_name": "Python 3 (ipykernel)",
   "language": "python",
   "name": "python3"
  },
  "language_info": {
   "codemirror_mode": {
    "name": "ipython",
    "version": 3
   },
   "file_extension": ".py",
   "mimetype": "text/x-python",
   "name": "python",
   "nbconvert_exporter": "python",
   "pygments_lexer": "ipython3",
   "version": "3.10.12"
  }
 },
 "nbformat": 4,
 "nbformat_minor": 5
}
