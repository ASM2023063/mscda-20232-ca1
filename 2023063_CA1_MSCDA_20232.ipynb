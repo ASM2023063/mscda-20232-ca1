{
 "cells": [
  {
   "cell_type": "markdown",
   "id": "ccd96e50",
   "metadata": {},
   "source": [
    "# Title \n",
    "\n",
    "Continuous Assessment 1 06/10/2023 - BD & ADA Module // MSc in Data Analytics Y1 S2 - <b>Student ID 2023063"
   ]
  },
  {
   "cell_type": "markdown",
   "id": "423f3725",
   "metadata": {},
   "source": [
    "## Introduction\n",
    "write intro\n",
    "\n",
    "--\n",
    "\n",
    "Data source: https://www.kaggle.com/datasets/mkechinov/ecommerce-events-history-in-cosmetics-shop/data"
   ]
  },
  {
   "cell_type": "markdown",
   "id": "2c4a3e85",
   "metadata": {},
   "source": [
    "## Practical Big Data (PySparkSQL) - Prep data"
   ]
  },
  {
   "cell_type": "code",
   "execution_count": 1,
   "id": "e371a84a",
   "metadata": {},
   "outputs": [],
   "source": [
    "#Import PySparkSQL\n",
    "import pyspark\n",
    "from pyspark.sql import SparkSession        \n",
    "\n",
    "# Create SparkSession\n",
    "spark = (SparkSession\n",
    "  .builder\n",
    "  .appName(\"SparkSQL\")\n",
    "  .getOrCreate())\n",
    "\n",
    "# Path to dataset\n",
    "csv_file = \"file:////home/hduser/Downloads/CA1/2020-Jan.csv\""
   ]
  },
  {
   "cell_type": "code",
   "execution_count": 2,
   "id": "4092a2de",
   "metadata": {
    "scrolled": true
   },
   "outputs": [
    {
     "name": "stderr",
     "output_type": "stream",
     "text": [
      "                                                                                \r"
     ]
    }
   ],
   "source": [
    "# Read and create a temporary view\n",
    "df = (spark.read.format(\"csv\")\n",
    "  .option(\"inferSchema\", \"true\")\n",
    "  .option(\"header\", \"true\")\n",
    "  .load(csv_file))\n",
    "df.createOrReplaceTempView(\"rawdata\")"
   ]
  },
  {
   "cell_type": "code",
   "execution_count": 3,
   "id": "adb7dbdf",
   "metadata": {},
   "outputs": [
    {
     "name": "stdout",
     "output_type": "stream",
     "text": [
      "root\n",
      " |-- event_time: string (nullable = true)\n",
      " |-- event_type: string (nullable = true)\n",
      " |-- product_id: integer (nullable = true)\n",
      " |-- category_id: long (nullable = true)\n",
      " |-- category_code: string (nullable = true)\n",
      " |-- brand: string (nullable = true)\n",
      " |-- price: double (nullable = true)\n",
      " |-- user_id: integer (nullable = true)\n",
      " |-- user_session: string (nullable = true)\n",
      "\n"
     ]
    }
   ],
   "source": [
    "# Visualise inferred schema\n",
    "data = spark.sql(\"SELECT * FROM rawdata\")\n",
    "data.printSchema()"
   ]
  },
  {
   "cell_type": "code",
   "execution_count": 4,
   "id": "5e9538a1",
   "metadata": {},
   "outputs": [
    {
     "name": "stdout",
     "output_type": "stream",
     "text": [
      "+--------------------+----------+----------+-------------------+-------------+--------+-----+---------+--------------------+\n",
      "|          event_time|event_type|product_id|        category_id|category_code|   brand|price|  user_id|        user_session|\n",
      "+--------------------+----------+----------+-------------------+-------------+--------+-----+---------+--------------------+\n",
      "|2020-01-01 00:00:...|      view|   5809910|1602943681873052386|         null| grattol| 5.24|595414620|4adb70bb-edbd-498...|\n",
      "|2020-01-01 00:00:...|      view|   5812943|1487580012121948301|         null|kinetics| 3.97|595414640|c8c5205d-be43-4f1...|\n",
      "|2020-01-01 00:00:...|      view|   5798924|1783999068867920626|         null|  zinger| 3.97|595412617|46a5010f-bd69-4fb...|\n",
      "|2020-01-01 00:00:...|      view|   5793052|1487580005754995573|         null|    null| 4.92|420652863|546f6af3-a517-475...|\n",
      "|2020-01-01 00:00:...|      view|   5899926|2115334439910245200|         null|    null| 3.92|484071203|cff70ddf-529e-4b0...|\n",
      "+--------------------+----------+----------+-------------------+-------------+--------+-----+---------+--------------------+\n",
      "only showing top 5 rows\n",
      "\n"
     ]
    }
   ],
   "source": [
    "# Display 5 first rows\n",
    "data.show(5)"
   ]
  },
  {
   "cell_type": "code",
   "execution_count": 5,
   "id": "8a687f4a",
   "metadata": {
    "scrolled": true
   },
   "outputs": [
    {
     "name": "stderr",
     "output_type": "stream",
     "text": [
      "\r",
      "[Stage 3:>                                                          (0 + 4) / 4]\r"
     ]
    },
    {
     "name": "stdout",
     "output_type": "stream",
     "text": [
      "+-----------------------+\n",
      "|count(DISTINCT user_id)|\n",
      "+-----------------------+\n",
      "|                 410073|\n",
      "+-----------------------+\n",
      "\n"
     ]
    },
    {
     "name": "stderr",
     "output_type": "stream",
     "text": [
      "\r",
      "                                                                                \r"
     ]
    }
   ],
   "source": [
    "# Number of users\n",
    "action = spark.sql(\"SELECT count(distinct user_id) FROM rawdata\")\n",
    "action.show()"
   ]
  },
  {
   "cell_type": "code",
   "execution_count": 6,
   "id": "0736d8fa",
   "metadata": {
    "scrolled": true
   },
   "outputs": [
    {
     "name": "stderr",
     "output_type": "stream",
     "text": [
      "\r",
      "[Stage 9:>                                                          (0 + 4) / 4]\r"
     ]
    },
    {
     "name": "stdout",
     "output_type": "stream",
     "text": [
      "+--------------------------+\n",
      "|count(DISTINCT event_type)|\n",
      "+--------------------------+\n",
      "|                         4|\n",
      "+--------------------------+\n",
      "\n"
     ]
    },
    {
     "name": "stderr",
     "output_type": "stream",
     "text": [
      "\r",
      "                                                                                \r"
     ]
    }
   ],
   "source": [
    "# Number of events\n",
    "action = spark.sql(\"SELECT count(distinct event_type) FROM rawdata\")\n",
    "action.show()"
   ]
  },
  {
   "cell_type": "code",
   "execution_count": 7,
   "id": "1e0e4bd9",
   "metadata": {
    "scrolled": true
   },
   "outputs": [
    {
     "name": "stderr",
     "output_type": "stream",
     "text": [
      "\r",
      "[Stage 15:>                                                         (0 + 4) / 4]\r"
     ]
    },
    {
     "name": "stdout",
     "output_type": "stream",
     "text": [
      "+--------------------------+\n",
      "|count(DISTINCT product_id)|\n",
      "+--------------------------+\n",
      "|                     45484|\n",
      "+--------------------------+\n",
      "\n"
     ]
    },
    {
     "name": "stderr",
     "output_type": "stream",
     "text": [
      "\r",
      "                                                                                \r"
     ]
    }
   ],
   "source": [
    "# Number of products\n",
    "action = spark.sql(\"SELECT count(distinct product_id) FROM rawdata\")\n",
    "action.show()"
   ]
  },
  {
   "cell_type": "code",
   "execution_count": 8,
   "id": "f01dd707",
   "metadata": {},
   "outputs": [
    {
     "name": "stderr",
     "output_type": "stream",
     "text": [
      "\r",
      "[Stage 21:>                                                         (0 + 4) / 4]\r"
     ]
    },
    {
     "name": "stdout",
     "output_type": "stream",
     "text": [
      "+----------+--------+\n",
      "|product_id|count(1)|\n",
      "+----------+--------+\n",
      "|   5809910|   36967|\n",
      "|   5809912|   14310|\n",
      "|   5917178|   12634|\n",
      "|   5700037|   11429|\n",
      "|   5686925|   11098|\n",
      "+----------+--------+\n",
      "only showing top 5 rows\n",
      "\n"
     ]
    },
    {
     "name": "stderr",
     "output_type": "stream",
     "text": [
      "\r",
      "                                                                                \r"
     ]
    }
   ],
   "source": [
    "# Top seller product\n",
    "countProduct = spark.sql(\"SELECT product_id, count(*) FROM rawdata GROUP BY product_id ORDER BY count(*) desc\")\n",
    "countProduct.show(5)"
   ]
  },
  {
   "cell_type": "code",
   "execution_count": 9,
   "id": "416667e5",
   "metadata": {
    "scrolled": false
   },
   "outputs": [
    {
     "name": "stderr",
     "output_type": "stream",
     "text": [
      "\r",
      "[Stage 24:>                                                         (0 + 4) / 4]\r"
     ]
    },
    {
     "name": "stdout",
     "output_type": "stream",
     "text": [
      "+--------------------+----------------+----------+-------------------+-------------+-------+-----+---------+--------------------+\n",
      "|          event_time|      event_type|product_id|        category_id|category_code|  brand|price|  user_id|        user_session|\n",
      "+--------------------+----------------+----------+-------------------+-------------+-------+-----+---------+--------------------+\n",
      "|2020-01-01 00:00:...|            view|   5809910|1602943681873052386|         null|grattol| 5.24|595414620|4adb70bb-edbd-498...|\n",
      "|2020-01-01 14:21:...|            view|   5809910|1602943681873052386|         null|grattol| 5.24|592285428|33ecf984-0438-459...|\n",
      "|2020-01-01 16:56:...|            view|   5809910|1602943681873052386|         null|grattol| 5.24|595651372|121148f9-4e42-48b...|\n",
      "|2020-01-01 18:40:...|remove_from_cart|   5809910|1602943681873052386|         null|grattol| 5.24|583351843|85fa8bff-02e8-4a5...|\n",
      "|2020-01-02 06:09:...|            view|   5809910|1602943681873052386|         null|grattol| 5.24|529378930|b99ea2eb-1c67-4f3...|\n",
      "+--------------------+----------------+----------+-------------------+-------------+-------+-----+---------+--------------------+\n",
      "only showing top 5 rows\n",
      "\n"
     ]
    },
    {
     "name": "stderr",
     "output_type": "stream",
     "text": [
      "\r",
      "                                                                                \r"
     ]
    }
   ],
   "source": [
    "# New dataframe with topseller product\n",
    "topseller = spark.sql(\"SELECT DISTINCT * FROM rawdata WHERE product_id LIKE 5809910\")\n",
    "topseller.show(5)"
   ]
  },
  {
   "cell_type": "code",
   "execution_count": 10,
   "id": "72a02565",
   "metadata": {},
   "outputs": [
    {
     "data": {
      "text/plain": [
       "'# Add new column with condition to topseller df\\n# If event_time is in the first couple of weeks of the month, column FN1 (fortnight1) is equals to 1 (True)\\n# If in the last 2 weeks of the month column FN1 is equals 0 (False)\\n\\nfrom pyspark.sql.functions import when\\nfrom pyspark.sql.functions import lit\\n\\ntopseller = topseller.withColumn(\"FN1\",    when((topseller.event_time < \\'2020-01-16\\'), lit(1))      .when((topseller.event_time >= \\'2020-01-15\\'), lit(0))                                 )'"
      ]
     },
     "execution_count": 10,
     "metadata": {},
     "output_type": "execute_result"
    }
   ],
   "source": [
    "'''# Add new column with condition to topseller df\n",
    "# If event_time is in the first couple of weeks of the month, column FN1 (fortnight1) is equals to 1 (True)\n",
    "# If in the last 2 weeks of the month column FN1 is equals 0 (False)\n",
    "\n",
    "from pyspark.sql.functions import when\n",
    "from pyspark.sql.functions import lit\n",
    "\n",
    "topseller = topseller.withColumn(\"FN1\", \\\n",
    "   when((topseller.event_time < '2020-01-16'), lit(1)) \\\n",
    "     .when((topseller.event_time >= '2020-01-15'), lit(0)) \\\n",
    "                                )'''"
   ]
  },
  {
   "cell_type": "code",
   "execution_count": 11,
   "id": "612ddc2c",
   "metadata": {},
   "outputs": [
    {
     "data": {
      "text/plain": [
       "'# Show dataframe\\ntopseller.show(5)'"
      ]
     },
     "execution_count": 11,
     "metadata": {},
     "output_type": "execute_result"
    }
   ],
   "source": [
    "'''# Show dataframe\n",
    "topseller.show(5)'''"
   ]
  },
  {
   "cell_type": "code",
   "execution_count": 12,
   "id": "c90ecbd1",
   "metadata": {},
   "outputs": [],
   "source": [
    "# Drop columns\n",
    "topseller = topseller.drop(*[\"product_id\",\"category_id\",\"category_code\",\"brand\",\"price\"])"
   ]
  },
  {
   "cell_type": "code",
   "execution_count": 13,
   "id": "0f7db6ed",
   "metadata": {
    "scrolled": false
   },
   "outputs": [
    {
     "name": "stderr",
     "output_type": "stream",
     "text": [
      "\r",
      "[Stage 27:>                                                         (0 + 4) / 4]\r"
     ]
    },
    {
     "name": "stdout",
     "output_type": "stream",
     "text": [
      "+-----------------------+----------------+---------+------------------------------------+\n",
      "|event_time             |event_type      |user_id  |user_session                        |\n",
      "+-----------------------+----------------+---------+------------------------------------+\n",
      "|2020-01-01 00:00:00 UTC|view            |595414620|4adb70bb-edbd-4981-b60f-a05bfd32683a|\n",
      "|2020-01-01 14:21:02 UTC|view            |592285428|33ecf984-0438-459c-aea6-241319336d75|\n",
      "|2020-01-01 16:56:51 UTC|view            |595651372|121148f9-4e42-48ba-94eb-7aca8935940b|\n",
      "|2020-01-01 18:40:56 UTC|remove_from_cart|583351843|85fa8bff-02e8-4a5f-80b8-a129ce5555e3|\n",
      "|2020-01-02 06:09:01 UTC|view            |529378930|b99ea2eb-1c67-4f39-ab20-792ebfb87f93|\n",
      "|2020-01-02 08:21:31 UTC|view            |595842440|b257db78-93e8-46d4-9893-56194751a4d9|\n",
      "|2020-01-03 06:16:01 UTC|view            |595798798|8b2d9742-eb2f-4bbd-8387-ace81cfdef2a|\n",
      "|2020-01-03 11:17:22 UTC|cart            |596055322|74521846-45da-4a1e-a61e-19fbe7f6fb82|\n",
      "|2020-01-03 11:18:18 UTC|view            |552479336|46093a80-aae3-4d2d-a734-44c0acd990e3|\n",
      "|2020-01-03 11:57:45 UTC|view            |184175105|61552a84-dd9b-4198-8b8e-9f906b0bc7ac|\n",
      "+-----------------------+----------------+---------+------------------------------------+\n",
      "only showing top 10 rows\n",
      "\n"
     ]
    },
    {
     "name": "stderr",
     "output_type": "stream",
     "text": [
      "\r",
      "                                                                                \r"
     ]
    }
   ],
   "source": [
    "# Show updated topseller df\n",
    "topseller.show(10,False)"
   ]
  },
  {
   "cell_type": "code",
   "execution_count": 14,
   "id": "0bc49d79",
   "metadata": {
    "scrolled": false
   },
   "outputs": [
    {
     "name": "stderr",
     "output_type": "stream",
     "text": [
      "\r",
      "[Stage 30:>                                                         (0 + 4) / 4]\r"
     ]
    },
    {
     "name": "stdout",
     "output_type": "stream",
     "text": [
      "+-----------------------+----------+------------------------------------+\n",
      "|event_time             |event_type|user_session                        |\n",
      "+-----------------------+----------+------------------------------------+\n",
      "|2020-01-07 14:33:37 UTC|view      |d6151353-322f-4a7a-b3a4-0c4c0e52e2f5|\n",
      "|2020-01-07 14:39:42 UTC|cart      |d6151353-322f-4a7a-b3a4-0c4c0e52e2f5|\n",
      "|2020-01-07 18:05:19 UTC|purchase  |697d43d2-07f9-4c59-aa7c-8dca123cebc0|\n",
      "+-----------------------+----------+------------------------------------+\n",
      "\n"
     ]
    },
    {
     "name": "stderr",
     "output_type": "stream",
     "text": [
      "\r",
      "[Stage 30:===========================================>              (3 + 1) / 4]\r",
      "\r",
      "                                                                                \r"
     ]
    }
   ],
   "source": [
    "# Customer behaviour before purchasing example\n",
    "# Random customer collected from filtering event_type: 'purchase' \n",
    "from pyspark.sql.functions import asc\n",
    "topseller.select(\"event_time\",\"event_type\",\"user_session\").filter(\"user_id = 431397250\").orderBy(asc(\"event_time\")).show(truncate=False)"
   ]
  },
  {
   "cell_type": "code",
   "execution_count": 15,
   "id": "3a865516",
   "metadata": {},
   "outputs": [
    {
     "name": "stderr",
     "output_type": "stream",
     "text": [
      "\r",
      "[Stage 33:>                                                         (0 + 4) / 4]\r"
     ]
    },
    {
     "name": "stdout",
     "output_type": "stream",
     "text": [
      "+-----------------------+----------+------------------------------------+\n",
      "|event_time             |event_type|user_session                        |\n",
      "+-----------------------+----------+------------------------------------+\n",
      "|2020-01-28 06:12:26 UTC|cart      |5549dfe6-109e-497f-a9f2-01c0aecdd73f|\n",
      "|2020-01-28 06:14:08 UTC|view      |5549dfe6-109e-497f-a9f2-01c0aecdd73f|\n",
      "|2020-01-28 06:17:17 UTC|view      |5549dfe6-109e-497f-a9f2-01c0aecdd73f|\n",
      "|2020-01-28 06:53:25 UTC|purchase  |67347fb6-2e23-4695-8d32-03829cc6fdaf|\n",
      "+-----------------------+----------+------------------------------------+\n",
      "\n"
     ]
    },
    {
     "name": "stderr",
     "output_type": "stream",
     "text": [
      "\r",
      "                                                                                \r"
     ]
    }
   ],
   "source": [
    "# Customer behaviour before purchasing example\n",
    "# Random customer collected from filtering event_type: 'purchase' \n",
    "from pyspark.sql.functions import asc\n",
    "topseller.select(\"event_time\",\"event_type\",\"user_session\").filter(\"user_id = 46383252\").orderBy(asc(\"event_time\")).show(30,truncate=False)"
   ]
  },
  {
   "cell_type": "code",
   "execution_count": 16,
   "id": "3da136b1",
   "metadata": {},
   "outputs": [],
   "source": [
    "# Sort ASC topseller df by user_id and event \n",
    "sorted_by_user_event = topseller.orderBy([\"user_id\",\"event_type\"], ascending= [True, True])"
   ]
  },
  {
   "cell_type": "code",
   "execution_count": 17,
   "id": "ca78b5c6",
   "metadata": {},
   "outputs": [
    {
     "name": "stderr",
     "output_type": "stream",
     "text": [
      "\r",
      "[Stage 36:>                                                         (0 + 4) / 4]\r"
     ]
    },
    {
     "name": "stdout",
     "output_type": "stream",
     "text": [
      "+-----------------------+----------------+--------+------------------------------------+\n",
      "|event_time             |event_type      |user_id |user_session                        |\n",
      "+-----------------------+----------------+--------+------------------------------------+\n",
      "|2020-01-28 05:43:43 UTC|view            |4661182 |ce380fb8-bfdd-49a5-949f-eeac2c349af1|\n",
      "|2020-01-28 05:41:23 UTC|view            |4661182 |ce380fb8-bfdd-49a5-949f-eeac2c349af1|\n",
      "|2020-01-14 09:33:54 UTC|cart            |12961898|6cb94e2c-4db2-46ac-8c11-1ced638112bc|\n",
      "|2020-01-13 11:36:50 UTC|cart            |12961898|91ceb8ab-fa0f-4929-b02e-9f36a19e73a5|\n",
      "|2020-01-27 09:37:44 UTC|remove_from_cart|12961898|ea56a517-171d-4740-a9f7-f628f40274c8|\n",
      "+-----------------------+----------------+--------+------------------------------------+\n",
      "only showing top 5 rows\n",
      "\n"
     ]
    },
    {
     "name": "stderr",
     "output_type": "stream",
     "text": [
      "\r",
      "[Stage 36:===========================================>              (3 + 1) / 4]\r",
      "\r",
      "                                                                                \r"
     ]
    }
   ],
   "source": [
    "# Return result\n",
    "sorted_by_user_event.show(5,truncate=False)"
   ]
  },
  {
   "cell_type": "code",
   "execution_count": 18,
   "id": "c9d8776b",
   "metadata": {},
   "outputs": [],
   "source": [
    "# Group df by user_id and event_type\n",
    "event_type_count_user = sorted_by_user_event.groupby('user_id','event_type').count()"
   ]
  },
  {
   "cell_type": "code",
   "execution_count": 19,
   "id": "fe8b368b",
   "metadata": {},
   "outputs": [],
   "source": [
    "# New df with organised data counting event_type by user_id\n",
    "sorted_event_type_count_user = event_type_count_user.orderBy([\"user_id\",\"event_type\"], ascending= [True, True])"
   ]
  },
  {
   "cell_type": "code",
   "execution_count": 20,
   "id": "3bf89dd1",
   "metadata": {
    "scrolled": false
   },
   "outputs": [
    {
     "name": "stderr",
     "output_type": "stream",
     "text": [
      "\r",
      "[Stage 39:>                                                         (0 + 4) / 4]\r"
     ]
    },
    {
     "name": "stdout",
     "output_type": "stream",
     "text": [
      "+--------+----------------+-----+\n",
      "| user_id|      event_type|count|\n",
      "+--------+----------------+-----+\n",
      "| 4661182|            view|    2|\n",
      "|12961898|            cart|    2|\n",
      "|12961898|remove_from_cart|    1|\n",
      "|27692594|            cart|    1|\n",
      "|31272873|            cart|    1|\n",
      "|31272873|remove_from_cart|    1|\n",
      "|46383252|            cart|    1|\n",
      "|46383252|        purchase|    1|\n",
      "|46383252|            view|    2|\n",
      "|47076222|            view|    5|\n",
      "+--------+----------------+-----+\n",
      "only showing top 10 rows\n",
      "\n"
     ]
    },
    {
     "name": "stderr",
     "output_type": "stream",
     "text": [
      "\r",
      "                                                                                \r"
     ]
    }
   ],
   "source": [
    "# Display new df\n",
    "sorted_event_type_count_user.show(10)"
   ]
  },
  {
   "cell_type": "code",
   "execution_count": 25,
   "id": "4d900040",
   "metadata": {},
   "outputs": [
    {
     "data": {
      "text/html": [
       "<div>\n",
       "<style scoped>\n",
       "    .dataframe tbody tr th:only-of-type {\n",
       "        vertical-align: middle;\n",
       "    }\n",
       "\n",
       "    .dataframe tbody tr th {\n",
       "        vertical-align: top;\n",
       "    }\n",
       "\n",
       "    .dataframe thead th {\n",
       "        text-align: right;\n",
       "    }\n",
       "</style>\n",
       "<table border=\"1\" class=\"dataframe\">\n",
       "  <thead>\n",
       "    <tr style=\"text-align: right;\">\n",
       "      <th></th>\n",
       "      <th>user_id</th>\n",
       "      <th>event_type</th>\n",
       "      <th>count</th>\n",
       "    </tr>\n",
       "  </thead>\n",
       "  <tbody>\n",
       "    <tr>\n",
       "      <th>0</th>\n",
       "      <td>4661182</td>\n",
       "      <td>view</td>\n",
       "      <td>2</td>\n",
       "    </tr>\n",
       "    <tr>\n",
       "      <th>1</th>\n",
       "      <td>12961898</td>\n",
       "      <td>cart</td>\n",
       "      <td>2</td>\n",
       "    </tr>\n",
       "    <tr>\n",
       "      <th>2</th>\n",
       "      <td>12961898</td>\n",
       "      <td>remove_from_cart</td>\n",
       "      <td>1</td>\n",
       "    </tr>\n",
       "    <tr>\n",
       "      <th>3</th>\n",
       "      <td>27692594</td>\n",
       "      <td>cart</td>\n",
       "      <td>1</td>\n",
       "    </tr>\n",
       "    <tr>\n",
       "      <th>4</th>\n",
       "      <td>31272873</td>\n",
       "      <td>cart</td>\n",
       "      <td>1</td>\n",
       "    </tr>\n",
       "  </tbody>\n",
       "</table>\n",
       "</div>"
      ],
      "text/plain": [
       "    user_id        event_type  count\n",
       "0   4661182              view      2\n",
       "1  12961898              cart      2\n",
       "2  12961898  remove_from_cart      1\n",
       "3  27692594              cart      1\n",
       "4  31272873              cart      1"
      ]
     },
     "execution_count": 25,
     "metadata": {},
     "output_type": "execute_result"
    }
   ],
   "source": [
    "# Convert PySpark Dataframe to Pandas\n",
    "pandas_df = sorted_event_type_count_user.toPandas()\n",
    "pandas_df.head()"
   ]
  },
  {
   "cell_type": "code",
   "execution_count": null,
   "id": "e8c2bfe1",
   "metadata": {},
   "outputs": [],
   "source": []
  }
 ],
 "metadata": {
  "kernelspec": {
   "display_name": "Python 3 (ipykernel)",
   "language": "python",
   "name": "python3"
  },
  "language_info": {
   "codemirror_mode": {
    "name": "ipython",
    "version": 3
   },
   "file_extension": ".py",
   "mimetype": "text/x-python",
   "name": "python",
   "nbconvert_exporter": "python",
   "pygments_lexer": "ipython3",
   "version": "3.10.12"
  }
 },
 "nbformat": 4,
 "nbformat_minor": 5
}
